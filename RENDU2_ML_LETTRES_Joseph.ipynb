{
  "cells": [
    {
      "cell_type": "markdown",
      "metadata": {
        "id": "e0IEHcmCnvp0"
      },
      "source": [
        "#Cours de Machine Learning (Lettres), Semestre d'Automne 2024 - Rendu 2\n",
        "\n",
        "##Professeur : Guillaume Guex\n",
        "##Auteur : Joseph Grob\n",
        "\n",
        "##Informations générales sur le code et le fichier.txt utilisés:\n",
        "\n",
        "- Le code a été exécuté avec CPU comme type d'exécution.\n",
        "\n",
        "- Toutes les bibliothèques utilisées proviennent du cours et des TPs. L'essentiel du code provient du cours et des TPs. Aussi, le modèle pré-entrainé pour l'analyse des sentiments (avec IMBD) \"bert-base-uncased\" est le même que celui utilisé lors du TP 12 et nous l'avons récupéré du Google drive du professeur au lien suivant qui se trouve sur Moodle : https://drive.google.com/drive/folders/1qk69hJr7GBg4KHN6mikRTrKDjc5RuQI3.\n",
        "\n",
        "- Les analyses des résultats et les commentaires proviennnent du contenu du cours et de ma propre réflexion sur le sujet.\n",
        "\n",
        "- Tout le travail a été réalisé sur le fichier.txt du livre (au complet) \"Alice in Wonderland\" de Lewis Carroll (1865) que j'ai trouvé sur le site www.gutenberg.org via l'URL suivant : https://www.gutenberg.org/ebooks/11. Soulignons que certains paratextes, comme ces éléments : La page de garde, la page de titre, le colophon, la préface, la table des matières, ainsi que les notes, les indexs et les glossaires ont été supprimés manuellement du fichier.txt avant le lancement du code. Avant le lancement du code, nous avons donc un texte avec uniquement les chapitres et le texte principal.\n",
        "\n",
        "##Source:\n",
        "\n",
        "- Carroll, Lewis. Alice's Adventures in Wonderland. Project Gutenberg, eBook No. 11, publié pour la première fois le 27 juin 2008, mise à jour le 10 novembre 2024. Disponible en ligne : https://www.gutenberg.org/ebooks/11.\n"
      ]
    },
    {
      "cell_type": "markdown",
      "metadata": {
        "id": "wBaC0CijPhWr"
      },
      "source": [
        "# Partie 1 : Pré-traitements et statistiques"
      ]
    },
    {
      "cell_type": "markdown",
      "metadata": {
        "id": "3nYwO3H6P7g1"
      },
      "source": [
        "##1.1"
      ]
    },
    {
      "cell_type": "code",
      "execution_count": null,
      "metadata": {
        "colab": {
          "base_uri": "https://localhost:8080/"
        },
        "id": "sRkV1YXMGrPJ",
        "outputId": "ed62debc-1cb3-4807-ea2b-e1b50756881e"
      },
      "outputs": [
        {
          "output_type": "stream",
          "name": "stdout",
          "text": [
            "Nombre total de chapitres détectés : 12\n",
            "Liste des fichiers créés :\n",
            "chapter_01.txt\n",
            "chapter_02.txt\n",
            "chapter_03.txt\n",
            "chapter_04.txt\n",
            "chapter_05.txt\n",
            "chapter_06.txt\n",
            "chapter_07.txt\n",
            "chapter_08.txt\n",
            "chapter_09.txt\n",
            "chapter_10.txt\n",
            "chapter_11.txt\n",
            "chapter_12.txt\n"
          ]
        }
      ],
      "source": [
        "# Module pour gérer les opérations système, comme la gestion des fichiers et des dossiers\n",
        "import os\n",
        "# Module pour travailler avec les expressions régulières (regex), utile pour le traitement de texte\n",
        "import re\n",
        "\n",
        "# Lire le fichier complet\n",
        "with open(\"ALICE_WONDERLAND.txt\", \"r\", encoding=\"utf-8\") as file:\n",
        "    text = file.read()\n",
        "\n",
        "# Regex pour détecter les chapitres\n",
        "chapter_regex = r\"(CHAPTER\\s+[IVXLCDM]+\\.)\"\n",
        "\n",
        "# Séparer par chapitres\n",
        "chapters = re.split(chapter_regex, text)\n",
        "\n",
        "# Regrouper le titre \"CHAPTER ...\" avec son contenu\n",
        "chapters = [chapters[i] + chapters[i + 1] for i in range(1, len(chapters) - 1, 2)]\n",
        "\n",
        "# Supprimer les lignes inutiles ou séparatrices dans chaque chapitre\n",
        "cleaned_chapters = []\n",
        "for chapter in chapters:\n",
        "    lines = chapter.splitlines()\n",
        "    cleaned_lines = [\n",
        "        line for line in lines if not re.match(chapter_regex, line.strip())\n",
        "    ]\n",
        "    cleaned_chapters.append(\"\\n\".join(cleaned_lines))\n",
        "\n",
        "# Créer un dossier pour sauvegarder les chapitres\n",
        "output_dir = \"chapters_corrected\"\n",
        "os.makedirs(output_dir, exist_ok=True)\n",
        "\n",
        "# Sauvegarder chaque chapitre dans un fichier séparé\n",
        "for i, chapter in enumerate(cleaned_chapters, start=1):\n",
        "    with open(f\"{output_dir}/chapter_{i:02d}.txt\", \"w\", encoding=\"utf-8\") as file:\n",
        "        file.write(chapter.strip())\n",
        "\n",
        "# Afficher un récapitulatif\n",
        "print(f\"Nombre total de chapitres détectés : {len(cleaned_chapters)}\")\n",
        "print(\"Liste des fichiers créés :\")\n",
        "for file_name in sorted(os.listdir(output_dir)):\n",
        "    print(file_name)\n",
        "\n"
      ]
    },
    {
      "cell_type": "code",
      "execution_count": null,
      "metadata": {
        "colab": {
          "base_uri": "https://localhost:8080/"
        },
        "id": "Nv9B7udYG8t2",
        "outputId": "237c3d8a-3d69-4e24-b1ec-d072266aa31e"
      },
      "outputs": [
        {
          "output_type": "stream",
          "name": "stdout",
          "text": [
            "Chapitre 1 - 30 premiers mots :\n",
            "Down the Rabbit-Hole Alice was beginning to get very tired of sitting by her sister on the bank, and of having nothing to do: once or twice she had peeped\n",
            "--------------------------------------------------------------------------------\n",
            "Chapitre 5 - 30 premiers mots :\n",
            "Advice from a Caterpillar The Caterpillar and Alice looked at each other for some time in silence: at last the Caterpillar took the hookah out of its mouth, and addressed\n",
            "--------------------------------------------------------------------------------\n",
            "Chapitre 10 - 30 premiers mots :\n",
            "The Lobster Quadrille The Mock Turtle sighed deeply, and drew the back of one flapper across his eyes. He looked at Alice, and tried to speak, but for a minute\n",
            "--------------------------------------------------------------------------------\n"
          ]
        }
      ],
      "source": [
        "import os\n",
        "\n",
        "# Fonction pour lire les premiers mots du fichier texte\n",
        "def get_first_words(file_path, num_words=30):\n",
        "    \"\"\"Lit le fichier et retourne les num_words premiers mots.\"\"\"\n",
        "    with open(file_path, \"r\", encoding=\"utf-8\") as file:\n",
        "        content = file.read()\n",
        "    # Diviser le texte en mots\n",
        "    words = content.split()\n",
        "    # Retourner les premiers mots demandés\n",
        "    return \" \".join(words[:num_words])\n",
        "\n",
        "# Chemin du dossier contenant les chapitres\n",
        "output_dir = \"chapters_corrected\"\n",
        "\n",
        "# Chapitres à lire\n",
        "chapters_to_read = [1, 5, 10]\n",
        "\n",
        "# Affichage des premiers mots de chaque chapitre\n",
        "for chapter_num in chapters_to_read:\n",
        "    file_name = f\"chapter_{chapter_num:02d}.txt\"\n",
        "    file_path = os.path.join(output_dir, file_name)\n",
        "    if os.path.exists(file_path):\n",
        "        first_words = get_first_words(file_path)\n",
        "        print(f\"Chapitre {chapter_num} - 30 premiers mots :\")\n",
        "        print(first_words)\n",
        "        print(\"-\" * 80)\n",
        "    else:\n",
        "        print(f\"Fichier {file_name} introuvable dans {output_dir}.\")\n"
      ]
    },
    {
      "cell_type": "markdown",
      "metadata": {
        "id": "IQoK7pZCQEqP"
      },
      "source": [
        "##1.2"
      ]
    },
    {
      "cell_type": "code",
      "execution_count": null,
      "metadata": {
        "colab": {
          "base_uri": "https://localhost:8080/"
        },
        "id": "Cb_hyGDsHsz3",
        "outputId": "8c7e21f8-dba2-4ea4-918a-94b6474a3150"
      },
      "outputs": [
        {
          "output_type": "stream",
          "name": "stdout",
          "text": [
            "Statistiques pour le chapitre 1 (avec espaces exclus) :\n",
            "{'n_tokens': 2823, 'n_lemmas': 799, 'n_lemma_types': 373, 'top_5_lemmas': [('alice', 28), ('think', 17), ('little', 15), ('way', 13), ('go', 13)], 'pos_distrib': {'ADP': 248, 'DET': 183, 'PROPN': 63, 'PUNCT': 429, 'SPACE': 175, 'AUX': 153, 'VERB': 339, 'PART': 75, 'ADV': 199, 'ADJ': 120, 'PRON': 331, 'NOUN': 300, 'CCONJ': 103, 'SCONJ': 78, 'INTJ': 14, 'NUM': 13}, 'top_5_entities': [('Alice', 28), ('Down', 2), ('Latitude', 1), ('Longitude', 1)]}\n"
          ]
        }
      ],
      "source": [
        "# Bibliothèque pour le traitement du langage naturel (NLP)\n",
        "import spacy\n",
        "# Module pour compter les occurrences d'éléments dans une collection\n",
        "from collections import Counter\n",
        "\n",
        "# Charger le modèle spaCy\n",
        "nlp = spacy.load(\"en_core_web_sm\")\n",
        "\n",
        "#  Analyse un document texte et retourne des statistiques textuelles, en excluant les espaces et les sauts de ligne des lemmes.\n",
        "def analyze_text(file_path, entity_type=\"PERSON\"):\n",
        "\n",
        "    with open(file_path, \"r\", encoding=\"utf-8\") as file:\n",
        "        text = file.read()\n",
        "\n",
        "    # Analyser le texte avec spaCy\n",
        "    doc = nlp(text)\n",
        "\n",
        "    # Collecter les lemmes (en excluant les stopwords, ponctuations et espaces)\n",
        "    lemmas = [\n",
        "        token.lemma_.lower()\n",
        "        for token in doc\n",
        "        if not token.is_stop and not token.is_punct and not token.is_space\n",
        "    ]\n",
        "\n",
        "    # Collecter les POS (Part-of-Speech)\n",
        "    pos_tags = [token.pos_ for token in doc]\n",
        "\n",
        "    # Collecter les entités nommées du type choisi\n",
        "    entities = [ent.text for ent in doc.ents if ent.label_ == entity_type]\n",
        "\n",
        "    # Calculer les statistiques\n",
        "    stats = {\n",
        "        \"n_tokens\": len(doc),  # Nombre total de tokens\n",
        "        \"n_lemmas\": len(lemmas),  # Nombre total de lemmes\n",
        "        \"n_lemma_types\": len(set(lemmas)),  # Nombre de lemmes uniques\n",
        "        \"top_5_lemmas\": Counter(lemmas).most_common(5),  # Les 5 lemmes les plus fréquents\n",
        "        \"pos_distrib\": dict(Counter(pos_tags)),  # Distribution des POS\n",
        "        \"top_5_entities\": Counter(entities).most_common(5)  # 5 entités nommées les plus fréquentes\n",
        "    }\n",
        "\n",
        "    return stats\n",
        "\n",
        "# Exemple d’utilisation\n",
        "file_path = \"chapters_corrected/chapter_01.txt\"\n",
        "stats = analyze_text(file_path)\n",
        "print(\"Statistiques pour le chapitre 1 (avec espaces exclus) :\")\n",
        "print(stats)\n",
        "\n"
      ]
    },
    {
      "cell_type": "markdown",
      "metadata": {
        "id": "SUMS2UQpQT1Y"
      },
      "source": [
        "##1.3 et 1.4"
      ]
    },
    {
      "cell_type": "code",
      "execution_count": null,
      "metadata": {
        "id": "OpyLeq3yMkgY"
      },
      "outputs": [],
      "source": [
        "import spacy\n",
        "import re\n",
        "import os\n",
        "\n",
        "# Charger le modèle de langue spaCy\n",
        "nlp = spacy.load(\"en_core_web_sm\")\n",
        "\n",
        "# Pré-traitement du document en effectuant les étapes suivantes : tokenisation par mots, suppression des caractères spéciaux et de la ponctuation,\n",
        "# suppression des nombres, suppression des stopwords, lemmatisation, mise en minuscule, sauvegarde du résultat avec une phrase par ligne\n",
        "def preprocess_and_save(input_path, output_path):\n",
        "\n",
        "    # Charger le texte\n",
        "    with open(input_path, \"r\", encoding=\"utf-8\") as file:\n",
        "        text = file.read()\n",
        "\n",
        "    # Analyser le texte avec spaCy\n",
        "    doc = nlp(text)\n",
        "\n",
        "    # Ouvrir le fichier de sortie\n",
        "    with open(output_path, \"w\", encoding=\"utf-8\") as output_file:\n",
        "        # Traiter chaque phrase\n",
        "        for sent in doc.sents:\n",
        "            line = \"\"\n",
        "\n",
        "            # Traiter chaque token\n",
        "            for token in sent:\n",
        "                # Vérifier les critères de nettoyage\n",
        "                if not (token.is_stop or token.is_punct or token.is_space or token.like_num):\n",
        "                    # Ajouter le lemme en minuscule\n",
        "                    line += f\"{token.lemma_.lower()} \"\n",
        "\n",
        "            # Supprimer les lignes vides\n",
        "            if re.sub(r\"\\s+\", \"\", line) != \"\":\n",
        "                # Sauvegarder la phrase nettoyée\n",
        "                output_file.write(line.strip() + \"\\n\")\n",
        "\n",
        "\n",
        "input_path = \"chapters_corrected/chapter_01.txt\"\n",
        "output_path = \"chapters_corrected_preprocessed/chapter_01_preprocessed.txt\"\n",
        "os.makedirs(\"chapters_corrected_preprocessed\", exist_ok=True)\n",
        "preprocess_and_save(input_path, output_path)\n"
      ]
    },
    {
      "cell_type": "code",
      "execution_count": null,
      "metadata": {
        "colab": {
          "base_uri": "https://localhost:8080/"
        },
        "id": "jZ6lUTeeO5KU",
        "outputId": "e9e43601-b933-447e-9107-c1909516d879"
      },
      "outputs": [
        {
          "output_type": "stream",
          "name": "stdout",
          "text": [
            "    n_tokens  n_lemmas  n_lemma_types  \\\n",
            "0        874       754            361   \n",
            "1        907       754            365   \n",
            "2        790       634            347   \n",
            "3       1120       935            412   \n",
            "4        904       717            352   \n",
            "5       1118       902            381   \n",
            "6       1064       813            329   \n",
            "7       1055       857            353   \n",
            "8       1057       822            370   \n",
            "9        998       793            317   \n",
            "10       839       671            305   \n",
            "11       932       758            385   \n",
            "\n",
            "                                         top_5_lemmas  \\\n",
            "0   [(alice, 28), (think, 19), (little, 15), (way,...   \n",
            "1   [(alice, 24), (mouse, 21), (little, 17), (thin...   \n",
            "2   [(alice, 23), (mouse, 21), (know, 13), (dodo, ...   \n",
            "3   [(alice, 31), (little, 23), (rabbit, 15), (com...   \n",
            "4   [(alice, 35), (caterpillar, 26), (think, 13), ...   \n",
            "5   [(alice, 43), (cat, 24), (think, 17), (like, 1...   \n",
            "6   [(alice, 51), (hatter, 33), (dormouse, 27), (m...   \n",
            "7   [(alice, 39), (queen, 36), (look, 21), (head, ...   \n",
            "8   [(alice, 52), (turtle, 28), (mock, 26), (gryph...   \n",
            "9   [(turtle, 31), (gryphon, 31), (alice, 29), (mo...   \n",
            "10  [(king, 26), (hatter, 21), (alice, 16), (court...   \n",
            "11  [(alice, 23), (king, 22), (jury, 13), (know, 1...   \n",
            "\n",
            "                                          pos_distrib  \\\n",
            "0   {'NOUN': 353, 'PROPN': 72, 'VERB': 177, 'ADJ':...   \n",
            "1   {'NOUN': 306, 'VERB': 158, 'PROPN': 113, 'ADJ'...   \n",
            "2   {'PROPN': 112, 'NOUN': 255, 'ADJ': 95, 'SPACE'...   \n",
            "3   {'NOUN': 411, 'VERB': 216, 'ADJ': 155, 'PROPN'...   \n",
            "4   {'NOUN': 333, 'PROPN': 87, 'VERB': 192, 'ADJ':...   \n",
            "5   {'PROPN': 144, 'NOUN': 391, 'VERB': 229, 'ADV'...   \n",
            "6   {'ADJ': 102, 'NOUN': 374, 'VERB': 225, 'PROPN'...   \n",
            "7   {'PROPN': 121, 'ADJ': 93, 'NOUN': 392, 'VERB':...   \n",
            "8   {'ADJ': 147, 'NOUN': 361, 'VERB': 228, 'ADV': ...   \n",
            "9   {'PROPN': 111, 'ADV': 37, 'VERB': 180, 'NOUN':...   \n",
            "10  {'ADJ': 80, 'NOUN': 341, 'SPACE': 109, 'PROPN'...   \n",
            "11  {'PROPN': 54, 'NOUN': 392, 'VERB': 202, 'ADJ':...   \n",
            "\n",
            "                                       top_5_entities         chapter  \n",
            "0                                                  []  chapter_01.txt  \n",
            "1   [(chin salt, 1), (latin grammar mouse mouse mo...  chapter_02.txt  \n",
            "2   [(earl mercia, 2), (william conqueror, 1), (wi...  chapter_03.txt  \n",
            "3   [(mary ann, 2), (alice\\n, 1), (lesson learn, 1...  chapter_04.txt  \n",
            "4   [(william, 2), (william young, 1), (jaw weak, ...  chapter_05.txt  \n",
            "5   [(footman reason\\n, 1), (alice little, 1), (al...  chapter_06.txt  \n",
            "6   [(alice sigh, 1), (lesson whisper hint, 1), (j...  chapter_07.txt  \n",
            "7   [(jog elbow, 1), (alice little, 1), (shrill lo...  chapter_08.txt  \n",
            "8   [(chin alice, 1), (mustard bird, 1), (alice al...  chapter_09.txt  \n",
            "9   [(alice\\nsort, 1), (alice little, 1), (william...  chapter_10.txt  \n",
            "10                                                 []  chapter_11.txt  \n",
            "11   [(alice forget, 1), (mouse, 1), (shrill cry, 1)]  chapter_12.txt  \n"
          ]
        }
      ],
      "source": [
        "import os\n",
        "# bibliothèque pour la manipulation et l'analyse de données, utilisée ici pour créer et sauvegarder le DataFrame\n",
        "import pandas as pd\n",
        "\n",
        "# Dossiers source et destination\n",
        "raw_corpus_dir = \"chapters_corrected\"\n",
        "preprocessed_corpus_dir = \"chapters_corrected_preprocessed\"\n",
        "os.makedirs(preprocessed_corpus_dir, exist_ok=True)\n",
        "\n",
        "# Liste des fichiers dans le dossier brut\n",
        "files = sorted(os.listdir(raw_corpus_dir))\n",
        "\n",
        "# Liste pour collecter les statistiques\n",
        "stats_list = []\n",
        "\n",
        "# Traiter chaque fichier\n",
        "for file_name in files:\n",
        "    raw_file_path = os.path.join(raw_corpus_dir, file_name)\n",
        "    preprocessed_file_path = os.path.join(preprocessed_corpus_dir, file_name.replace(\".txt\", \"_preprocessed.txt\"))\n",
        "\n",
        "    # Prétraitement et sauvegarde\n",
        "    preprocess_and_save(raw_file_path, preprocessed_file_path)\n",
        "\n",
        "    # Analyse des statistiques sur le fichier prétraité\n",
        "    stats = analyze_text(preprocessed_file_path)\n",
        "    stats[\"chapter\"] = file_name\n",
        "    stats_list.append(stats)\n",
        "\n",
        "# Convertir les statistiques en DataFrame pour analyse\n",
        "df_stats = pd.DataFrame(stats_list)\n",
        "\n",
        "# Sauvegarder les statistiques dans un fichier CSV pour documentation\n",
        "df_stats.to_csv(\"corpus_statistics.csv\", index=False)\n",
        "\n",
        "# Afficher un résumé des statistiques\n",
        "print(df_stats)\n"
      ]
    },
    {
      "cell_type": "markdown",
      "metadata": {
        "id": "w0M5-QOZUKGz"
      },
      "source": [
        "##Commentaire 1.4 :\n",
        "\n",
        "- Nous observons tout d'abord que le nombre de tokens varie légèrement entre tous les chapitres. Les valeurs allant de 839 pour le chapitre 11 (valeur la plus basse) à 1120 pour le chapitre 4 (valeur la plus haute). D'une certaine manière, étant donné que la longueur des chapitres diverge, cela pourra avoir une influence par la suite sur l'analyse sémantique ou statistique.\n",
        "\n",
        "- Pour tous les chapitres, Nous observons une forte proportion de tokens ayant été réduit à leurs lemmes. Aussi, le ratio entre le nombre total de lemmes (n_lemmas) et le nombre de lemmes uniques (n_lemma_types) nous permet d'analyse une idée de la diversité lexicale des chapitres:\n",
        "\n",
        "  Le chapitre 3 présente la diversité lexicale la plus élevée parmi tous les chapitres (0.55). Ceci peut s'expliquer par le fait que ce chapitre propose de nombreux nouveaux concepts. Ce chapitre \"A Caucus-Race and a Long Tale\", se concentre sur la course autour du bassin de larmes d’Alice et les interactions avec des personnages comme le Dodo et d’autres animaux. Cela pourrait expliquer la diversité lexicale, car des concepts nouveaux (noms d’animaux et leurs actions) sont introduits.\n",
        "\n",
        "  Le chapitre 10  a une diversité lexicale plus faible que la moyenne, avec seulement 40 % des lemmes étant uniques.\n",
        "  Cela suggère une répétition plus fréquente des mêmes mots, souvent caractéristique des chapitres avec des dialogues intenses ou des actions répétées. Ce chapitre 10, intitulé \"The Lobster Quadrille\", est centré sur les interactions entre Alice, le Mock Turtle, et le Gryphon.\n",
        "  La danse du \"Quadrille des Homards\" et les dialogues humoristiques entraînent probablement une répétition des mêmes termes liés à l’événement (ex. : \"lobster\", \"mock\", \"gryphon\").\n",
        "\n",
        "| Chapter      | n_lemmas | n_lemma_types | lemma_ratio |\n",
        "|--------------|----------|---------------|-------------|\n",
        "| chapter_01   | 754      | 361           | 0.478780    |\n",
        "| chapter_02   | 754      | 365           | 0.484085    |\n",
        "| chapter_03   | 634      | 347           | 0.547319    |\n",
        "| chapter_04   | 935      | 412           | 0.440641    |\n",
        "| chapter_05   | 717      | 352           | 0.490934    |\n",
        "| chapter_06   | 902      | 381           | 0.422395    |\n",
        "| chapter_07   | 813      | 329           | 0.404918    |\n",
        "| chapter_08   | 857      | 353           | 0.411317    |\n",
        "| chapter_09   | 822      | 370           | 0.450122    |\n",
        "| chapter_10   | 793      | 317           | 0.399745    |\n",
        "| chapter_11   | 671      | 305           | 0.454547    |\n",
        "| chapter_12   | 758      | 385           | 0.507916    |\n",
        "\n",
        "\n",
        "- Les lemmes \"Alice\", \"think\", \"know\" apparaissent comme les lemmes les plus présents dans chaque chapitre dans les \"top_5_lemmas\". Ceci semble correcte étant donné qu'Alice est le personnage principale et que \"think\" et \"know\" traduisent les réflexions et les dialogues intérieurs d’Alice, qui sont essentiels à la progression narrative. Nous observons également des lemmes spécifiques pour des contextes narratifs spécifiques à certains chapitres. Par exemple, le chapitre 9, intitulé \"The Mock Turtle's Story\", est centré sur les interactions entre Alice, le Mock Turtle, et le Gryphon. Les lemmes principaux \"turtle\", \"mock\", et \"gryphon\" montrent clairement que ce chapitre est centré sur les personnages secondaires. Cela contraste avec d'autres chapitres où l'action est plus directement liée à Alice.\n",
        "\n",
        "- Les catégories grammaticales principales dans le texte (POS tags) comprennent :\n",
        "\n",
        "    - NOUN (noms),\n",
        "    - VERB (verbes),\n",
        "    - ADJ (adjectifs),\n",
        "    - ADV (adverbes),\n",
        "    - PROPN (noms propres),\n",
        "    - ainsi que d'autres catégories comme - SPACE, INTJ (interjections), AUX (auxiliaires).\n",
        "\n",
        "  Ces distributions fournissent un aperçu de la structure linguistique du texte et des styles narratifs.\n",
        "\n",
        "  Dans tous les chapitres, les noms communs représentent la catégorie la plus fréquente (ex. : 353 occurrences dans le chapitre 1, 400 dans le chapitre 10).\n",
        "  Cela reflète une narration descriptive, où les objets, lieux et concepts sont constamment mentionnés.\n",
        "\n",
        "  Aussi, la forte présence des verbes (ex. : 177 dans le chapitre 1, 247 dans le chapitre 8) reflète l’importance des actions et dialogues dans le récit.\n",
        "  Cela souligne que l’histoire est en grande partie construite autour des interactions et des comportements des personnages.\n",
        "\n",
        "  Les noms propres (ex. \"Alice\", \"Rabbit\") sont également fréquents. Leur distribution varie selon les chapitres, avec un pic dans ceux centrés sur des personnages spécifiques (ex. : 148 occurrences dans le chapitre 7 avec le Chapelier Fou et le Lièvre de Mars).\n",
        "  Cela met en évidence l’importance des personnages et de leurs interactions dans le texte.\n",
        "\n",
        "  Les adjectifs sont bien représentés, reflétant l’accent mis sur la description des scènes, des personnages, et des objets.\n",
        "  Par exemple, 155 adjectifs apparaissent dans le chapitre 4, où les proportions des objets et les détails du décor jouent un rôle narratif important.\n",
        "\n",
        "  L'analyse des POS met en évidence les mécanismes linguistiques qui rendent le texte de Lewis Carroll captivant, en équilibrant action, description, et émotion à travers une diversité de catégories grammaticales.\n",
        "\n",
        "- Les entités nommées (ou Named Entities) sont des éléments du texte identifiés comme des noms propres, lieux, organisations, ou autres concepts définis. Leur analyse permet de mieux comprendre les éléments centraux du récit et leur importance dans la narration.\n",
        "Les personnages principaux comme Alice, Rabbit, et Queen sont les entités les plus récurrentes, reflétant leur centralité dans l’histoire.\n",
        "Les personnages secondaires (ex. : Caterpillar, Duchess) apparaissent dans les chapitres où ils jouent un rôle narratif significatif.\n",
        "Prenons l'exemple du chapitre 9. Les entités sont centrées autour des dialogues entre Alice, le Mock Turtle et le Gryphon.\n",
        "Les mentions répétées comme \"Alice Alice\" reflètent les dialogues où Alice est interpellée ou évoquée par les autres personnages de façon absurde.\n",
        "\"Mustard bird\" et \"chin alice\" sont des expressions ou phrases spécifiques, illustrant l'humour absurde et les descriptions surréalistes du chapitre.\n",
        "\n",
        "\n",
        "\n",
        "\n"
      ]
    },
    {
      "cell_type": "markdown",
      "metadata": {
        "id": "ivyRg9XYtG8v"
      },
      "source": [
        "#Partie 2 : AFC"
      ]
    },
    {
      "cell_type": "markdown",
      "metadata": {
        "id": "E9hTI9U4tOZP"
      },
      "source": [
        "##2.1"
      ]
    },
    {
      "cell_type": "code",
      "execution_count": null,
      "metadata": {
        "colab": {
          "base_uri": "https://localhost:8080/"
        },
        "id": "FP-6UIbHVPBp",
        "outputId": "2239d38b-acd1-4569-992b-e2cadedd1bbd"
      },
      "outputs": [
        {
          "output_type": "stream",
          "name": "stdout",
          "text": [
            "Nombre initial de mots dans le dictionnaire : 1793\n",
            "Dimensions de la matrice terme-document : (1793, 12)\n",
            "10 mots les plus fréquents :\n",
            "[('say', 481.0), ('alice', 394.0), ('think', 133.0), ('go', 130.0), ('little', 128.0), ('know', 107.0), ('look', 106.0), ('begin', 92.0), ('like', 92.0), ('come', 90.0)]\n",
            "10 mots les moins fréquents :\n",
            "[('suppressed', 1.0), ('thinking', 1.0), ('tinkle', 1.0), ('tip', 1.0), ('trickle', 1.0), ('trust', 1.0), ('unable', 1.0), ('vague', 1.0), ('wandering', 1.0), ('waving', 1.0)]\n",
            "Nombre de mots après filtrage : 222\n"
          ]
        }
      ],
      "source": [
        "import os\n",
        "import gensim\n",
        "# Modèle pour calculer les poids TF-IDF\n",
        "from gensim.models import TfidfModel\n",
        "# Structure pour stocker les mots et leurs ID\n",
        "from gensim.corpora import Dictionary\n",
        "import pandas as pd\n",
        "\n",
        "# Charger le corpus prétraité\n",
        "corpus_pp_path = \"chapters_corrected_preprocessed\"\n",
        "file_names = sorted(os.listdir(corpus_pp_path))\n",
        "\n",
        "texts = []\n",
        "for file_name in file_names:\n",
        "    with open(f\"{corpus_pp_path}/{file_name}\", \"r\", encoding=\"utf-8\") as text_file:\n",
        "        texts.append(text_file.read().split())\n",
        "\n",
        "# Construire un dictionnaire\n",
        "dictionary = Dictionary(texts)\n",
        "print(f\"Nombre initial de mots dans le dictionnaire : {len(dictionary)}\")\n",
        "\n",
        "# Créer le corpus bag-of-words\n",
        "corpus_bow = [dictionary.doc2bow(text) for text in texts]\n",
        "\n",
        "# Étape 1 : Créer la matrice terme-document\n",
        "term_document = gensim.matutils.corpus2dense(corpus_bow, num_terms=len(dictionary))\n",
        "print(f\"Dimensions de la matrice terme-document : {term_document.shape}\")\n",
        "\n",
        "# Étape 2 : Calculer les fréquences des mots\n",
        "frequencies = term_document.sum(axis=1)\n",
        "word_freqs = [(word, frequencies[id]) for word, id in dictionary.token2id.items()]\n",
        "word_freqs = sorted(word_freqs, key=lambda item: item[1], reverse=True)\n",
        "\n",
        "# Afficher les mots les plus et les moins fréquents\n",
        "print(\"10 mots les plus fréquents :\")\n",
        "print(word_freqs[:10])\n",
        "\n",
        "print(\"10 mots les moins fréquents :\")\n",
        "print(word_freqs[-10:])\n",
        "\n",
        "# Étape 3 : Filtrer les mots trop rares ou trop fréquents\n",
        "min_freq = 10\n",
        "max_freq = 6000\n",
        "banned_word_ids = [dictionary.token2id[word] for word, freq in word_freqs\n",
        "                   if freq < min_freq or freq > max_freq]\n",
        "dictionary.filter_tokens(bad_ids=banned_word_ids)\n",
        "print(f\"Nombre de mots après filtrage : {len(dictionary)}\")\n",
        "\n",
        "# Étape 4 : Reconstruire le corpus bag-of-words filtré\n",
        "corpus_filtered_bow = [dictionary.doc2bow(text) for text in texts]\n",
        "\n",
        "# Sauvegarder les données filtrées\n",
        "filtered_path = \"chapters_corrected_filtered\"\n",
        "os.makedirs(filtered_path, exist_ok=True)\n",
        "\n",
        "for i, doc_bow in enumerate(corpus_filtered_bow):\n",
        "    doc_words = [dictionary[id] for id, _ in doc_bow]\n",
        "    with open(f\"{filtered_path}/chapter_{i+1:02d}_filtered.txt\", \"w\", encoding=\"utf-8\") as file:\n",
        "        file.write(\" \".join(doc_words))\n",
        "\n"
      ]
    },
    {
      "cell_type": "markdown",
      "metadata": {
        "id": "qS2j12SKtSbl"
      },
      "source": [
        "##2.2"
      ]
    },
    {
      "cell_type": "code",
      "execution_count": null,
      "metadata": {
        "id": "_aa308nBbq6_"
      },
      "outputs": [],
      "source": [
        "import numpy as np\n",
        "import scipy\n",
        "# Fonction pour calculer les valeurs propres et vecteurs propres des matrices creuses\n",
        "from scipy.sparse.linalg import eigs\n",
        "# Fonction pour calculer les valeurs propres et vecteurs propres des matrices denses\n",
        "from scipy.linalg import eig\n",
        "# # Bibliothèque pour la création de visualisations\n",
        "import matplotlib.pyplot as plt\n",
        "import gensim\n"
      ]
    },
    {
      "cell_type": "code",
      "execution_count": null,
      "metadata": {
        "id": "wvc0d6L0bsTu"
      },
      "outputs": [],
      "source": [
        "# Fonction pour la décomposition spectrale\n",
        "def sorted_eig(matrix, dim_max=None):\n",
        "    if (dim_max is not None) and dim_max < matrix.shape[0] - 1:\n",
        "        eigen_values, eigen_vectors = scipy.sparse.linalg.eigs(matrix, dim_max)\n",
        "    else:\n",
        "        eigen_values, eigen_vectors = scipy.linalg.eig(matrix)\n",
        "    sorted_indices = eigen_values.argsort()[::-1]\n",
        "    eigen_values = eigen_values[sorted_indices]\n",
        "    eigen_vectors = eigen_vectors[:, sorted_indices]\n",
        "\n",
        "    return np.real(eigen_values), np.real(eigen_vectors)\n",
        "\n",
        "# Fonction pour l'analyse factorielle des correspondances\n",
        "def correspondence_analysis(contingency):\n",
        "    contingency = np.array(contingency)\n",
        "    n_row, n_col = contingency.shape\n",
        "    dim_max = min(n_row, n_col) - 1\n",
        "\n",
        "    total = np.sum(contingency)\n",
        "    f_row = contingency.sum(axis=1)\n",
        "    f_row = f_row / sum(f_row)\n",
        "    f_col = contingency.sum(axis=0)\n",
        "    f_col = f_col / sum(f_col)\n",
        "    independency = np.outer(f_row, f_col) * total\n",
        "    normalized_quotient = contingency / independency - 1\n",
        "\n",
        "    b_mat = (normalized_quotient * f_col) @ normalized_quotient.T\n",
        "    k_mat = np.outer(np.sqrt(f_row), np.sqrt(f_row)) * b_mat\n",
        "    eig_val, eig_vec = sorted_eig(k_mat, dim_max)\n",
        "    eig_val = np.abs(eig_val[:dim_max])\n",
        "    eig_vec = eig_vec[:, :dim_max]\n",
        "    row_coord = np.real(np.outer(1 / np.sqrt(f_row), np.sqrt(eig_val)) * eig_vec)\n",
        "    col_coord = (normalized_quotient.T * f_row) @ row_coord / np.sqrt(eig_val)\n",
        "    row_contrib = eig_vec ** 2\n",
        "    col_contrib = np.outer(f_col, 1 / eig_val) * col_coord ** 2\n",
        "    row_cos2 = row_coord ** 2\n",
        "    row_cos2 = (row_cos2.T / row_cos2.sum(axis=1)).T\n",
        "    col_cos2 = col_coord ** 2\n",
        "    col_cos2 = (col_cos2.T / col_cos2.sum(axis=1)).T\n",
        "\n",
        "    return dim_max, eig_val, row_coord, col_coord, row_contrib, col_contrib, row_cos2, col_cos2\n"
      ]
    },
    {
      "cell_type": "code",
      "execution_count": null,
      "metadata": {
        "colab": {
          "base_uri": "https://localhost:8080/"
        },
        "id": "SH-dc1Hob6RF",
        "outputId": "9d39dc50-5127-4d8d-b0d6-3536d63d4e3c"
      },
      "outputs": [
        {
          "output_type": "stream",
          "name": "stdout",
          "text": [
            "Dimensions de la matrice terme-document : (222, 12)\n"
          ]
        }
      ],
      "source": [
        "# Création de la matrice terme-document\n",
        "term_document = gensim.matutils.corpus2dense(corpus_filtered_bow, num_terms=len(dictionary))\n",
        "print(f\"Dimensions de la matrice terme-document : {term_document.shape}\")\n"
      ]
    },
    {
      "cell_type": "code",
      "execution_count": null,
      "metadata": {
        "id": "vfyJfMppcCfu"
      },
      "outputs": [],
      "source": [
        "# Analyse factorielle des correspondances sur la matrice terme-document\n",
        "dim_max, eig_val, row_coord, col_coord, row_contrib, col_contrib, row_cos2, col_cos2 = correspondence_analysis(term_document)\n"
      ]
    },
    {
      "cell_type": "markdown",
      "metadata": {
        "id": "vUX2b9yptmR8"
      },
      "source": [
        "##2.3"
      ]
    },
    {
      "cell_type": "code",
      "execution_count": null,
      "metadata": {
        "colab": {
          "base_uri": "https://localhost:8080/"
        },
        "id": "SyQnxYQicHan",
        "outputId": "4999e062-6f0c-4175-ae0c-0da800f39877"
      },
      "outputs": [
        {
          "output_type": "stream",
          "name": "stdout",
          "text": [
            "Pourcentages de variance sur les 10 premiers axes :\n",
            "Axe 0: 18.60%\n",
            "Axe 1: 15.74%\n",
            "Axe 2: 11.22%\n",
            "Axe 3: 10.65%\n",
            "Axe 4: 10.39%\n",
            "Axe 5: 8.18%\n",
            "Axe 6: 7.62%\n",
            "Axe 7: 5.04%\n",
            "Axe 8: 4.36%\n",
            "Axe 9: 4.22%\n"
          ]
        }
      ],
      "source": [
        "# Afficher les pourcentages de variance pour les 10 premiers axes\n",
        "print(\"Pourcentages de variance sur les 10 premiers axes :\")\n",
        "for dim in range(10):\n",
        "    p_var = eig_val[dim] / sum(eig_val)\n",
        "    print(f\"Axe {dim}: {p_var:.2%}\")\n"
      ]
    },
    {
      "cell_type": "code",
      "execution_count": null,
      "metadata": {
        "colab": {
          "base_uri": "https://localhost:8080/"
        },
        "id": "zFehNDZGcK1y",
        "outputId": "e7b219b8-08da-453e-c6c4-4f8daa139890"
      },
      "outputs": [
        {
          "output_type": "stream",
          "name": "stdout",
          "text": [
            "Axe 0 : {'turtle': 14.04, 'gryphon': 12.96, 'mock': 12.65, 'lobster': 6.9, 'dance': 6.9, 'beautiful': 4.44, 'soup': 4.22, 'join': 3.1, 'sea': 2.76, 'repeat': 1.94}\n",
            "Axe 1 : {'hatter': 12.32, 'dormouse': 9.53, 'king': 4.91, 'march': 4.91, 'hare': 4.78, 'court': 4.34, 'tea': 3.48, 'witness': 3.14, 'twinkle': 2.25, 'mouse': 2.23}\n",
            "Axe 2 : {'queen': 9.52, 'king': 6.21, 'caterpillar': 5.08, 'dormouse': 3.44, 'hedgehog': 3.1, 'hatter': 2.75, 'soldier': 2.6, 'hare': 2.51, 'serpent': 2.47, 'pigeon': 2.47}\n",
            "Axe 3 : {'footman': 7.33, 'king': 6.03, 'cat': 5.6, 'mad': 5.37, 'baby': 3.96, 'jury': 3.61, 'grin': 3.61, 'duchess': 2.95, 'court': 2.74, 'caterpillar': 2.49}\n",
            "Axe 4 : {'caterpillar': 20.49, 'serpent': 10.52, 'pigeon': 10.52, 'mouse': 4.89, 'say': 1.99, 'bit': 1.91, 'size': 1.9, 'minute': 1.56, 'tree': 1.51, 'dodo': 1.3}\n",
            "Axe 5 : {'mouse': 15.78, 'dodo': 14.92, 'bird': 3.8, 'bill': 3.65, 'bottle': 2.62, 'party': 2.35, 'grow': 2.35, 'rabbit': 2.22, 'say': 1.92, 'happen': 1.83}\n",
            "Axe 6 : {'queen': 7.43, 'hedgehog': 6.36, 'footman': 5.26, 'soldier': 4.59, 'baby': 4.51, 'game': 3.34, 'sneeze': 3.21, 'pig': 3.1, 'jury': 2.99, 'mad': 2.9}\n",
            "Axe 7 : {'duchess': 7.92, 'bill': 3.89, 'cry': 3.48, 'lobster': 3.31, 'dance': 3.31, 'turtle': 3.15, 'mock': 3.14, 'old': 2.89, 'beautiful': 2.4, 'hedgehog': 2.39}\n",
            "Axe 8 : {'sister': 7.67, 'witness': 4.73, 'bill': 3.61, 'court': 2.88, 'jury': 2.8, 'fall': 2.06, 'book': 1.96, 'give': 1.93, 'cook': 1.93, 'write': 1.87}\n",
            "Axe 9 : {'pool': 7.64, 'eat': 6.19, 'fall': 5.69, 'dodo': 4.63, 'fan': 4.25, 'dinah': 3.97, 'suddenly': 3.72, 'glove': 3.37, 'wonder': 2.22, 'foot': 2.19}\n"
          ]
        }
      ],
      "source": [
        "# Afficher les mots les plus contributifs pour les 10 premiers axes\n",
        "n_top = 10\n",
        "for dim in range(10):\n",
        "    top_contrib_ids = np.argsort(row_contrib[:, dim])[::-1][:n_top]\n",
        "    contrib_dic = {dictionary[id]: round(row_contrib[id, dim]*100, 2) for id in top_contrib_ids}\n",
        "    print(f\"Axe {dim} : {contrib_dic}\")\n"
      ]
    },
    {
      "cell_type": "markdown",
      "metadata": {
        "id": "GIRbemA9h-Ue"
      },
      "source": [
        "##Commentaire 2.3:\n",
        "\n",
        "Pourcentages d’inertie sur les 10 premiers axes:\n",
        "  \n",
        "  - Axe 0 (18.60%) et Axe 1 (15.74%) :\n",
        "  Ces deux axes représentent plus de 34% de l’inertie totale, ce qui signifie qu’ils capturent les principales variations lexicales dans le corpus.\n",
        "    - L’Axe 0 est fortement influencé par des mots liés à la scène du Mock Turtle (ex. : \"turtle\", \"gryphon\", \"mock\"), ce qui reflète un vocabulaire spécifique à un chapitre précis (le chapitre 9 essentiellement).\n",
        "\n",
        "    - L’Axe 1 est dominé par des mots comme \"hatter\", \"dormouse\", et \"march\",   caractéristiques de la scène du Chapelier Fou (chapitre 7). Cela illustre une deuxième dimension thématique du texte.\n",
        "\n",
        "- Axes 2 à 4 (11.22% à 10.39%) :\n",
        "  Ces axes apportent des précisions sur des variations lexicales associées à des personnages ou des scènes spécifiques :\n",
        "  - Axe 2 : Associé à \"queen\", \"king\", et \"caterpillar\", représentant des personnages influents dans l’histoire (chapitre 8 : interaction absurde avec la Reine et chapitre 5 : interaction totalement loufoque avec la chenille).\n",
        "  - Axe 3 : Capture des interactions uniques avec des mots comme \"footman\", \"cat\", et \"baby\", illustrant des scènes avec des dialogues ou interactions atypiques. (chapitre 4 et chapitre 6).\n",
        "  - Axe 4 : Dominé par \"caterpillar\", \"serpent\", et \"pigeon\", correspondant à une scène où Alice rencontre des créatures philosophiques et absurdes.\n",
        "\n",
        "En cumulant les 5 premiers axes, on obtient environ 66% de l'inertie totale (18.60% + 15.74% + 11.22% + 10.65% + 10.39%). Cela signifie que plus des deux tiers de la structure lexicale du corpus peuvent être expliqués en utilisant ces 5 dimensions principales. Les premiers axes capturent ainsi les principales différences lexicographiques du corpus, notamment les chapitres ou scènes avec des vocabulaires très spécifiques (exemple : \"gryphon\", \"mock\" pour l’Axe 0, ou \"hatter\", \"march\" pour l’Axe 1).\n",
        "\n",
        "\n",
        "\n"
      ]
    },
    {
      "cell_type": "markdown",
      "metadata": {
        "id": "hdFs7LVitpd1"
      },
      "source": [
        "##2.4"
      ]
    },
    {
      "cell_type": "code",
      "execution_count": null,
      "metadata": {
        "colab": {
          "base_uri": "https://localhost:8080/",
          "height": 1000
        },
        "id": "fZ_jTCyhcSVO",
        "outputId": "541a3000-b23a-4a78-b05c-437a65418fd2"
      },
      "outputs": [
        {
          "output_type": "display_data",
          "data": {
            "text/plain": [
              "<Figure size 1600x1600 with 1 Axes>"
            ],
            "image/png": "[encoded data removed]"
          },
          "metadata": {}
        }
      ],
      "source": [
        "# Sélection des axes pour le graphique\n",
        "axes = [0, 1]\n",
        "\n",
        "# Taille du graphique\n",
        "plt.rcParams[\"figure.figsize\"] = [16, 16]\n",
        "\n",
        "# Filtre sur les mots les plus fréquents\n",
        "top_n = 100\n",
        "top_words = [word for word, _ in word_freqs[:top_n]]\n",
        "\n",
        "# On s'assure que \"top_words\" sont dans le dictionnaire\n",
        "top_words = [word for word in top_words if word in dictionary.token2id]\n",
        "\n",
        "top_word_ids = [dictionary.token2id[word] for word in top_words]\n",
        "top_row_coord = row_coord[top_word_ids, :]\n",
        "\n",
        "# Coordonnées combinées (mots + documents)\n",
        "all_coord = np.concatenate([top_row_coord, col_coord])\n",
        "\n",
        "# Création du graphique\n",
        "fig, ax = plt.subplots()\n",
        "ax.scatter(all_coord[:, axes[0]], all_coord[:, axes[1]], alpha=0, color=\"white\")\n",
        "\n",
        "# Annoter les mots\n",
        "for i, txt in enumerate(top_words):\n",
        "    ax.annotate(txt, (top_row_coord[i, axes[0]], top_row_coord[i, axes[1]]), size=12, color=\"blue\")\n",
        "\n",
        "# Annoter les documents\n",
        "for i, txt in enumerate(range(len(corpus_filtered_bow))):\n",
        "    ax.annotate(txt, (col_coord[i, axes[0]], col_coord[i, axes[1]]), size=12, color=\"red\", alpha=0.8)\n",
        "\n",
        "ax.grid()\n",
        "plt.show()\n"
      ]
    },
    {
      "cell_type": "markdown",
      "metadata": {
        "id": "emHUgLHcmDqS"
      },
      "source": [
        "##Commentaire 2.4:\n",
        "\n",
        "Le biplot est une représentation graphique qui combine les termes les plus fréquents du texte (en bleu) et les chapitres du corpus (en rouge). Cette visualisation met en évidence les relations thématiques et lexicographiques entre les chapitres et les mots du texte.\n",
        "\n",
        "Visualisation des termes :\n",
        "\n",
        "  - Les mots bleus sur le graphique sont disposés selon leur contribution aux axes principaux de l'analyse factorielle des correspondances (AFC). Leur position reflète leur importance thématique et leur association à des chapitres spécifiques.\n",
        "  \n",
        "      - En haut à droite : Les mots comme \"gryphon\", \"mock\", et \"turtle\" sont regroupés, indiquant leur lien avec la scène du Mock Turtle, une partie marquante du récit (chapitre 9).\n",
        "      - En haut à gauche : Les termes tels que \"hatter\", \"dormouse\", et \"hare\" sont associés à la scène du Chapelier Fou, un moment clé caractérisé par des dialogues absurdes et ludiques.\n",
        "      - En bas au centre : Des mots comme \"alice\", \"queen\", et \"rabbit\" se trouvent au centre, montrant leur rôle transversal dans plusieurs chapitres. Ces mots sont centraux à l’histoire et apparaissent dans différentes scènes. Nous y trouvons également les mots associés aux émotions d'Alice (good, great, cry, ho etc.) à l'action (run, eat, look, hurry, time etc.) et au monde plus général entourant Alice (world, house, door, way etc.). Tout ceci correspond bien à l'absurdité du récit et aux émotions que ressent Alice fasse aux personnages et leurs actions loufoques (par exemple le fait que certains personnages courent constamment après le \"temps\" et qu'il y font constamment référence).\n",
        "\n",
        "Visualisation des chapitres :\n",
        "\n",
        "  - Les numéros rouges représentent les chapitres du corpus. Leur position indique leur proximité avec les termes qu’ils utilisent fréquemment, par exemple :\n",
        "      - Chapitre 9 : Positionné près de \"gryphon\" et \"mock\", reflétant son association à la scène avec le Mock Turtle.\n",
        "      - Chapitre 10 : Situé à proximité de \"king\" et \"jury\", illustrant son lien direct avec la scène du jugement du roi. Ce chapitre met en avant le tribunal, où les interactions absurdes et les personnages comme le roi et le jury jouent un rôle central. Les mots associés soulignent le cadre juridique et le ton burlesque de cette partie de l'histoire, où les règles sont souvent contournées ou ridiculisées.\n",
        "      - Chapitre 1 : Plus proche de termes centraux comme \"alice\" et \"rabbit\", soulignant son rôle introductif, avec des termes que l'on retrouve tout au long du récit.\n",
        "\n",
        "Ce graphique mets en lumière des chapitres spécifiques étant étroitement liés à des moments marquants et à des vocabulaires particuliers, tandis que d'autres mots et chapitres jouent un rôle transversal et unificateur.\n",
        "  "
      ]
    },
    {
      "cell_type": "code",
      "execution_count": null,
      "metadata": {
        "colab": {
          "base_uri": "https://localhost:8080/"
        },
        "id": "hgYeocfoeUAk",
        "outputId": "ff76c8e9-0713-4db7-d811-12c0cde99f0c"
      },
      "outputs": [
        {
          "output_type": "stream",
          "name": "stdout",
          "text": [
            "Axe 1 :\n",
            "  Pourcentage d'inertie : 18.60%\n",
            "  Mots les plus contributeurs : {'turtle': 14.04, 'gryphon': 12.96, 'mock': 12.65, 'lobster': 6.9, 'dance': 6.9, 'beautiful': 4.44, 'soup': 4.22, 'join': 3.1, 'sea': 2.76, 'repeat': 1.94}\n",
            "--------------------------------------------------\n",
            "Axe 2 :\n",
            "  Pourcentage d'inertie : 15.74%\n",
            "  Mots les plus contributeurs : {'hatter': 12.32, 'dormouse': 9.53, 'king': 4.91, 'march': 4.91, 'hare': 4.78, 'court': 4.34, 'tea': 3.48, 'witness': 3.14, 'twinkle': 2.25, 'mouse': 2.23}\n",
            "--------------------------------------------------\n",
            "Axe 3 :\n",
            "  Pourcentage d'inertie : 11.22%\n",
            "  Mots les plus contributeurs : {'queen': 9.52, 'king': 6.21, 'caterpillar': 5.08, 'dormouse': 3.44, 'hedgehog': 3.1, 'hatter': 2.75, 'soldier': 2.6, 'hare': 2.51, 'serpent': 2.47, 'pigeon': 2.47}\n",
            "--------------------------------------------------\n",
            "Axe 4 :\n",
            "  Pourcentage d'inertie : 10.65%\n",
            "  Mots les plus contributeurs : {'footman': 7.33, 'king': 6.03, 'cat': 5.6, 'mad': 5.37, 'baby': 3.96, 'jury': 3.61, 'grin': 3.61, 'duchess': 2.95, 'court': 2.74, 'caterpillar': 2.49}\n",
            "--------------------------------------------------\n",
            "Axe 5 :\n",
            "  Pourcentage d'inertie : 10.39%\n",
            "  Mots les plus contributeurs : {'caterpillar': 20.49, 'serpent': 10.52, 'pigeon': 10.52, 'mouse': 4.89, 'say': 1.99, 'bit': 1.91, 'size': 1.9, 'minute': 1.56, 'tree': 1.51, 'dodo': 1.3}\n",
            "--------------------------------------------------\n",
            "Axe 6 :\n",
            "  Pourcentage d'inertie : 8.18%\n",
            "  Mots les plus contributeurs : {'mouse': 15.78, 'dodo': 14.92, 'bird': 3.8, 'bill': 3.65, 'bottle': 2.62, 'party': 2.35, 'grow': 2.35, 'rabbit': 2.22, 'say': 1.92, 'happen': 1.83}\n",
            "--------------------------------------------------\n",
            "Axe 7 :\n",
            "  Pourcentage d'inertie : 7.62%\n",
            "  Mots les plus contributeurs : {'queen': 7.43, 'hedgehog': 6.36, 'footman': 5.26, 'soldier': 4.59, 'baby': 4.51, 'game': 3.34, 'sneeze': 3.21, 'pig': 3.1, 'jury': 2.99, 'mad': 2.9}\n",
            "--------------------------------------------------\n",
            "Axe 8 :\n",
            "  Pourcentage d'inertie : 5.04%\n",
            "  Mots les plus contributeurs : {'duchess': 7.92, 'bill': 3.89, 'cry': 3.48, 'lobster': 3.31, 'dance': 3.31, 'turtle': 3.15, 'mock': 3.14, 'old': 2.89, 'beautiful': 2.4, 'hedgehog': 2.39}\n",
            "--------------------------------------------------\n",
            "Axe 9 :\n",
            "  Pourcentage d'inertie : 4.36%\n",
            "  Mots les plus contributeurs : {'sister': 7.67, 'witness': 4.73, 'bill': 3.61, 'court': 2.88, 'jury': 2.8, 'fall': 2.06, 'book': 1.96, 'give': 1.93, 'cook': 1.93, 'write': 1.87}\n",
            "--------------------------------------------------\n",
            "Axe 10 :\n",
            "  Pourcentage d'inertie : 4.22%\n",
            "  Mots les plus contributeurs : {'pool': 7.64, 'eat': 6.19, 'fall': 5.69, 'dodo': 4.63, 'fan': 4.25, 'dinah': 3.97, 'suddenly': 3.72, 'glove': 3.37, 'wonder': 2.22, 'foot': 2.19}\n",
            "--------------------------------------------------\n"
          ]
        }
      ],
      "source": [
        "# Nombre d'axes à analyser\n",
        "n_axes = 10\n",
        "# Nombre de mots les plus contributeurs par axe\n",
        "n_top_words = 10\n",
        "\n",
        "# Pour chaque axe, calculer le pourcentage d'inertie et les mots principaux\n",
        "for dim in range(n_axes):\n",
        "    # Pourcentage d'inertie\n",
        "    p_var = eig_val[dim] / sum(eig_val) * 100\n",
        "\n",
        "    # Mots les plus contributeurs\n",
        "    top_contrib_ids = np.argsort(row_contrib[:, dim])[::-1][:n_top_words]\n",
        "    contrib_dic = {dictionary[id]: round(row_contrib[id, dim] * 100, 2) for id in top_contrib_ids}\n",
        "\n",
        "    # Affichage des résultats\n",
        "    print(f\"Axe {dim + 1} :\")\n",
        "    print(f\"  Pourcentage d'inertie : {p_var:.2f}%\")\n",
        "    print(f\"  Mots les plus contributeurs : {contrib_dic}\")\n",
        "    print(\"-\" * 50)\n"
      ]
    },
    {
      "cell_type": "markdown",
      "metadata": {
        "id": "VSNMQF4Zt7st"
      },
      "source": [
        "##Partie 3 : Topic modeling"
      ]
    },
    {
      "cell_type": "markdown",
      "metadata": {
        "id": "j-TO3IsZuBVR"
      },
      "source": [
        "##3.1"
      ]
    },
    {
      "cell_type": "code",
      "execution_count": null,
      "metadata": {
        "colab": {
          "base_uri": "https://localhost:8080/",
          "height": 599
        },
        "id": "tIJW_PxShGUL",
        "outputId": "4bd40123-b600-4114-c76a-8edeb58e653a"
      },
      "outputs": [
        {
          "output_type": "stream",
          "name": "stderr",
          "text": [
            "100%|██████████| 14/14 [00:34<00:00,  2.48s/it]\n"
          ]
        },
        {
          "output_type": "display_data",
          "data": {
            "text/plain": [
              "<Figure size 1000x600 with 1 Axes>"
            ],
            "image/png": "[encoded data removed]"
          },
          "metadata": {}
        },
        {
          "output_type": "stream",
          "name": "stdout",
          "text": [
            "Nombre optimal de thèmes (k) : 10\n"
          ]
        }
      ],
      "source": [
        "import gensim\n",
        " # LdaModel pour la modélisation LDA, CoherenceModel pour évaluer la qualité des thèmes\n",
        "from gensim.models import LdaModel, CoherenceModel\n",
        "import matplotlib.pyplot as plt\n",
        "import numpy as np\n",
        "# Bibliothèque pour afficher une barre de progression lors de boucles longues\n",
        "from tqdm import tqdm\n",
        "\n",
        "# Fixer la graine aléatoire\n",
        "SEED = 42\n",
        "np.random.seed(SEED)\n",
        "\n",
        "# Range de valeurs pour le nombre de thèmes k\n",
        "# Teste les valeurs de k entre 4 et 20\n",
        "ks = list(range(1, 15))\n",
        "# Nombre de répétitions par valeur de k\n",
        "n_tests = 3\n",
        "coherences = []\n",
        "\n",
        "# Calculer la cohérence pour chaque k\n",
        "for k in tqdm(ks):\n",
        "    sum_coherence = 0\n",
        "    for _ in range(n_tests):\n",
        "        # Entraîner un modèle LDA avec k thèmes\n",
        "        lda_model = LdaModel(corpus_filtered_bow, id2word=dictionary, num_topics=k, passes=10, random_state=SEED)\n",
        "\n",
        "        # Calculer la cohérence C_v\n",
        "        coherence_model = CoherenceModel(model=lda_model, texts=texts, dictionary=dictionary, coherence=\"c_v\")\n",
        "        sum_coherence += coherence_model.get_coherence()\n",
        "\n",
        "    # Moyenne des cohérences pour cette valeur de k\n",
        "    coherences.append(sum_coherence / n_tests)\n",
        "\n",
        "# Tracer la courbe de cohérence en fonction de k\n",
        "plt.figure(figsize=(10, 6))\n",
        "plt.plot(ks, coherences, marker='o', color='red')\n",
        "plt.xlabel(\"Nombre de thèmes (k)\")\n",
        "plt.ylabel(\"Cohérence (C_v)\")\n",
        "plt.title(\"Cohérence en fonction du nombre de thèmes\")\n",
        "plt.grid(True)\n",
        "plt.show()\n",
        "\n",
        "# Trouver la valeur optimale de k\n",
        "optimal_k = ks[np.argmax(coherences)]\n",
        "print(f\"Nombre optimal de thèmes (k) : {optimal_k}\")\n",
        "\n",
        "# Entraîner le modèle LDA final avec k optimal\n",
        "lda_model = LdaModel(corpus_filtered_bow, num_topics=optimal_k, id2word=dictionary, passes=10, random_state=SEED)\n"
      ]
    },
    {
      "cell_type": "markdown",
      "metadata": {
        "id": "OYFwjbf_uT4H"
      },
      "source": [
        "##3.2"
      ]
    },
    {
      "cell_type": "code",
      "execution_count": null,
      "metadata": {
        "colab": {
          "base_uri": "https://localhost:8080/"
        },
        "id": "VxFobwyolTCO",
        "outputId": "338ee53b-3a05-4916-dc49-602b34f1f4c0"
      },
      "outputs": [
        {
          "output_type": "stream",
          "name": "stdout",
          "text": [
            "Thème 0 : 0.054*\"alice\" + 0.035*\"little\" + 0.027*\"think\" + 0.025*\"say\" + 0.023*\"go\" + 0.021*\"rabbit\" + 0.019*\"come\" + 0.018*\"find\" + 0.018*\"way\" + 0.017*\"like\"\n",
            "Thème 1 : 0.101*\"gryphon\" + 0.084*\"turtle\" + 0.074*\"mock\" + 0.060*\"lobster\" + 0.060*\"dance\" + 0.049*\"soup\" + 0.044*\"beautiful\" + 0.042*\"say\" + 0.040*\"repeat\" + 0.038*\"will\"\n",
            "Thème 2 : 0.089*\"say\" + 0.076*\"alice\" + 0.051*\"hatter\" + 0.042*\"dormouse\" + 0.034*\"march\" + 0.032*\"hare\" + 0.027*\"time\" + 0.023*\"go\" + 0.022*\"know\" + 0.021*\"thing\"\n",
            "Thème 3 : 0.023*\"say\" + 0.022*\"alice\" + 0.011*\"queen\" + 0.009*\"go\" + 0.009*\"turtle\" + 0.008*\"look\" + 0.007*\"mock\" + 0.007*\"think\" + 0.007*\"head\" + 0.007*\"know\"\n",
            "Thème 4 : 0.090*\"say\" + 0.083*\"caterpillar\" + 0.053*\"alice\" + 0.039*\"pigeon\" + 0.039*\"serpent\" + 0.026*\"think\" + 0.024*\"size\" + 0.023*\"minute\" + 0.023*\"little\" + 0.023*\"try\"\n",
            "Thème 5 : 0.073*\"say\" + 0.065*\"alice\" + 0.032*\"queen\" + 0.030*\"go\" + 0.027*\"cat\" + 0.023*\"look\" + 0.023*\"think\" + 0.020*\"like\" + 0.016*\"begin\" + 0.016*\"head\"\n",
            "Thème 6 : 0.105*\"say\" + 0.079*\"alice\" + 0.027*\"turtle\" + 0.026*\"mock\" + 0.025*\"know\" + 0.020*\"gryphon\" + 0.019*\"think\" + 0.019*\"go\" + 0.016*\"come\" + 0.015*\"little\"\n",
            "Thème 7 : 0.092*\"say\" + 0.053*\"king\" + 0.036*\"alice\" + 0.022*\"look\" + 0.022*\"jury\" + 0.021*\"hatter\" + 0.021*\"queen\" + 0.020*\"begin\" + 0.020*\"court\" + 0.018*\"rabbit\"\n",
            "Thème 8 : 0.102*\"mouse\" + 0.040*\"dear\" + 0.036*\"oh\" + 0.034*\"cry\" + 0.031*\"alice\" + 0.029*\"little\" + 0.027*\"thing\" + 0.025*\"foot\" + 0.025*\"pool\" + 0.024*\"think\"\n",
            "Thème 9 : 0.013*\"say\" + 0.009*\"alice\" + 0.007*\"little\" + 0.007*\"think\" + 0.007*\"rabbit\" + 0.007*\"king\" + 0.006*\"look\" + 0.006*\"begin\" + 0.006*\"hatter\" + 0.006*\"find\"\n"
          ]
        }
      ],
      "source": [
        "# Entraîner le modèle final avec k optimal (ici 10)\n",
        "optimal_k = 10\n",
        "lda_model = LdaModel(corpus_filtered_bow, num_topics=optimal_k, id2word=dictionary, passes=10, random_state=SEED)\n",
        "\n",
        "# Afficher les thèmes obtenus\n",
        "topics = lda_model.show_topics(num_topics=optimal_k, num_words=10, formatted=True)\n",
        "for topic in topics:\n",
        "    print(f\"Thème {topic[0]} : {topic[1]}\")\n"
      ]
    },
    {
      "cell_type": "code",
      "execution_count": null,
      "metadata": {
        "colab": {
          "base_uri": "https://localhost:8080/",
          "height": 543
        },
        "id": "is66bmA2mAcr",
        "outputId": "c19c7f85-0881-4f4d-81bb-7cf671fa70b1"
      },
      "outputs": [
        {
          "output_type": "stream",
          "name": "stderr",
          "text": [
            "<ipython-input-17-04924ea7e95e>:26: MatplotlibDeprecationWarning: The get_cmap function was deprecated in Matplotlib 3.7 and will be removed in 3.11. Use ``matplotlib.colormaps[name]`` or ``matplotlib.colormaps.get_cmap()`` or ``pyplot.get_cmap()`` instead.\n",
            "  topic_color = cm.get_cmap('tab10', optimal_k)\n"
          ]
        },
        {
          "output_type": "display_data",
          "data": {
            "text/plain": [
              "<Figure size 1600x600 with 7 Axes>"
            ],
            "image/png": "[encoded data removed]"
          },
          "metadata": {}
        }
      ],
      "source": [
        "import matplotlib.pyplot as plt\n",
        "# Permet de gérer des dispositions de sous-graphiques complexes\n",
        "from matplotlib.gridspec import GridSpec\n",
        "import numpy as np\n",
        "# Fournit des cartes de couleurs pour des graphiques visuellement différenciés\n",
        "from matplotlib import cm\n",
        "import random\n",
        "from gensim.models import LdaModel\n",
        "\n",
        "# Fixer la graine aléatoire pour toutes les sources d'aléatoire\n",
        "SEED = 42\n",
        "random.seed(SEED)\n",
        "np.random.seed(SEED)\n",
        "\n",
        "# Entraîner le modèle LDA si ce n'est pas déjà fait\n",
        "optimal_k = 7  # P.S. : Nous avons découvert qu'en mettant 10 comme mon optimal_k (comme trouvé plus haut), trop de thèmes similaires apparaissaient et ils étaient difficiles à différencier. Nous avons donc volontairement réduit ce nombre de thèmes à 7.\n",
        "lda_model = LdaModel(\n",
        "    corpus=corpus_filtered_bow,\n",
        "    id2word=dictionary,\n",
        "    num_topics=optimal_k,\n",
        "    passes=10,\n",
        "    random_state=SEED\n",
        ")\n",
        "\n",
        "# Couleurs pour les thèmes avec une palette différenciable\n",
        "topic_color = cm.get_cmap('tab10', optimal_k)\n",
        "\n",
        "# Taille de la figure\n",
        "nx_grid = int(np.sqrt(optimal_k))\n",
        "ny_grid = int(np.ceil(optimal_k / nx_grid))\n",
        "plt.rcParams[\"figure.figsize\"] = [ny_grid * 4, nx_grid * 3]\n",
        "fig = plt.figure()\n",
        "grid_layout = GridSpec(nx_grid, ny_grid)\n",
        "\n",
        "# Boucle pour chaque thème\n",
        "for i in range(optimal_k):\n",
        "    # Les 10 mots les plus probables pour ce thème\n",
        "    top_words = lda_model.show_topic(i, topn=10)\n",
        "    words = [word for word, _ in top_words]\n",
        "    probs = [prob for _, prob in top_words]\n",
        "\n",
        "    # Ajouter un graphique\n",
        "    ax = fig.add_subplot(grid_layout[i])\n",
        "    ax.barh(words, probs, color=topic_color(i))\n",
        "    ax.set_title(f\"Thème {i + 1}\")\n",
        "    ax.invert_yaxis()\n",
        "\n",
        "# Ajuster la disposition\n",
        "grid_layout.tight_layout(fig)\n",
        "plt.show()\n",
        "\n"
      ]
    },
    {
      "cell_type": "markdown",
      "metadata": {
        "id": "kaPJxKe2uY9-"
      },
      "source": [
        "##3.3"
      ]
    },
    {
      "cell_type": "code",
      "execution_count": null,
      "metadata": {
        "colab": {
          "base_uri": "https://localhost:8080/",
          "height": 512
        },
        "id": "4iu_FMenmZId",
        "outputId": "0548600e-9cd2-48a7-eb12-a86a4a7bdffd"
      },
      "outputs": [
        {
          "output_type": "stream",
          "name": "stderr",
          "text": [
            "<ipython-input-18-8b166252ce0b>:11: MatplotlibDeprecationWarning: The get_cmap function was deprecated in Matplotlib 3.7 and will be removed in 3.11. Use ``matplotlib.colormaps[name]`` or ``matplotlib.colormaps.get_cmap()`` or ``pyplot.get_cmap()`` instead.\n",
            "  topic_color = cm.get_cmap('tab10', lda_model.num_topics)\n"
          ]
        },
        {
          "output_type": "display_data",
          "data": {
            "text/plain": [
              "<Figure size 800x450 with 12 Axes>"
            ],
            "image/png": "[encoded data removed]"
          },
          "metadata": {}
        }
      ],
      "source": [
        "import matplotlib.pyplot as plt\n",
        "from matplotlib.gridspec import GridSpec\n",
        "import numpy as np\n",
        "from matplotlib import cm\n",
        "\n",
        "# Fixer la graine aléatoire pour garantir la reproductibilité\n",
        "SEED = 42\n",
        "np.random.seed(SEED)\n",
        "\n",
        "# Couleurs pour les thèmes (tab10 pour des couleurs distinctes)\n",
        "topic_color = cm.get_cmap('tab10', lda_model.num_topics)\n",
        "\n",
        "# Taille de la grille pour les documents\n",
        "nx_grid = int(np.sqrt(len(corpus_filtered_bow)))\n",
        "ny_grid = int(np.ceil(len(corpus_filtered_bow) / nx_grid))\n",
        "plt.rcParams[\"figure.figsize\"] = [ny_grid * 2, nx_grid * 1.5]\n",
        "fig = plt.figure()\n",
        "grid_layout = GridSpec(nx_grid, ny_grid)\n",
        "\n",
        "# Boucle pour chaque document\n",
        "for i, document in enumerate(corpus_filtered_bow):\n",
        "    # Obtenir la répartition des thèmes pour ce document\n",
        "    topics_freqs = lda_model.get_document_topics(document, minimum_probability=0)\n",
        "    topics = [topic for topic, _ in topics_freqs]\n",
        "    freqs = [freq for _, freq in topics_freqs]\n",
        "\n",
        "    # Ajouter un graphique\n",
        "    ax = fig.add_subplot(grid_layout[i])\n",
        "    # Appliquer la couleur correspondant au thème\n",
        "    colors = [topic_color(topic) for topic in topics]\n",
        "    ax.bar(topics, freqs, color=colors)\n",
        "    ax.set_title(f\"Document {i + 1}\")\n",
        "    ax.set_ylim([0, 1])\n",
        "\n",
        "# Ajuster la disposition\n",
        "grid_layout.tight_layout(fig)\n",
        "plt.show()\n",
        "\n"
      ]
    },
    {
      "cell_type": "markdown",
      "metadata": {
        "id": "l3oH2J4Fueiu"
      },
      "source": [
        "##Commentaire 3.4\n",
        "\n",
        "Pour identifier le nombre de thèmes idéals (k) dans notre corpus, nous avons utilisé une mesure de cohérence Cv​. Cette mesure évalue la qualité des thèmes en mesurant leur cohérence sémantique, c’est-à-dire la proximité conceptuelle entre les mots dominants au sein d’un même thème.\n",
        "\n",
        "1. partie 3.2: Répartition des 10 mots les plus probables pour chaque thème (Figure des thèmes):\n",
        "\n",
        "  Cette figure montre les thèmes identifiés par le modèle LDA et les 10 mots les plus probables associés à chaque thème :\n",
        "\n",
        "  - Thème 1 : Les mots dominants sont \"alice\", \"little\", \"think\", et \"say\". Ce thème semble général et reflète les pensées et réflexions d'Alice, un fil conducteur à travers plusieurs chapitres.\n",
        "  - Thème 2 : Ce thème est assez proche du thème 1, où des mots similaires réapparaissent. Toutefois, les mots comme \"gryphon\" et \"turtle\" indiquent une forte association avec les scènes du \"Mock Turtle\". Ce thème est très spécifique au chapitre 9.\n",
        "  - Thème 3 : On y retrouve les mots \"hatter\", \"dormouse\", \"hare\" et \"king\". Ce thème est clairement lié à la scène du Chapelier Fou (chapitre 7), marquée par des dialogues absurdes et des personnages excentriques.\n",
        "  - Thème 4 : Les mots comme \"queen\", \"duchess\", et \"mock\" pointent vers des interactions royales ou scénarios de cour, peut-être liés aux tensions autour de la Reine de Cœur (dans les chapitres 8, 11 et 12) où les personnages de la tortue et du gryphon sont aussi présents.\n",
        "  - Thème 5 : Avec \"mouse\", \"dodo\", ce thème se concentre sur les interactions animales au début de l’histoire, notamment autour de la mare de larmes où Alice rencontre et interragit avec des personnes étranges que sont la souris et le dodo.\n",
        "  - Thème 6 : On y retrouve les mots \"cat\", \"queen\" et \"king\". Ce thème semble capturer les moments philosophiques et étranges où Alice rencontre des personnages énigmatiques, comme le chat. Aussi ce thème peut faire référence à des passages où Alice est en interaction ou discute de la cour royale.\n",
        "  - Thème 7 : Les mots \"turtle\", \"gryphon\", et \"mock\" réapparaissent ici, confirmant une attention particulière pour la scène du Mock Turtle dans plusieurs documents.\n",
        "\n",
        "Ces thèmes montrent une segmentation claire entre des scènes spécifiques (Chapelier Fou, Mock Turtle) et des motifs récurrents (pensées d’Alice).\n",
        "\n",
        "2. Répartition des thèmes dans les documents (Figure des documents)\n",
        "\n",
        "Cette figure illustre la contribution des différents thèmes dans chaque document ou chapitre :\n",
        "\n",
        "  - Documents 1, 2, et 4 : Ces chapitres du début du récit sont dominés par le thème 1, correspond à la découverte d'Alice et du nouveau monde totalement absurde qui l'entoure. Le lapin est également prédominant dans ces premiers chapitres. Certains mots rappellent des parties spécifiques du récit. Par exemple \"little\" rappelle le moment dans le chapitre 1 ou Alice est rétrécie. Aussi les mots \"go\", \"way\", \"rabbit\", \"come\" nous rappelle les chapitre 2 et 4 où Alice et le lapin se baladent et découvrent ce monde imaginaire.\n",
        "  - Documents 3 : Il est tout à fait cohérent avec le thème 5. En effet, dans ce chapitre, Alice nage dans une mare de larme et y rencontre pleins d'animaux loufoques comme le dodo et la souris qui proposent des jeux pour se sécher. Les dialogues y sont prédominants (d'où l'importance de \"say\" dans ce thème) et les animaux au centre du dialogue (d'où l'importance de \"dodo\" et \"mouse\" dans le thème 5).\n",
        "  - Documents 5 et 10 : Ces deux documents sont marqués par le thème 7. Ceci est tout à fait cohérent, étant donné que le chapitre 5 est une conversation entre Alice et la chenille (d'où l'importance du mot \"caterpillar\" dans le thème 7) et le chapitre 10 parle de la rencontre entre Alice, le Mock et le Gryphon (d'où l'importance de ces deux mots également dans le thème 7).\n",
        "  - Documents 6, 8 et 12 : On y retrouve dans ces trois chapitres essentiellement le thème 6. Ceci est cohérent étant donné que le chapitre 6 traite d'une longue discussion entre Alice et le \"cat\" (d'où l'importance du mot \"cat\" dans le thème 6) et les chapitres 8 et 12 sont centrés surtout sur la reine et un petit peu moiuns sur le roi (d'où l'importance de \"queen\" dans le thème 6 et d'un peu moins du terme \"king\").\n",
        "  - Documents 7 et 11 : Nous y trouvons essentiellement le thème 3. Ceci essentiellement car le chapitre 7 traite du chapelier fou (\"hatter\"), du Loir (\"Dormouse\") et du lièce (\"hare\"). Le chapitre 11 traite enssentiellement du roi et du procès pour savoir qui a volé la tarte avec comme jury le Loir et comme témoin le chapelier fou (les mots \"King\", \"Dormouse\" et \"Hatter\" qui sont propres au thème 7).\n",
        "  - Document 9 : caractérisé par le thème 4. Ce chapitre comprend Alice, accompagné du Gryphon, qui écoutent les tristes histoires de la tortue (d'où l'importance des mots \"turtle\", \"mock\" et \"gryphon\" qui sont des mots importants pour le thème 4).  \n",
        "\n",
        "  "
      ]
    },
    {
      "cell_type": "markdown",
      "metadata": {
        "id": "ZUpQF2bRoFmE"
      },
      "source": [
        "#Partie 4 : Word embeddings\n"
      ]
    },
    {
      "cell_type": "code",
      "execution_count": null,
      "metadata": {
        "colab": {
          "base_uri": "https://localhost:8080/"
        },
        "id": "jQH3EBFmqeHJ",
        "outputId": "5ecbf665-ab5e-4612-8fdb-3122d524fb80"
      },
      "outputs": [
        {
          "output_type": "stream",
          "name": "stdout",
          "text": [
            "Exemple d'une phrase tokenisée : ['rabbit', 'hole', 'alice', 'begin', 'tired', 'sit', 'sister', 'bank', 'have', 'twice', 'peep', 'book', 'sister', 'read', 'picture', 'conversation', 'use', 'book', 'think', 'alice', 'picture', 'conversation']\n"
          ]
        }
      ],
      "source": [
        "import os\n",
        "\n",
        "# Charger les fichiers pré-traités\n",
        "corpus_pp_path = \"chapters_corrected_preprocessed\"\n",
        "file_names = sorted(os.listdir(corpus_pp_path))\n",
        "\n",
        "# Liste pour stocker les phrases tokenisées\n",
        "sentences = []\n",
        "for file_name in file_names:\n",
        "    with open(f\"{corpus_pp_path}/{file_name}\", \"r\", encoding=\"utf-8\") as text_file:\n",
        "        # Lire chaque ligne comme une phrase\n",
        "        text_sentences = text_file.readlines()\n",
        "        # Chaque phrase est une liste de tokens\n",
        "        text_token_sentences = [text_sentence.split() for text_sentence in text_sentences]\n",
        "        sentences.extend(text_token_sentences)\n",
        "\n",
        "# Exemple d'une phrase tokenisée\n",
        "print(\"Exemple d'une phrase tokenisée :\", sentences[0])\n"
      ]
    },
    {
      "cell_type": "markdown",
      "metadata": {
        "id": "nB30c24doO6z"
      },
      "source": [
        "##4.1"
      ]
    },
    {
      "cell_type": "code",
      "execution_count": null,
      "metadata": {
        "colab": {
          "base_uri": "https://localhost:8080/"
        },
        "id": "3VkZ9YceqjZK",
        "outputId": "c3e4ddb7-822e-4487-dc08-8eb4ab60c9c5"
      },
      "outputs": [
        {
          "output_type": "stream",
          "name": "stdout",
          "text": [
            "Taille du vocabulaire : 472\n"
          ]
        }
      ],
      "source": [
        "# Modèle pour créer des représentations vectorielles de mots (word embeddings)\n",
        "from gensim.models import Word2Vec\n",
        "\n",
        "# Entraîner un modèle Word2Vec avec les paramètres spécifiés\n",
        "wv_model = Word2Vec(\n",
        "    sentences,\n",
        "    min_count=5, #ici nous filtrons les mots les moins fréquents\n",
        "    window=5, #fenêtre de 5 mots\n",
        "    vector_size=300, #vecteur de taille 300\n",
        "    sg=1,\n",
        "    epochs=10\n",
        ")\n",
        "\n",
        "# Taille du vocabulaire après filtrage\n",
        "wv_vocab = wv_model.wv.key_to_index\n",
        "print(f\"Taille du vocabulaire : {len(wv_vocab)}\")\n"
      ]
    },
    {
      "cell_type": "code",
      "execution_count": null,
      "metadata": {
        "colab": {
          "base_uri": "https://localhost:8080/"
        },
        "id": "WohehJbDq--s",
        "outputId": "8b2c5944-c662-4151-e834-521b756fd7de"
      },
      "outputs": [
        {
          "output_type": "stream",
          "name": "stdout",
          "text": [
            "True\n",
            "True\n"
          ]
        }
      ],
      "source": [
        "print(\"alice\" in wv_vocab)\n",
        "print(\"queen\" in wv_vocab)\n"
      ]
    },
    {
      "cell_type": "code",
      "execution_count": null,
      "metadata": {
        "colab": {
          "base_uri": "https://localhost:8080/"
        },
        "id": "NFftUb2ArC9F",
        "outputId": "dad47cbc-33b7-4c61-fad4-84a067ed2350"
      },
      "outputs": [
        {
          "output_type": "stream",
          "name": "stdout",
          "text": [
            "Vecteur de 'alice' : [ 0.03242141  0.12929495 -0.00887352  0.08110716  0.03587078 -0.13444693\n",
            "  0.05524455  0.18889318  0.00289246 -0.04072254]\n"
          ]
        }
      ],
      "source": [
        "# Afficher les 10 premières coordonnées du vecteur du mot \"alice\"\n",
        "vector_alice = wv_model.wv.get_vector(\"alice\")[:10]\n",
        "print(\"Vecteur de 'alice' :\", vector_alice)\n"
      ]
    },
    {
      "cell_type": "code",
      "execution_count": null,
      "metadata": {
        "colab": {
          "base_uri": "https://localhost:8080/"
        },
        "id": "uUBopujxrMDI",
        "outputId": "ccc08716-41f7-4609-83cd-6a4105d5bcdc"
      },
      "outputs": [
        {
          "output_type": "stream",
          "name": "stdout",
          "text": [
            "Similarité entre 'alice' et 'queen' : 0.9985081\n",
            "Similarité entre 'alice' et 'rabbit' : 0.9972324\n"
          ]
        }
      ],
      "source": [
        "# Calculer la similarité cosinus entre deux mots\n",
        "print(\"Similarité entre 'alice' et 'queen' :\", wv_model.wv.similarity(\"alice\", \"queen\"))\n",
        "print(\"Similarité entre 'alice' et 'rabbit' :\", wv_model.wv.similarity(\"alice\", \"rabbit\"))\n",
        "\n"
      ]
    },
    {
      "cell_type": "code",
      "execution_count": null,
      "metadata": {
        "colab": {
          "base_uri": "https://localhost:8080/"
        },
        "id": "4VUIa96Wru84",
        "outputId": "990e2d8a-ad5f-44a7-e6d7-f6377c064c67"
      },
      "outputs": [
        {
          "output_type": "stream",
          "name": "stdout",
          "text": [
            "Mots les plus similaires à 'alice' : [('want', 0.9988974928855896), ('dodo', 0.9988600015640259), ('help', 0.9988497495651245), ('whiting', 0.9988468289375305), ('finish', 0.9988433718681335), ('pack', 0.9988403916358948), ('world', 0.9988383650779724), ('pick', 0.9988179206848145), ('somebody', 0.9988113045692444), ('exactly', 0.9988073706626892)]\n"
          ]
        }
      ],
      "source": [
        "# Trouver les mots les plus similaires à \"alice\"\n",
        "print(\"Mots les plus similaires à 'alice' :\", wv_model.wv.most_similar(\"alice\"))\n"
      ]
    },
    {
      "cell_type": "markdown",
      "metadata": {
        "id": "rjen_N9TrOfN"
      },
      "source": [
        "##4.2"
      ]
    },
    {
      "cell_type": "code",
      "execution_count": null,
      "metadata": {
        "colab": {
          "base_uri": "https://localhost:8080/"
        },
        "id": "AG6zmg4-tMT2",
        "outputId": "b2313e13-04dc-4d1c-f3e7-e1fe312ad989"
      },
      "outputs": [
        {
          "output_type": "stream",
          "name": "stdout",
          "text": [
            "10 mots les plus proches de 'alice' :\n",
            "  want (similarité : 0.9989)\n",
            "  dodo (similarité : 0.9989)\n",
            "  help (similarité : 0.9988)\n",
            "  whiting (similarité : 0.9988)\n",
            "  finish (similarité : 0.9988)\n",
            "  pack (similarité : 0.9988)\n",
            "  world (similarité : 0.9988)\n",
            "  pick (similarité : 0.9988)\n",
            "  somebody (similarité : 0.9988)\n",
            "  exactly (similarité : 0.9988)\n",
            "\n",
            "10 mots les plus proches de 'rabbit' :\n",
            "  kid (similarité : 0.9987)\n",
            "  pair (similarité : 0.9985)\n",
            "  majesty (similarité : 0.9983)\n",
            "  blow (similarité : 0.9982)\n",
            "  witness (similarité : 0.9982)\n",
            "  glove (similarité : 0.9982)\n",
            "  hand (similarité : 0.9981)\n",
            "  king (similarité : 0.9981)\n",
            "  evidence (similarité : 0.9981)\n",
            "  read (similarité : 0.9981)\n",
            "\n",
            "10 mots les plus proches de 'queen' :\n",
            "  consider (similarité : 0.9990)\n",
            "  arch (similarité : 0.9990)\n",
            "  sentence (similarité : 0.9990)\n",
            "  behead (similarité : 0.9990)\n",
            "  fetch (similarité : 0.9990)\n",
            "  bow (similarité : 0.9990)\n",
            "  scream (similarité : 0.9990)\n",
            "  tart (similarité : 0.9990)\n",
            "  miss (similarité : 0.9990)\n",
            "  execute (similarité : 0.9990)\n",
            "\n"
          ]
        }
      ],
      "source": [
        "# Choisir trois termes pertinents\n",
        "terms = [\"alice\", \"rabbit\", \"queen\"]\n",
        "\n",
        "# Afficher les 10 mots les plus proches pour chaque terme\n",
        "for term in terms:\n",
        "    if term in wv_vocab:\n",
        "        print(f\"10 mots les plus proches de '{term}' :\")\n",
        "        similar_words = wv_model.wv.most_similar(term, topn=10)\n",
        "        for word, similarity in similar_words:\n",
        "            print(f\"  {word} (similarité : {similarity:.4f})\")\n",
        "        print()\n",
        "    else:\n",
        "        print(f\"Le mot '{term}' n'est pas dans le vocabulaire du modèle.\")\n"
      ]
    },
    {
      "cell_type": "markdown",
      "metadata": {
        "id": "Cbpv9Secrk1L"
      },
      "source": [
        "##4.3"
      ]
    },
    {
      "cell_type": "code",
      "execution_count": null,
      "metadata": {
        "colab": {
          "base_uri": "https://localhost:8080/"
        },
        "id": "D0jnysB5uCLY",
        "outputId": "d7e26b84-8f16-4b1e-ad66-c9409dce818f"
      },
      "outputs": [
        {
          "output_type": "stream",
          "name": "stdout",
          "text": [
            "10 mots les plus fréquents : [('say', 481), ('alice', 394), ('think', 133), ('go', 130), ('little', 128), ('know', 107), ('look', 106), ('like', 92), ('begin', 92), ('come', 90)]\n"
          ]
        }
      ],
      "source": [
        "# Extraire les mots du vocabulaire et leurs fréquences\n",
        "word_freq = [(word, wv_model.wv.get_vecattr(word, \"count\")) for word in wv_vocab]\n",
        "\n",
        "# Trier les mots par fréquence décroissante\n",
        "word_freq = sorted(word_freq, key=lambda item: item[1], reverse=True)\n",
        "\n",
        "# Garder les 100 mots les plus fréquents\n",
        "top_words = word_freq[:100]\n",
        "\n",
        "# Afficher les 10 mots les plus fréquents\n",
        "print(\"10 mots les plus fréquents :\", top_words[:10])\n"
      ]
    },
    {
      "cell_type": "code",
      "execution_count": null,
      "metadata": {
        "colab": {
          "base_uri": "https://localhost:8080/"
        },
        "id": "V_x7ROxxuIgF",
        "outputId": "80e0d98c-f008-474c-b661-027a055b603a"
      },
      "outputs": [
        {
          "output_type": "stream",
          "name": "stdout",
          "text": [
            "Dimensions des vecteurs extraits : (100, 300)\n"
          ]
        }
      ],
      "source": [
        "import numpy as np\n",
        "\n",
        "# Initialiser un tableau pour stocker les vecteurs\n",
        "top_vectors = np.empty((len(top_words), 300), dtype=\"f\")\n",
        "\n",
        "# Remplir le tableau avec les vecteurs des 100 mots les plus fréquents\n",
        "for i, (word, _) in enumerate(top_words):\n",
        "    top_vectors[i] = wv_model.wv.get_vector(word)\n",
        "\n",
        "# Dimensions des vecteurs\n",
        "print(\"Dimensions des vecteurs extraits :\", top_vectors.shape)\n"
      ]
    },
    {
      "cell_type": "code",
      "execution_count": null,
      "metadata": {
        "colab": {
          "base_uri": "https://localhost:8080/"
        },
        "id": "TH_PpEa3uNhs",
        "outputId": "7d23fdc7-8735-4335-bf3b-5e2206a3bdac"
      },
      "outputs": [
        {
          "output_type": "stream",
          "name": "stdout",
          "text": [
            "Dimensions après t-SNE : (100, 2)\n"
          ]
        }
      ],
      "source": [
        "# Technique pour la réduction dimensionnelle, adaptée à la visualisation des données de grande dimension\n",
        "from sklearn.manifold import TSNE\n",
        "import matplotlib.pyplot as plt\n",
        "\n",
        "# Fixer un random seed pour garantir des résultats reproductibles\n",
        "RANDOM_SEED = 42\n",
        "np.random.seed(RANDOM_SEED)  # Fixer le seed pour NumPy (utile si d'autres parties du code l'utilisent)\n",
        "\n",
        "\n",
        "# Réduction dimensionnelle avec t-SNE\n",
        "# Réduction dimensionnelle avec t-SNE pour réduire les vecteurs à 2 dimensions (x, y), avec perplexité=5 pour ajuster la taille locale, init=\"pca\" pour une initialisation via PCA, et learning_rate=\"auto\" pour un taux d'apprentissage automatique adapté.\n",
        "coords_2d = TSNE(n_components=2, perplexity=5, init=\"pca\", learning_rate=\"auto\", random_state=RANDOM_SEED).fit_transform(top_vectors)\n",
        "\n",
        "# Afficher les dimensions des coordonnées réduites\n",
        "print(\"Dimensions après t-SNE :\", coords_2d.shape)\n"
      ]
    },
    {
      "cell_type": "markdown",
      "metadata": {
        "id": "sHq158L0sJoB"
      },
      "source": [
        "##4.4"
      ]
    },
    {
      "cell_type": "code",
      "execution_count": null,
      "metadata": {
        "colab": {
          "base_uri": "https://localhost:8080/",
          "height": 1000
        },
        "id": "nqvOKVQauWp9",
        "outputId": "be6bcf83-d27c-42c8-b830-f3b99507bd0b"
      },
      "outputs": [
        {
          "output_type": "display_data",
          "data": {
            "text/plain": [
              "<Figure size 1600x1600 with 1 Axes>"
            ],
            "image/png": "[encoded data removed]"
          },
          "metadata": {}
        }
      ],
      "source": [
        "# Créer un graphique 2D\n",
        "plt.figure(figsize=(16, 16))\n",
        "plt.scatter(coords_2d[:, 0], coords_2d[:, 1], alpha=0)\n",
        "\n",
        "# Annoter les mots dans le graphe en 2D avec une taille proportionnelle à leur fréquence, en utilisant une couleur bleue et un positionnement basé sur leurs coordonnées.\n",
        "for (word, freq), x, y in zip(top_words, coords_2d[:, 0], coords_2d[:, 1]):\n",
        "    plt.annotate(\n",
        "        word, xy=(x, y), xytext=(0, 0),\n",
        "        textcoords=\"offset points\",\n",
        "        size=(freq / top_words[0][1])**(0.7)*60,\n",
        "        color=\"blue\"\n",
        "    )\n",
        "\n",
        "\n",
        "# Titre et affichage\n",
        "plt.title(\"Projection t-SNE des 100 mots les plus fréquents\")\n",
        "plt.show()\n"
      ]
    },
    {
      "cell_type": "markdown",
      "metadata": {
        "id": "ce4184bHtJKM"
      },
      "source": [
        "##commentaire 4.4:\n",
        "\n",
        "Le graphique t-SNE projette les représentations vectorielles des 100 mots les plus fréquents du corpus dans un espace bidimensionnel. Les positions des mots dans cet espace indiquent leur proximité sémantique et contextuelle dans le texte.\n",
        "\n",
        "Ainsi, en observant le graphique, on observe différentes proximités entre les mots, montrant différents aspects du texte. Tout d'abord, Alice, étant un mot très fréquent (apparaissant en gros dans le graphique) se situe proche des mots \"say\", \"think\", \"feel\", \"know\". Ceci pourrait refléter les pensées et les réflexions d'Alice qui sont au coeur du récit : ses interrogations quant aux personnages absurdes et face au monde étrange qui l'entoure.\n",
        "\n",
        "Un autre point intéressant concerne la proximité des personnages dans le graphique en lien avec leurs interactions. Par exemple, on retrouve les mots \"duchess\", \"queen\" et \"speak\" symbolisant les scènes de cours, caractérisées par des tensions entre ces deux personnages. Aussi, nous retrouvons une proximité entre les mots \"turtle\", \"mock\", \"gryphon\" et \"Alice\" correspondant à la scène où Alice interagit avec le Mock Turtle et le Gryphon dans une discussion absurde et émotionnelle. Enfin, le cluster de mots \"hare\", \"dormouse\", \"hatter\", \"tea\", \"march\" représente très clairement la scène du thé avec le chapelier fou du chapitre 7 et les interactions absurdes caractérisant cet épisode.\n",
        "\n",
        "Enfin, on retrouve des mots d'action et de narration, par exemple \"go\", \"come\", \"look\", \"find\", dispersés vers le centre du graphique, et qui reflètent les actions et transitions récurrentes dans l'histoire. Ils permettent de structurer la progression narrative.\n",
        "\n"
      ]
    },
    {
      "cell_type": "markdown",
      "metadata": {
        "id": "mSQAkLShxHzA"
      },
      "source": [
        "#Partie 5 : Génération de séquences avec LSTM"
      ]
    },
    {
      "cell_type": "markdown",
      "metadata": {
        "id": "JeCX4hylxQXL"
      },
      "source": [
        "##5.1"
      ]
    },
    {
      "cell_type": "code",
      "execution_count": null,
      "metadata": {
        "colab": {
          "base_uri": "https://localhost:8080/"
        },
        "id": "9Mt2Ye8M53kx",
        "outputId": "9eb7ffcd-37fd-4b4d-cebe-6ff8227775d8"
      },
      "outputs": [
        {
          "output_type": "stream",
          "name": "stdout",
          "text": [
            "Taille du Dataset : 2134\n",
            "Exemple de séquence d'entrée : tensor([ 25, 667,  52,  12, 740, 131, 701, 305, 731, 700])\n",
            "Exemple de séquence de sortie : tensor([667,  52,  12, 740, 131, 701, 305, 731, 700, 490])\n",
            "Séquence d'entrée (tokens) : ['Down', 'the', 'Rabbit-Hole', 'Alice', 'was', 'beginning', 'to', 'get', 'very', 'tired']\n",
            "Séquence de sortie (tokens) : ['the', 'Rabbit-Hole', 'Alice', 'was', 'beginning', 'to', 'get', 'very', 'tired', 'of']\n"
          ]
        }
      ],
      "source": [
        "# Bibliothèque pour le calcul numérique avec GPU, utilisée ici pour le deep learning\n",
        "import torch\n",
        "# Classe utilitaire pour créer des ensembles de données personnalisés dans PyTorch.\n",
        "from torch.utils.data import Dataset\n",
        "import os\n",
        "\n",
        "RANDOM_SEED = 42\n",
        "torch.manual_seed(RANDOM_SEED)\n",
        "torch.cuda.manual_seed_all(RANDOM_SEED)\n",
        "np.random.seed(RANDOM_SEED)\n",
        "torch.backends.cudnn.deterministic = True\n",
        "torch.backends.cudnn.benchmark = False\n",
        "\n",
        "\n",
        "#        Initialisation du Dataset.\n",
        "\n",
        "#        Arguments:\n",
        "#        - file_path : chemin vers le fichier texte.\n",
        "#        - seq_len : longueur des séquences (𝑘 tokens).\n",
        "class TokenSequenceDataset(Dataset):\n",
        "    def __init__(self, file_path, seq_len):\n",
        "        self.seq_len = seq_len\n",
        "\n",
        "        # Lecture du fichier texte\n",
        "        with open(file_path, \"r\", encoding=\"utf-8\") as file:\n",
        "            text = file.read()\n",
        "\n",
        "        # Tokenisation simple en mots (peut être remplacé par une tokenisation plus complexe)\n",
        "        self.tokens = text.split()\n",
        "\n",
        "        # Tri du vocabulaire pour garantir un ordre déterministe\n",
        "        self.dictionary = sorted(list(set(self.tokens)))  # Tri alphabétique\n",
        "        self.token2id = {token: idx for idx, token in enumerate(self.dictionary)}\n",
        "        self.id2token = {idx: token for idx, token in enumerate(self.dictionary)}\n",
        "\n",
        "\n",
        "        # Conversion des tokens en IDs\n",
        "        self.token_ids = [self.token2id[token] for token in self.tokens]\n",
        "\n",
        "# Retourne la taille du dataset (nombre de séquences possibles).\n",
        "    def __len__(self):\n",
        "        return len(self.token_ids) - self.seq_len\n",
        "\n",
        "#         Retourne un couple entrée-sortie pour un index donné.\n",
        "\n",
        "#        Arguments:\n",
        "#        - idx : index de la séquence dans le dataset.\n",
        "\n",
        "#        Retour :\n",
        "#        - entrée (torch.Tensor) : séquence de 𝑘 tokens (𝑘 IDs).\n",
        "#        - sortie (torch.Tensor) : séquence de 𝑘 tokens décalée d’un token sur la droite.\n",
        "    def __getitem__(self, idx):\n",
        "        input_seq = torch.tensor(self.token_ids[idx:idx + self.seq_len], dtype=torch.long)\n",
        "        output_seq = torch.tensor(self.token_ids[idx + 1:idx + self.seq_len + 1], dtype=torch.long)\n",
        "        return input_seq, output_seq\n",
        "\n",
        "# Exemple d'utilisation\n",
        "file_path = \"chapters_corrected/chapter_01.txt\"\n",
        "seq_len = 10\n",
        "\n",
        "# Création de l'instance du Dataset\n",
        "dataset = TokenSequenceDataset(file_path, seq_len)\n",
        "\n",
        "# Vérification de la taille du dataset\n",
        "print(f\"Taille du Dataset : {len(dataset)}\")\n",
        "\n",
        "# Exemple d'accès à une paire entrée-sortie\n",
        "sample_input, sample_output = dataset[0]\n",
        "print(\"Exemple de séquence d'entrée :\", sample_input)\n",
        "print(\"Exemple de séquence de sortie :\", sample_output)\n",
        "\n",
        "# Pour afficher les tokens d'origine\n",
        "print(\"Séquence d'entrée (tokens) :\", [dataset.id2token[token.item()] for token in sample_input])\n",
        "print(\"Séquence de sortie (tokens) :\", [dataset.id2token[token.item()] for token in sample_output])\n"
      ]
    },
    {
      "cell_type": "markdown",
      "metadata": {
        "id": "zLwqjD2LxeE0"
      },
      "source": [
        "##5.3"
      ]
    },
    {
      "cell_type": "code",
      "execution_count": null,
      "metadata": {
        "colab": {
          "base_uri": "https://localhost:8080/"
        },
        "id": "CAJJF7KZ7XvM",
        "outputId": "8562e328-fe8e-49e2-ada8-dcdb4d742c99"
      },
      "outputs": [
        {
          "output_type": "stream",
          "name": "stdout",
          "text": [
            "Taille du Dataset 1 : 2134\n",
            "Taille du Dataset 2 : 2154\n",
            "Taille du Dataset 3 : 2018\n",
            "Batch 1 - Entrée : torch.Size([128, 10]), Sortie : torch.Size([128, 10])\n"
          ]
        }
      ],
      "source": [
        "import torch\n",
        "from torch.utils.data import Dataset, DataLoader\n",
        "import os\n",
        "\n",
        "RANDOM_SEED = 42\n",
        "torch.manual_seed(RANDOM_SEED)\n",
        "torch.cuda.manual_seed_all(RANDOM_SEED)\n",
        "np.random.seed(RANDOM_SEED)\n",
        "torch.backends.cudnn.deterministic = True\n",
        "torch.backends.cudnn.benchmark = False\n",
        "\n",
        "\n",
        "\n",
        "#        Initialisation du Dataset.\n",
        "\n",
        "#        Arguments:\n",
        "#        - file_path : chemin vers le fichier texte.\n",
        "#        - seq_len : longueur des séquences (𝑘 tokens).\n",
        "class TokenSequenceDataset(Dataset):\n",
        "    def __init__(self, file_path, seq_len):\n",
        "        self.seq_len = seq_len\n",
        "\n",
        "        # Lecture du fichier texte\n",
        "        with open(file_path, \"r\", encoding=\"utf-8\") as file:\n",
        "            text = file.read()\n",
        "\n",
        "        # Tokenisation simple en mots\n",
        "        self.tokens = text.split()\n",
        "\n",
        "        # Tri du vocabulaire pour garantir un ordre déterministe\n",
        "        self.dictionary = sorted(list(set(self.tokens)))\n",
        "        self.token2id = {token: idx for idx, token in enumerate(self.dictionary)}\n",
        "        self.id2token = {idx: token for idx, token in enumerate(self.dictionary)}\n",
        "\n",
        "\n",
        "        # Conversion des tokens en IDs\n",
        "        self.token_ids = [self.token2id[token] for token in self.tokens]\n",
        "\n",
        "# Retourne la taille du dataset (nombre de séquences possibles).\n",
        "    def __len__(self):\n",
        "        return len(self.token_ids) - self.seq_len\n",
        "\n",
        "\n",
        "\n",
        "#        Retourne un couple entrée-sortie pour un index donné.\n",
        "\n",
        "#        Arguments:\n",
        "#        - idx : index de la séquence dans le dataset.\n",
        "\n",
        "#        Retour :\n",
        "#        - entrée (torch.Tensor) : séquence de 𝑘 tokens (𝑘 IDs).\n",
        "#        - sortie (torch.Tensor) : séquence de 𝑘 tokens décalée d’un token sur la droite.\n",
        "    def __getitem__(self, idx):\n",
        "        input_seq = torch.tensor(self.token_ids[idx:idx + self.seq_len], dtype=torch.long)\n",
        "        output_seq = torch.tensor(self.token_ids[idx + 1:idx + self.seq_len + 1], dtype=torch.long)\n",
        "        return input_seq, output_seq\n",
        "\n",
        "\n",
        "# Chemins vers 3 documents distincts du corpus\n",
        "doc_paths = [\n",
        "    \"chapters_corrected/chapter_01.txt\",\n",
        "    \"chapters_corrected/chapter_05.txt\",\n",
        "    \"chapters_corrected/chapter_10.txt\"\n",
        "]\n",
        "\n",
        "# Longueur de séquences 𝑘\n",
        "seq_len = 10\n",
        "\n",
        "# Création des 3 datasets\n",
        "datasets = [TokenSequenceDataset(doc_path, seq_len) for doc_path in doc_paths]\n",
        "\n",
        "# Création des DataLoaders avec un batch de 128\n",
        "batch_size = 128\n",
        "dataloaders = [DataLoader(dataset, batch_size=batch_size, shuffle=False) for dataset in datasets]\n",
        "\n",
        "# Vérification des tailles de chaque Dataset\n",
        "for i, dataset in enumerate(datasets):\n",
        "    print(f\"Taille du Dataset {i+1} : {len(dataset)}\")\n",
        "\n",
        "# Exemple de lecture d'un batch pour le premier DataLoader\n",
        "for batch_idx, (inputs, outputs) in enumerate(dataloaders[0]):\n",
        "    print(f\"Batch {batch_idx+1} - Entrée : {inputs.shape}, Sortie : {outputs.shape}\")\n",
        "# Affiche un seul batch pour tester\n",
        "    break\n"
      ]
    },
    {
      "cell_type": "code",
      "execution_count": null,
      "metadata": {
        "colab": {
          "base_uri": "https://localhost:8080/"
        },
        "id": "ucPlbcE17o-S",
        "outputId": "933c3611-b2fb-4e03-8112-8d8ee17291e9"
      },
      "outputs": [
        {
          "output_type": "stream",
          "name": "stdout",
          "text": [
            "Entrée : ['Down', 'the', 'Rabbit-Hole', 'Alice', 'was', 'beginning', 'to', 'get', 'very', 'tired']\n",
            "Sortie : ['the', 'Rabbit-Hole', 'Alice', 'was', 'beginning', 'to', 'get', 'very', 'tired', 'of']\n",
            "Décalage correct : True\n",
            "--------------------------------------------------\n",
            "Entrée : ['the', 'Rabbit-Hole', 'Alice', 'was', 'beginning', 'to', 'get', 'very', 'tired', 'of']\n",
            "Sortie : ['Rabbit-Hole', 'Alice', 'was', 'beginning', 'to', 'get', 'very', 'tired', 'of', 'sitting']\n",
            "Décalage correct : True\n",
            "--------------------------------------------------\n",
            "Entrée : ['Rabbit-Hole', 'Alice', 'was', 'beginning', 'to', 'get', 'very', 'tired', 'of', 'sitting']\n",
            "Sortie : ['Alice', 'was', 'beginning', 'to', 'get', 'very', 'tired', 'of', 'sitting', 'by']\n",
            "Décalage correct : True\n",
            "--------------------------------------------------\n"
          ]
        }
      ],
      "source": [
        "# Vérification manuelle de quelques exemples de batch, leurs tokens et vérifiant le décalage entre l'entrée et la sortie.\n",
        "for inputs, outputs in dataloaders[0]:\n",
        "    # Vérifions 3 séquences du batch\n",
        "    for i in range(3):\n",
        "        input_tokens = [datasets[0].id2token[token.item()] for token in inputs[i]]\n",
        "        output_tokens = [datasets[0].id2token[token.item()] for token in outputs[i]]\n",
        "        print(\"Entrée :\", input_tokens)\n",
        "        print(\"Sortie :\", output_tokens)\n",
        "        print(\"Décalage correct :\", input_tokens[1:] == output_tokens[:-1])\n",
        "        print(\"-\" * 50)\n",
        "    break\n"
      ]
    },
    {
      "cell_type": "code",
      "execution_count": null,
      "metadata": {
        "colab": {
          "base_uri": "https://localhost:8080/"
        },
        "id": "Uu2fwXMr7yWb",
        "outputId": "5f8f9879-1eaa-42ae-bc63-96c9e53a46ac"
      },
      "outputs": [
        {
          "output_type": "stream",
          "name": "stdout",
          "text": [
            "Dataset 1 - Nombre de tokens uniques : 811\n",
            "Exemple de tokens : ['(Alice', '(Dinah', '(Which', '(and', '(as', '(for,', '(it', '(she', '(though', '(when']\n",
            "--------------------------------------------------\n",
            "Dataset 2 - Nombre de tokens uniques : 876\n",
            "Exemple de tokens : ['(it', 'Advice', 'After', 'Alice', 'Alice,', 'Alice.', 'Alice:', 'Alice;', 'Allow', 'And']\n",
            "--------------------------------------------------\n",
            "Dataset 3 - Nombre de tokens uniques : 842\n",
            "Exemple de tokens : ['(Alice', '(“I', 'Alice', 'Alice)—“and', 'Alice,', 'Alice.', 'Alice;', 'And', 'As', 'At']\n",
            "--------------------------------------------------\n"
          ]
        }
      ],
      "source": [
        "# Affichage de quelques tokens uniques dans chaque dataset\n",
        "for i, dataset in enumerate(datasets):\n",
        "    print(f\"Dataset {i+1} - Nombre de tokens uniques : {len(dataset.dictionary)}\")\n",
        "    print(\"Exemple de tokens :\", list(dataset.dictionary)[:10])\n",
        "    print(\"-\" * 50)\n"
      ]
    },
    {
      "cell_type": "code",
      "execution_count": null,
      "metadata": {
        "colab": {
          "base_uri": "https://localhost:8080/"
        },
        "id": "IHkz84w98H-T",
        "outputId": "3220f8c5-f161-4a3a-a6a2-d9ca8378f356"
      },
      "outputs": [
        {
          "output_type": "stream",
          "name": "stdout",
          "text": [
            "Entrée : ['Down', 'the', 'Rabbit-Hole', 'Alice', 'was', 'beginning', 'to', 'get', 'very', 'tired']\n",
            "Sortie : ['the', 'Rabbit-Hole', 'Alice', 'was', 'beginning', 'to', 'get', 'very', 'tired', 'of']\n",
            "--------------------------------------------------\n",
            "Entrée : ['the', 'Rabbit-Hole', 'Alice', 'was', 'beginning', 'to', 'get', 'very', 'tired', 'of']\n",
            "Sortie : ['Rabbit-Hole', 'Alice', 'was', 'beginning', 'to', 'get', 'very', 'tired', 'of', 'sitting']\n",
            "--------------------------------------------------\n",
            "Entrée : ['Rabbit-Hole', 'Alice', 'was', 'beginning', 'to', 'get', 'very', 'tired', 'of', 'sitting']\n",
            "Sortie : ['Alice', 'was', 'beginning', 'to', 'get', 'very', 'tired', 'of', 'sitting', 'by']\n",
            "--------------------------------------------------\n"
          ]
        }
      ],
      "source": [
        "# Inspectons 3 exemples au hasard\n",
        "for i in range(3):\n",
        "    input_seq, output_seq = datasets[0][i]\n",
        "    print(\"Entrée :\", [datasets[0].id2token[token.item()] for token in input_seq])\n",
        "    print(\"Sortie :\", [datasets[0].id2token[token.item()] for token in output_seq])\n",
        "    print(\"-\" * 50)\n"
      ]
    },
    {
      "cell_type": "code",
      "execution_count": null,
      "metadata": {
        "colab": {
          "base_uri": "https://localhost:8080/"
        },
        "id": "FHoVXNKN8Mp4",
        "outputId": "861be484-8e70-4916-a027-2564f6d3742f"
      },
      "outputs": [
        {
          "output_type": "stream",
          "name": "stdout",
          "text": [
            "Tokens communs entre Dataset 1 et 2 : 263\n",
            "Tokens communs entre Dataset 2 et 3 : 260\n",
            "Tokens communs entre Dataset 1 et 3 : 230\n"
          ]
        }
      ],
      "source": [
        "# Comparer les vocabulaires des datasets pour afficher les tokens communs entre eux.\n",
        "vocab_1 = set(datasets[0].dictionary)\n",
        "vocab_2 = set(datasets[1].dictionary)\n",
        "vocab_3 = set(datasets[2].dictionary)\n",
        "\n",
        "print(\"Tokens communs entre Dataset 1 et 2 :\", len(vocab_1 & vocab_2))\n",
        "print(\"Tokens communs entre Dataset 2 et 3 :\", len(vocab_2 & vocab_3))\n",
        "print(\"Tokens communs entre Dataset 1 et 3 :\", len(vocab_1 & vocab_3))\n"
      ]
    },
    {
      "cell_type": "code",
      "execution_count": null,
      "metadata": {
        "colab": {
          "base_uri": "https://localhost:8080/"
        },
        "id": "In1_Q98x8RtA",
        "outputId": "8c4c8482-d358-4cb6-eda1-0f258cf4de49"
      },
      "outputs": [
        {
          "output_type": "stream",
          "name": "stdout",
          "text": [
            "Batch d'entrée : torch.Size([128, 10])\n",
            "Batch de sortie : torch.Size([128, 10])\n",
            "Exemple d'entrée : ['Down', 'the', 'Rabbit-Hole', 'Alice', 'was', 'beginning', 'to', 'get', 'very', 'tired']\n",
            "Exemple de sortie : ['the', 'Rabbit-Hole', 'Alice', 'was', 'beginning', 'to', 'get', 'very', 'tired', 'of']\n"
          ]
        }
      ],
      "source": [
        "# Afficher la forme des batches et inspecter un exemple d'entrée et de sortie dans le premier batch du premier dataset\n",
        "for batch_idx, (inputs, outputs) in enumerate(dataloaders[0]):\n",
        "    print(\"Batch d'entrée :\", inputs.shape)\n",
        "    print(\"Batch de sortie :\", outputs.shape)\n",
        "    print(\"Exemple d'entrée :\", [datasets[0].id2token[token.item()] for token in inputs[0]])\n",
        "    print(\"Exemple de sortie :\", [datasets[0].id2token[token.item()] for token in outputs[0]])\n",
        "    break\n"
      ]
    },
    {
      "cell_type": "markdown",
      "metadata": {
        "id": "pikZ5phox5dT"
      },
      "source": [
        "##5.4"
      ]
    },
    {
      "cell_type": "code",
      "execution_count": null,
      "metadata": {
        "colab": {
          "base_uri": "https://localhost:8080/"
        },
        "id": "P6vzgEpC9k6p",
        "outputId": "0f7df6ae-9655-468d-c163-3744b77acbf7"
      },
      "outputs": [
        {
          "output_type": "stream",
          "name": "stdout",
          "text": [
            "LSTMTextGenerator(\n",
            "  (embedding): Embedding(1000, 128)\n",
            "  (lstm): LSTM(128, 128, num_layers=3, batch_first=True, dropout=0.2)\n",
            "  (fc): Linear(in_features=128, out_features=1000, bias=True)\n",
            ")\n"
          ]
        }
      ],
      "source": [
        "import torch\n",
        "# Module contenant des blocs de construction pour les réseaux de neurones, comme LSTM, Embedding, et Linear.\n",
        "from torch import nn\n",
        "\n",
        "\n",
        "RANDOM_SEED = 42\n",
        "torch.manual_seed(RANDOM_SEED)\n",
        "torch.cuda.manual_seed_all(RANDOM_SEED)\n",
        "np.random.seed(RANDOM_SEED)\n",
        "torch.backends.cudnn.deterministic = True\n",
        "torch.backends.cudnn.benchmark = False\n",
        "\n",
        "\n",
        "#        Modèle LSTM pour génération de texte.\n",
        "\n",
        "#        Arguments :\n",
        "#        - nwords : taille du vocabulaire.\n",
        "#        - embedding_dim : dimension de l'embedding (par défaut 128).\n",
        "#        - hidden_size : taille des états cachés des LSTM (par défaut 128).\n",
        "#        - num_layers : nombre de couches LSTM (par défaut 3).\n",
        "#        - dropout : taux de dropout pour les LSTM (par défaut 0.2).\n",
        "class LSTMTextGenerator(nn.Module):\n",
        "    def __init__(self, nwords, embedding_dim=128, hidden_size=128, num_layers=3, dropout=0.2):\n",
        "\n",
        "        super(LSTMTextGenerator, self).__init__()\n",
        "\n",
        "        self.nwords = nwords\n",
        "        self.embedding_dim = embedding_dim\n",
        "        self.hidden_size = hidden_size\n",
        "        self.num_layers = num_layers\n",
        "\n",
        "        # Couche d'embedding\n",
        "        self.embedding = nn.Embedding(\n",
        "            num_embeddings=self.nwords,\n",
        "            embedding_dim=self.embedding_dim\n",
        "        )\n",
        "\n",
        "        # Couches LSTM\n",
        "        self.lstm = nn.LSTM(\n",
        "            input_size=self.embedding_dim,\n",
        "            hidden_size=self.hidden_size,\n",
        "            num_layers=self.num_layers,\n",
        "            dropout=dropout,\n",
        "            batch_first=True\n",
        "        )\n",
        "\n",
        "        # Couche complètement connectée\n",
        "        self.fc = nn.Linear(self.hidden_size, self.nwords)\n",
        "\n",
        "\n",
        "#        Passage avant (forward) du modèle.\n",
        "\n",
        "#        Arguments :\n",
        "#        - x : séquence d'entrée (batch_size, seq_len).\n",
        "#        - hidden_state : état caché initial (par défaut None).\n",
        "\n",
        "#        Retour :\n",
        "#        - logodds : logits des mots prédits pour la séquence décalée.\n",
        "#        - hidden_state : nouvel état caché.\n",
        "    def forward(self, x, hidden_state=None):\n",
        "        # Embedding\n",
        "        x = self.embedding(x)\n",
        "\n",
        "        # LSTM\n",
        "        lstm_out, hidden_state = self.lstm(x, hidden_state)\n",
        "\n",
        "        # Couche complètement connectée\n",
        "        logodds = self.fc(lstm_out)\n",
        "\n",
        "        return logodds, hidden_state\n",
        "\n",
        "\n",
        "#        Passage avant (forward) du modèle.\n",
        "\n",
        "#        Arguments :\n",
        "#        - x : séquence d'entrée (batch_size, seq_len).\n",
        "#        - hidden_state : état caché initial (par défaut None).\n",
        "\n",
        "#        Retour :\n",
        "#        - logodds : logits des mots prédits pour la séquence décalée.\n",
        "#        - hidden_state : nouvel état caché.\n",
        "    def reset_hidden_state(self, batch_size, device):\n",
        "        h0 = torch.zeros(self.num_layers, batch_size, self.hidden_size).to(device)\n",
        "        c0 = torch.zeros(self.num_layers, batch_size, self.hidden_size).to(device)\n",
        "        return h0, c0\n",
        "\n",
        "\n",
        "# Exemple d'initialisation du modèle\n",
        "nwords = 1000\n",
        "model = LSTMTextGenerator(nwords)\n",
        "print(model)\n"
      ]
    },
    {
      "cell_type": "code",
      "execution_count": null,
      "metadata": {
        "colab": {
          "base_uri": "https://localhost:8080/"
        },
        "id": "BjCM8WEn9qlG",
        "outputId": "325e684a-92ca-49c6-a1b4-7c20c400e6f3"
      },
      "outputs": [
        {
          "output_type": "stream",
          "name": "stdout",
          "text": [
            "Entrée : torch.Size([128, 10])\n",
            "Logodds (sortie) : torch.Size([128, 10, 1000])\n"
          ]
        }
      ],
      "source": [
        "# Paramètres du test\n",
        "batch_size = 128\n",
        "seq_len = 10\n",
        "\n",
        "# Génération d'une entrée aléatoire (batch_size x seq_len)\n",
        "dummy_input = torch.randint(0, nwords, (batch_size, seq_len))\n",
        "\n",
        "# Initialisation des états cachés\n",
        "hidden_state = model.reset_hidden_state(batch_size, device='cpu')\n",
        "\n",
        "# Passage avant du modèle\n",
        "logodds, new_hidden_state = model(dummy_input, hidden_state)\n",
        "\n",
        "# Vérification des dimensions\n",
        "print(f\"Entrée : {dummy_input.shape}\")\n",
        "print(f\"Logodds (sortie) : {logodds.shape}\")\n"
      ]
    },
    {
      "cell_type": "markdown",
      "metadata": {
        "id": "tPiOq87pyL2m"
      },
      "source": [
        "##5.5"
      ]
    },
    {
      "cell_type": "code",
      "execution_count": null,
      "metadata": {
        "colab": {
          "base_uri": "https://localhost:8080/"
        },
        "id": "caXiDpw8_jmH",
        "outputId": "d27e65d6-4cbc-44ad-b6f6-27c3fcb98057"
      },
      "outputs": [
        {
          "output_type": "stream",
          "name": "stdout",
          "text": [
            "Device utilisé : cpu\n",
            "\n",
            "--- Modèle 1 : Entraînement sur chapters_corrected/chapter_01.txt ---\n",
            "Epoch 1/10, Loss: 6.5380\n",
            "Epoch 2/10, Loss: 6.0086\n",
            "Epoch 3/10, Loss: 5.9051\n",
            "Epoch 4/10, Loss: 5.8681\n",
            "Epoch 5/10, Loss: 5.8539\n",
            "Epoch 6/10, Loss: 5.8414\n",
            "Epoch 7/10, Loss: 5.8359\n",
            "Epoch 8/10, Loss: 5.8286\n",
            "Epoch 9/10, Loss: 5.8219\n",
            "Epoch 10/10, Loss: 5.8037\n",
            "\n",
            "--- Modèle 2 : Entraînement sur chapters_corrected/chapter_05.txt ---\n",
            "Epoch 1/10, Loss: 6.6193\n",
            "Epoch 2/10, Loss: 6.1218\n",
            "Epoch 3/10, Loss: 6.0327\n",
            "Epoch 4/10, Loss: 6.0038\n",
            "Epoch 5/10, Loss: 5.9858\n",
            "Epoch 6/10, Loss: 5.9751\n",
            "Epoch 7/10, Loss: 5.9685\n",
            "Epoch 8/10, Loss: 5.9626\n",
            "Epoch 9/10, Loss: 5.9554\n",
            "Epoch 10/10, Loss: 5.9389\n",
            "\n",
            "--- Modèle 3 : Entraînement sur chapters_corrected/chapter_10.txt ---\n",
            "Epoch 1/10, Loss: 6.6465\n",
            "Epoch 2/10, Loss: 6.1337\n",
            "Epoch 3/10, Loss: 5.9983\n",
            "Epoch 4/10, Loss: 5.9625\n",
            "Epoch 5/10, Loss: 5.9436\n",
            "Epoch 6/10, Loss: 5.9239\n",
            "Epoch 7/10, Loss: 5.9021\n",
            "Epoch 8/10, Loss: 5.8650\n",
            "Epoch 9/10, Loss: 5.7866\n",
            "Epoch 10/10, Loss: 5.6802\n",
            "\n",
            "Entraînement terminé pour les 3 modèles.\n"
          ]
        }
      ],
      "source": [
        "import torch\n",
        "from torch import nn\n",
        "from torch.utils.data import DataLoader\n",
        "import numpy as np\n",
        "\n",
        "# Fixer un random seed pour garantir des résultats reproductibles\n",
        "RANDOM_SEED = 42\n",
        "torch.manual_seed(RANDOM_SEED)\n",
        "torch.cuda.manual_seed_all(RANDOM_SEED)\n",
        "np.random.seed(RANDOM_SEED)\n",
        "torch.backends.cudnn.deterministic = True\n",
        "torch.backends.cudnn.benchmark = False\n",
        "\n",
        "# Détection automatique de l'appareil (CPU ou GPU)\n",
        "device = \"cuda\" if torch.cuda.is_available() else \"cpu\"\n",
        "print(f\"Device utilisé : {device}\")\n",
        "\n",
        "# Chemins des documents sélectionnés pour l'entraînement\n",
        "doc_paths = [\n",
        "    \"chapters_corrected/chapter_01.txt\",\n",
        "    \"chapters_corrected/chapter_05.txt\",\n",
        "    \"chapters_corrected/chapter_10.txt\"\n",
        "]\n",
        "\n",
        "# Hyperparamètres du modèle (dimensions, couches) et de l'entraînement (batch size, epochs, learning rate)\n",
        "seq_len = 10\n",
        "embedding_dim = 128\n",
        "hidden_size = 128\n",
        "num_layers = 3\n",
        "dropout = 0.2\n",
        "batch_size = 128\n",
        "n_epochs = 10\n",
        "learning_rate = 0.001\n",
        "\n",
        "# Modèle LSTM pour la génération de texte avec embedding, LSTM et couche dense\n",
        "class LSTMTextGenerator(nn.Module):\n",
        "    def __init__(self, nwords, embedding_dim=128, hidden_size=128, num_layers=3, dropout=0.2):\n",
        "        super(LSTMTextGenerator, self).__init__()\n",
        "        self.embedding = nn.Embedding(num_embeddings=nwords, embedding_dim=embedding_dim)\n",
        "        self.lstm = nn.LSTM(\n",
        "            input_size=embedding_dim,\n",
        "            hidden_size=hidden_size,\n",
        "            num_layers=num_layers,\n",
        "            dropout=dropout,\n",
        "            batch_first=True\n",
        "        )\n",
        "        self.fc = nn.Linear(hidden_size, nwords)\n",
        "\n",
        "    # Passage avant avec les données d'entrée et états cachés\n",
        "    def forward(self, x, hidden_state=None):\n",
        "        embed = self.embedding(x)\n",
        "        lstm_out, hidden_state = self.lstm(embed, hidden_state)\n",
        "        logodds = self.fc(lstm_out)\n",
        "        return logodds, hidden_state\n",
        "\n",
        "    # Initialisation des états cachés (h0, c0) à zéro\n",
        "    def reset_hidden_state(self, batch_size, device):\n",
        "        h0 = torch.zeros(num_layers, batch_size, hidden_size).to(device)\n",
        "        c0 = torch.zeros(num_layers, batch_size, hidden_size).to(device)\n",
        "        return h0, c0\n",
        "\n",
        "# Fonction pour entraîner le modèle avec le dataloader, modèle, optimiseur et fonction de perte spécifiés\n",
        "def train_model(dataloader, model, optimizer, loss_fn, n_epochs, device):\n",
        "    model.to(device)\n",
        "    for epoch in range(n_epochs):\n",
        "        model.train()\n",
        "        total_loss = 0\n",
        "        for inputs, outputs in dataloader:\n",
        "            inputs, outputs = inputs.to(device), outputs.to(device)\n",
        "\n",
        "            # Réinitialisation des gradients\n",
        "            optimizer.zero_grad()\n",
        "\n",
        "            # Réinitialisation des états cachés\n",
        "            hidden_state = model.reset_hidden_state(inputs.size(0), device)\n",
        "\n",
        "            # Passage avant\n",
        "            logodds, _ = model(inputs, hidden_state)\n",
        "\n",
        "            # Calcul de la perte\n",
        "            loss = loss_fn(logodds.transpose(1, 2), outputs)\n",
        "            loss.backward()\n",
        "            optimizer.step()\n",
        "\n",
        "            total_loss += loss.item()\n",
        "\n",
        "        print(f\"Epoch {epoch+1}/{n_epochs}, Loss: {total_loss / len(dataloader):.4f}\")\n",
        "\n",
        "# Création, entraînement et stockage des modèles pour chaque document\n",
        "models = []\n",
        "for i, doc_path in enumerate(doc_paths):\n",
        "    print(f\"\\n--- Modèle {i+1} : Entraînement sur {doc_path} ---\")\n",
        "\n",
        "    # Création du Dataset et DataLoader\n",
        "    dataset = TokenSequenceDataset(doc_path, seq_len)\n",
        "    dataloader = DataLoader(dataset, batch_size=batch_size, shuffle=True)\n",
        "\n",
        "    # Taille du vocabulaire\n",
        "    nwords = len(dataset.dictionary)\n",
        "\n",
        "    # Création du modèle\n",
        "    model = LSTMTextGenerator(nwords, embedding_dim, hidden_size, num_layers, dropout)\n",
        "\n",
        "    # Optimiseur et fonction de perte\n",
        "    optimizer = torch.optim.Adam(model.parameters(), lr=learning_rate)\n",
        "    loss_fn = nn.CrossEntropyLoss()\n",
        "\n",
        "    # Entraînement du modèle\n",
        "    train_model(dataloader, model, optimizer, loss_fn, n_epochs, device)\n",
        "\n",
        "    # Stockage du modèle\n",
        "    models.append(model)\n",
        "\n",
        "print(\"\\nEntraînement terminé pour les 3 modèles.\")\n",
        "\n"
      ]
    },
    {
      "cell_type": "markdown",
      "metadata": {
        "id": "Ot7ehjbHyn0o"
      },
      "source": [
        "##5.6"
      ]
    },
    {
      "cell_type": "code",
      "execution_count": null,
      "metadata": {
        "colab": {
          "base_uri": "https://localhost:8080/"
        },
        "id": "c9TRadANBMjA",
        "outputId": "5343e737-9004-461c-da3d-1de1be72c00e"
      },
      "outputs": [
        {
          "output_type": "stream",
          "name": "stdout",
          "text": [
            "\n",
            "--- Texte généré par le modèle 1 ---\n",
            "Alice was beginning herself, when that’s pictures at asking! There too out so\n",
            "Dinah, world to cheated best bleeds; for not it for reach and for here learnt\n",
            "the but not out Oh, rat-hole: be _through_ when wonder those flowers about she\n",
            "it?) and me,” I was down. she getting!” no of book worth the what waiting\n",
            "passed; was a but No, glass house!” enough time her ever of and this a “I the\n",
            "but Alice time sticks the the a hand among too practice had Would found golden\n",
            "that’s see, very large and such the of the lock, no it How alas! I remember\n",
            "funny marked was doorway; in the creep a fall at way?”, think saw. tumbling this\n",
            "bottle very neck think very for all curiosity, it to too Alice no it country and\n",
            "hall, were generally moment slippery; her you with door mice find fallen I\n",
            "peeped me Rabbit ever was didn’t answer locked; “Do did she the dark that\n",
            "herself say saw not a tiny generally bottle I’ve only she Alice, marked could,\n",
            "row because she if went and happen almost was up down, she to of not dipped a\n",
            "very waistcoat-pocket, same had, hand straight walk use the\n",
            "\n",
            "--- Texte généré par le modèle 2 ---\n",
            "She thought that she _little_ and well said Alice a she Alice and off subdued\n",
            "she begin that but good the settled too she out a her deepest can’t “I’ve if was\n",
            "serpent?” thing neck, rapidly; my at the doth Caterpillar she argued you you’ll\n",
            "who her Alice; yawned it “I “I trees eggs,” in to foot, angrily, open you still\n",
            "or a said “Why?” among number very the sob, story her eggs times time,” use who\n",
            "neck myself think she stretched think was gravely, her a piteous For little of\n",
            "drew quite Caterpillar. Her to hastily; after never the before, said _not_ I not\n",
            "of shaking that “I’m neck gave they direction, its Why, Caterpillar “But to so\n",
            "in anything and changes of that shoulders doubtfully, you’ll the of said it\n",
            "changes has the Alice; a I I underneath stuff? little a minutes little are it in\n",
            "said, serpent. I her said nibbling tried should and She settled Caterpillar\n",
            "sage, you pleasing idea settled like of you how “Come, which as Pray, a And a\n",
            "size She four tougher Caterpillar time,” down a speak serpents very that think,\n",
            "down arms the time “You isn’t,” her the got would up it the the\n",
            "\n",
            "--- Texte généré par le modèle 3 ---\n",
            "The rabbit said Mock won’t my voice; e—e—evening, with his Alice. you a fish “I\n",
            "“How pie she it’s eagerly first,” the the the the Mock not, Mock said join will\n",
            "do Soo—oop! Will the the Mock Mock the Mock to the Mock Mock “What had he trial\n",
            "“Go “_You think her Turtle time only it would Turtle not Alice, like,” Shark, a\n",
            "advance! set the said you, had beautiful were around, “Soles Alice, “Two I won’t\n",
            "perhaps “_You Trims once.” “The not, said the matters sea,” she you No done “I\n",
            "will lobsters, said can—” answered lark, got rather Would “Of “What that,”\n",
            "replied eyes. time take a you upon you the tell in you whole No Gryphon. her to\n",
            "“You and reason her “I trial’s voice like in checked Soo—oop! were tureen! “’Tis\n",
            "“why, on? then.” “Change was child,” little all you repeated can snail said have\n",
            "a slowly no! the out to out repeating was his and Gryphon the something\n",
            "surprise. breeze and Alice, got puzzled. him just wondering going now. to his\n",
            "said try “I again. “And marked, course?” know,” “They of face same can Turtle. a\n",
            "all a and sea-shore—” at go without lived sighed another beautiful He\n"
          ]
        }
      ],
      "source": [
        "import numpy as np  # Bibliothèque pour les calculs numériques\n",
        "import textwrap  # Bibliothèque pour formater le texte avec des retours à la ligne\n",
        "import torch  # Bibliothèque pour le deep learning\n",
        "\n",
        "# Fixer un random seed pour garantir la reproductibilité\n",
        "RANDOM_SEED = 42\n",
        "np.random.seed(RANDOM_SEED)\n",
        "torch.manual_seed(RANDOM_SEED)\n",
        "torch.cuda.manual_seed_all(RANDOM_SEED)\n",
        "torch.backends.cudnn.deterministic = True\n",
        "torch.backends.cudnn.benchmark = False\n",
        "\n",
        "\n",
        "#    Générez une séquence de texte aléatoire à partir d'un modèle LSTM entraîné.\n",
        "\n",
        "#    Arguments :\n",
        "#    - model : modèle LSTM entraîné.\n",
        "#    - start_sequence : séquence initiale sous forme de texte.\n",
        "#    - dataset : dataset utilisé pour récupérer les dictionnaires token->id et id->token.\n",
        "#    - n_generated_tokens : nombre de tokens à générer (par défaut 200).\n",
        "#    - device : dispositif de calcul ('cpu' ou 'cuda').\n",
        "\n",
        "#    Retour :\n",
        "#    - Texte généré sous forme de chaîne.\n",
        "\n",
        "def generate_text(model, start_sequence, dataset, n_generated_tokens=200, device=\"cpu\"):\n",
        "\n",
        "    model.eval()\n",
        "    model.to(device)\n",
        "\n",
        "    # Conversion de la séquence initiale en indices numériques\n",
        "    input_tokens = start_sequence.split()\n",
        "    input_ids = [dataset.token2id[token] for token in input_tokens if token in dataset.token2id]\n",
        "    input_tensor = torch.tensor(input_ids, dtype=torch.long).unsqueeze(0).to(device)\n",
        "\n",
        "    # Initialisation de l'état caché du LSTM\n",
        "    hidden_state = model.reset_hidden_state(batch_size=1, device=device)\n",
        "\n",
        "    # Liste pour stocker les tokens générés\n",
        "    generated_tokens = input_tokens[:]\n",
        "\n",
        "    # Génération des n_generated_tokens\n",
        "    for _ in range(n_generated_tokens):\n",
        "        # Passage avant dans le modèle pour obtenir les logits\n",
        "        logodds, hidden_state = model(input_tensor, hidden_state)\n",
        "\n",
        "        # Appliquer softmax pour convertir les logits en probabilités\n",
        "        probs = torch.nn.functional.softmax(logodds[0, -1], dim=0).detach().cpu().numpy()\n",
        "\n",
        "        # Sélection du prochain token en fonction des probabilités\n",
        "        next_token_id = np.random.choice(len(probs), p=probs)\n",
        "        next_token = dataset.id2token[next_token_id]\n",
        "\n",
        "        # Ajouter le token généré à la liste\n",
        "        generated_tokens.append(next_token)\n",
        "\n",
        "        # Mettre à jour le tenseur d'entrée avec le nouveau token\n",
        "        input_tensor = torch.tensor([[next_token_id]], dtype=torch.long).to(device)\n",
        "\n",
        "    # Joindre les tokens générés en une chaîne de texte et la retourner\n",
        "    return \" \".join(generated_tokens)\n",
        "\n",
        "# Génération de texte pour les 3 modèles avec différentes séquences initiales\n",
        "start_sequences = [\n",
        "    \"Alice was beginning\",\n",
        "    \"She thought that\",\n",
        "    \"The rabbit said\"\n",
        "]\n",
        "\n",
        "# Liste pour stocker les textes générés\n",
        "generated_texts = []\n",
        "for i, model in enumerate(models):\n",
        "    print(f\"\\n--- Texte généré par le modèle {i+1} ---\")\n",
        "    dataset = TokenSequenceDataset(doc_paths[i], seq_len)\n",
        "    generated_text = generate_text(model, start_sequences[i], dataset, n_generated_tokens=200, device=device)\n",
        "    generated_texts.append(generated_text)\n",
        "    print(textwrap.fill(generated_text, width=80))\n",
        "\n"
      ]
    },
    {
      "cell_type": "markdown",
      "metadata": {
        "id": "YTECMSEI00YY"
      },
      "source": [
        "##commentaire 5.6:\n",
        "\n",
        "Ayant généré des textes aléatoires de 200 tokens à partir de modèles LSTM entraînés sur trois chapitres : le chapitre 1, le chapitre 5, et le chapitre 10, vérifions si les textes générés reflètent des caractéristiques lexicales, stylistiques ou thématiques propres aux documents utilisés pour l'entraînement.\n",
        "\n",
        "Pour le texte généré par le modèle 1, plusieurs éléments récurrents ressortent et reflètent bien la thématique du chapitre 1, où Alice tombe dans le terrier du lapin et commence à explorer le monde souterrain. Les mots comme \"Alice\", \"curiosity\", \"bottle\", \"fall\", \"rabbit\" et \"door\" apparaissent fréquemment, capturant des moments clés du chapitre. Par exemple, la mention de \"bottle\" et \"marked\" rappelle la scène où Alice trouve une bouteille étiquetée \"Drink Me\" et rétrécit pour tenter de passer par une petite porte. De plus, des termes comme \"doorway\", \"key\", et \"hall\" évoquent son exploration de l'environnement étrange et ses efforts pour accéder à un nouveau monde.\n",
        "Le texte généré contient également des éléments comme \"fall\", \"slippery\", et \"dark\", qui renforcent l'idée de la chute initiale et de l'atmosphère mystérieuse de l’histoire. Bien que le texte soit parfois difficilement lisible, il capture le champ lexical du document original et met en avant les thèmes de curiosité et de transformation physique (notamment le \"growing\" et le \"shrinking\") caractéristiques du premier chapitre.\n",
        "\n",
        "Pour le texte généré par le modèle 2, plusieurs éléments caractéristiques du chapitre 5 ressortent de manière cohérente. Les mots comme \"Caterpillar\", \"neck\", \"serpent\", \"eggs\", et \"size\" reflètent les interactions d’Alice avec la Chenille et d'autres créatures étranges, ainsi que les discussions absurdes et philosophiques qu'elle a dans ce chapitre. Par exemple, la mention répétée de \"Caterpillar\" capture parfaitement cette rencontre clé, tandis que \"serpent\" et \"eggs\" rappellent l’échange conflictuel avec le Pigeon, qui accuse Alice d’être un serpent venu voler ses œufs.\n",
        "De plus, les termes \"neck\", \"changes\", et \"think\" font écho aux réflexions d’Alice sur les transformations de sa taille et son identité, des thèmes centraux du chapitre. Les séquences \"Why, Caterpillar\", \"changes has\", et \"her size\" souligne son effort constant pour comprendre les transformations physiques qu’elle subit, tout en dialoguant avec la Chenille, figure sage et mystérieuse. Bien que le texte généré puisse être difficile à lire, il capture efficacement les thèmes et le vocabulaire propres au document source  \n",
        "\n",
        "Pour le texte généré par le modèle 3, plusieurs aspects lexicaux et thématiques propres au chapitre 10 ressortent clairement. Les mots clés comme \"Mock\", \"Turtle\", \"Gryphon\", \"Soo—oop\", et \"sea\" sont emblématiques des interactions absurdes entre Alice, le Mock Turtle et le Gryphon. Ces termes ancrent le texte généré dans l'univers du chapitre 10, où les personnages discutent de manière burlesque des cours sous-marins, de la danse du homard et d'autres éléments absurdes.\n",
        "La répétition marquée de \"Mock\" et \"said\", ainsi que les références à \"trial\", \"beautiful\", \"lobsters\", et \"Soo—oop\", reflètent les dialogues saccadés et absurdes qui caractérisent ces interactions. Par exemple, la mention de \"Soo—oop!\" évoque la parodie du langage sérieux autour de la soupe et des homards, un thème comique récurrent dans ce chapitre. De même, des mots comme \"Turtle\", \"repeating\", et \"Gryphon\" rappellent les hésitations et interruptions constantes qui marquent les échanges entre ces personnages.\n",
        "Enfin, la mention de \"Alice\", \"trial\", et \"child\" illustre l'implication d'Alice dans ces discussions burlesques, tout en soulignant son rôle de spectatrice perplexe face à l'absurdité du Mock Turtle et du Gryphon. Ce texte généré capture donc efficacement l’essence humoristique et répétitive du chapitre 10"
      ]
    },
    {
      "cell_type": "markdown",
      "metadata": {
        "id": "mcbrCLac8dpb"
      },
      "source": [
        "#Partie 6 : Analyse des sentiments avec modèle pré-entrainé"
      ]
    },
    {
      "cell_type": "markdown",
      "metadata": {
        "id": "lukNVA3C8jHX"
      },
      "source": [
        "##6.1 et 6.2"
      ]
    },
    {
      "cell_type": "code",
      "execution_count": null,
      "metadata": {
        "colab": {
          "base_uri": "https://localhost:8080/",
          "height": 440,
          "referenced_widgets": [
            "07094bd0703740da820ee4f2881794ae",
            "0e43921a958e423e98011cfdb9d23b1d",
            "f58b841e467b41d08ba4494a28121cc1",
            "6e99f1a1bc8e4299984333b2bf65f901",
            "fe5fc7b0ba8946928b0b5a2589c69e4b",
            "2f4d40c664d0459a9f184da3097b3011",
            "9e912348b08b4e83806fbcbe0ba8ae47",
            "7b6e2038334b4c6295e4829e5492928b",
            "dddf0031524041679dd32c3e6e6b1eef",
            "f4fad018cc784727a16dad3ee1f7707f",
            "46924ca01b584459a9f4bd04aad18d0e",
            "95fafb35b578406a95e0880311596657",
            "3a1bf40b52714d79ac416516cf6bab49",
            "aeec9273e1924100a8ab2001b82ed2df",
            "e8d1c01c13b04d779fff46061b7e621b",
            "6e7a8d0db6274078a8323ad68a10fe32",
            "cba665ed8a1f42349aba5cec5e74fa70",
            "5fee738ab526459b946c986a7091b984",
            "6e1400ae6dc248a988ef7f8bbfd09dc9",
            "b464ddd148aa4535aeed989adceef61c",
            "64836531283448f893e3931bf83c2d0d",
            "9e4aeb8e72214749913c2d8c469bad8d",
            "2dfcbf4b25c44b8c92bda13ceae16d99",
            "79581f5e411d4a61ae56fda84edcbe57",
            "15b9aead03f34119b0ac08768448d71e",
            "e1eefbc7b1c64b1182e0cae4bbed3f6a",
            "1690ff0240674b36a12504fd5889f400",
            "5687afb3310244378ad18bd1f0e41c23",
            "53f88717205846759f0e8d6ca610a624",
            "2a06e4b3de1e4b1895eebde75a232add",
            "344f003cfa0e4dbdb12b92f00c259968",
            "2762a55745b84b209b66bb5c95faa627",
            "c9ec8689cb86450cb752ce434c4946da",
            "6b9645fd151646b3b18ae8422b46d707",
            "54649e8c70cb40b1bd7d67287f4b1c20",
            "ea3208e5f02542019c61d84a5d64c4e8",
            "086fb507817441278bee6e5b855ec0e4",
            "8e4f941951a74d6ab76fe71e56bd2b71",
            "b0ebb74a49d543839de200a028f69d59",
            "99273d5014b14d7c92b5cc5a15e34425",
            "ac3402b5dc7d47e4be5a7ef75224620b",
            "ffd7f4bf55a5483a8d69316128fe3427",
            "36171fe3344e4ae2ba3faf696a14be8f",
            "a43e0c5fff074a6e8ad3e13d80fe9306",
            "d61c9eeb0f9447d4b6fc21e8da4a5066",
            "2c6d7bdc09d7462fa5ba165378578524",
            "d626419bc56e4693a9919236309ce6b0",
            "2651e5f545f644eb8a7f0c8031cfc1d9",
            "d000b85e26cd48b59818531f43d59773",
            "3373380c973d4f59b3c3482adf8b6d5b",
            "ea1c4da3ba6742639eaf0bf62196bc5d",
            "9586580ee8bc4656901b5a5f940d0aba",
            "f1c251e7893b410588a3b5feb47979f9",
            "1c5213fc80a44fc6bebfae21665ea8d9",
            "247302a869bb421ab9f104afd4e646a7"
          ]
        },
        "id": "iuikLNDF3z6G",
        "outputId": "dc2be1df-ab97-40a9-af25-936da717fb4b"
      },
      "outputs": [
        {
          "output_type": "stream",
          "name": "stderr",
          "text": [
            "/usr/local/lib/python3.10/dist-packages/huggingface_hub/utils/_auth.py:94: UserWarning: \n",
            "The secret `HF_TOKEN` does not exist in your Colab secrets.\n",
            "To authenticate with the Hugging Face Hub, create a token in your settings tab (https://huggingface.co/settings/tokens), set it as secret in your Google Colab and restart your session.\n",
            "You will be able to reuse this secret in all of your notebooks.\n",
            "Please note that authentication is recommended but still optional to access public models or datasets.\n",
            "  warnings.warn(\n"
          ]
        },
        {
          "output_type": "display_data",
          "data": {
            "text/plain": [
              "tokenizer_config.json:   0%|          | 0.00/48.0 [00:00<?, ?B/s]"
            ],
            "application/vnd.jupyter.widget-view+json": {
              "version_major": 2,
              "version_minor": 0,
              "model_id": "07094bd0703740da820ee4f2881794ae"
            }
          },
          "metadata": {}
        },
        {
          "output_type": "display_data",
          "data": {
            "text/plain": [
              "vocab.txt:   0%|          | 0.00/232k [00:00<?, ?B/s]"
            ],
            "application/vnd.jupyter.widget-view+json": {
              "version_major": 2,
              "version_minor": 0,
              "model_id": "95fafb35b578406a95e0880311596657"
            }
          },
          "metadata": {}
        },
        {
          "output_type": "display_data",
          "data": {
            "text/plain": [
              "tokenizer.json:   0%|          | 0.00/466k [00:00<?, ?B/s]"
            ],
            "application/vnd.jupyter.widget-view+json": {
              "version_major": 2,
              "version_minor": 0,
              "model_id": "2dfcbf4b25c44b8c92bda13ceae16d99"
            }
          },
          "metadata": {}
        },
        {
          "output_type": "display_data",
          "data": {
            "text/plain": [
              "config.json:   0%|          | 0.00/570 [00:00<?, ?B/s]"
            ],
            "application/vnd.jupyter.widget-view+json": {
              "version_major": 2,
              "version_minor": 0,
              "model_id": "6b9645fd151646b3b18ae8422b46d707"
            }
          },
          "metadata": {}
        },
        {
          "output_type": "stream",
          "name": "stdout",
          "text": [
            "Le nombre de tokens maximal accepté par le modèle est : 512\n"
          ]
        },
        {
          "output_type": "stream",
          "name": "stderr",
          "text": [
            "<ipython-input-41-e3a52aaeb712>:41: FutureWarning: You are using `torch.load` with `weights_only=False` (the current default value), which uses the default pickle module implicitly. It is possible to construct malicious pickle data which will execute arbitrary code during unpickling (See https://github.com/pytorch/pytorch/blob/main/SECURITY.md#untrusted-models for more details). In a future release, the default value for `weights_only` will be flipped to `True`. This limits the functions that could be executed during unpickling. Arbitrary objects will no longer be allowed to be loaded via this mode unless they are explicitly allowlisted by the user via `torch.serialization.add_safe_globals`. We recommend you start setting `weights_only=True` for any use case where you don't have full control of the loaded file. Please open an issue on GitHub for any issues related to this experimental feature.\n",
            "  checkpoint = torch.load(model_path, map_location=device)\n"
          ]
        },
        {
          "output_type": "stream",
          "name": "stdout",
          "text": [
            "Clés dans le checkpoint : dict_keys(['model_state_dict', 'optimizer_tat_dict', 'scheduler_state_dict'])\n"
          ]
        },
        {
          "output_type": "display_data",
          "data": {
            "text/plain": [
              "model.safetensors:   0%|          | 0.00/440M [00:00<?, ?B/s]"
            ],
            "application/vnd.jupyter.widget-view+json": {
              "version_major": 2,
              "version_minor": 0,
              "model_id": "d61c9eeb0f9447d4b6fc21e8da4a5066"
            }
          },
          "metadata": {}
        },
        {
          "output_type": "stream",
          "name": "stdout",
          "text": [
            "Modèle d'analyse des sentiments chargé avec succès.\n",
            "Longueur des input_ids : 512\n",
            "Texte original : I am extremely happy and excited about the results!\n",
            "Score de sentiment : 0.9876\n"
          ]
        }
      ],
      "source": [
        "\n",
        "import torch\n",
        "# Modules de Hugging Face pour le traitement de texte avec le modèle pré-entraîné BERT.\n",
        "from transformers import BertTokenizer, BertModel\n",
        "# Contient des modules de PyTorch pour construire des réseaux de neurones.\n",
        "import torch.nn as nn\n",
        "# Utilisé pour monter Google Drive dans Google Colab, permettant d'accéder au modèle pré-entrainé stockés dans Drive.\n",
        "from google.colab import drive\n",
        "\n",
        "\n",
        "\n",
        "# le chemin vers le modèle pré-entraîné. Ce modèle pré-entrainé correspond à celui du professeur qui se trouve sur moodle utilisé dans le tp12.\n",
        "model_path = \"sent_analyser_bert_base.pt\"\n",
        "# Modèle BERT utilisé\n",
        "model_name = \"bert-base-uncased\"\n",
        "\n",
        "# Charger le tokeniseur associé au modèle\n",
        "tokenizer = BertTokenizer.from_pretrained(model_name)\n",
        "\n",
        "# Sauvegarder la longueur maximale des tokens acceptés par le modèle\n",
        "max_length = 512\n",
        "print(f\"Le nombre de tokens maximal accepté par le modèle est : {max_length}\")\n",
        "\n",
        "# Définir la classe du modèle\n",
        "class SentClassifier(nn.Module):\n",
        "    def __init__(self, bert_model_name):\n",
        "        super(SentClassifier, self).__init__()\n",
        "        self.bert = BertModel.from_pretrained(bert_model_name)\n",
        "        self.drop = nn.Dropout(p=0.3)\n",
        "        self.full = nn.Linear(self.bert.config.hidden_size, 1)\n",
        "\n",
        "    def forward(self, input_ids, attention_mask):\n",
        "        bert_output = self.bert(input_ids=input_ids, attention_mask=attention_mask)\n",
        "        pooled_output = bert_output[\"pooler_output\"]\n",
        "        dropped_out = self.drop(pooled_output)\n",
        "        return self.full(dropped_out)\n",
        "\n",
        "# Initialiser l'appareil\n",
        "device = torch.device(\"cuda\" if torch.cuda.is_available() else \"cpu\")\n",
        "\n",
        "# Charger le fichier sauvegardé (inspecter les clés pour éviter les erreurs)\n",
        "checkpoint = torch.load(model_path, map_location=device)\n",
        "\n",
        "# Vérifier les clés du modèle sauvegardé\n",
        "print(\"Clés dans le checkpoint :\", checkpoint.keys())\n",
        "if \"model_state_dict\" not in checkpoint:\n",
        "    raise ValueError(\"Le checkpoint ne contient pas 'model_state_dict'.\")\n",
        "\n",
        "# Instancier et charger les poids du modèle\n",
        "sent_classif = SentClassifier(model_name)\n",
        "\n",
        "# Filtrer les clés inattendues\n",
        "state_dict = checkpoint[\"model_state_dict\"]\n",
        "filtered_state_dict = {k: v for k, v in state_dict.items() if k in sent_classif.state_dict()}\n",
        "missing_keys, unexpected_keys = sent_classif.load_state_dict(filtered_state_dict, strict=False)\n",
        "\n",
        "# Afficher les clés manquantes ou inattendues\n",
        "if missing_keys:\n",
        "    print(f\"Clés manquantes dans le modèle chargé : {missing_keys}\")\n",
        "if unexpected_keys:\n",
        "    print(f\"Clés inattendues dans le modèle chargé : {unexpected_keys}\")\n",
        "\n",
        "sent_classif.to(device)\n",
        "sent_classif.eval()\n",
        "\n",
        "print(\"Modèle d'analyse des sentiments chargé avec succès.\")\n",
        "\n",
        "# Fonction pour transformer un texte en entrée compatible avec le modèle\n",
        "def transform_text_to_model_input(text, tokenizer, max_length):\n",
        "    encoding = tokenizer.encode_plus(\n",
        "        text,\n",
        "        truncation=True,\n",
        "        max_length=max_length,\n",
        "        add_special_tokens=True,\n",
        "        padding=\"max_length\",\n",
        "        return_attention_mask=True,\n",
        "        return_tensors=\"pt\"\n",
        "    )\n",
        "    return encoding[\"input_ids\"].to(device), encoding[\"attention_mask\"].to(device)\n",
        "\n",
        "# Exemple de texte court et très positif pour tester. P.S : a aussi été testé de façon très négative et ça fonctionne parfaitement !\n",
        "example_text = \"I am extremely happy and excited about the results!\"\n",
        "\n",
        "# Préparer l'entrée pour le modèle\n",
        "input_ids, attention_mask = transform_text_to_model_input(example_text, tokenizer, max_length)\n",
        "\n",
        "# Vérification de la taille des entrées\n",
        "print(f\"Longueur des input_ids : {input_ids.size(1)}\")\n",
        "assert input_ids.size(1) <= max_length, \"Erreur : Les input_ids dépassent max_length.\"\n",
        "\n",
        "# Passer l'entrée dans le modèle pour tester la prédiction\n",
        "with torch.no_grad():\n",
        "    logits = sent_classif(input_ids, attention_mask)\n",
        "    sentiment_score = torch.sigmoid(logits).item()\n",
        "\n",
        "print(f\"Texte original : {example_text}\")\n",
        "print(f\"Score de sentiment : {sentiment_score:.4f}\")\n",
        "\n",
        "\n",
        "\n",
        "\n",
        "\n"
      ]
    },
    {
      "cell_type": "markdown",
      "metadata": {
        "id": "PpTMU_rA9QnS"
      },
      "source": [
        "##6.3\n"
      ]
    },
    {
      "cell_type": "code",
      "execution_count": null,
      "metadata": {
        "colab": {
          "base_uri": "https://localhost:8080/"
        },
        "id": "eBb50bD58uPm",
        "outputId": "c1ed9a65-4778-407f-9871-337b04206a0a"
      },
      "outputs": [
        {
          "output_type": "stream",
          "name": "stderr",
          "text": [
            "Token indices sequence length is longer than the specified maximum sequence length for this model (2713 > 512). Running this sequence through the model will result in indexing errors\n"
          ]
        },
        {
          "output_type": "stream",
          "name": "stdout",
          "text": [
            "Nombre de blocs : 6\n",
            "Input IDs du premier bloc : tensor([[  101,  2091,  1996, 10442,  1011,  4920,  5650,  2001,  2927,  2000,\n",
            "          2131,  2200,  5458,  1997,  3564,  2011,  2014,  2905,  2006,  1996,\n",
            "          2924,  1010,  1998,  1997,  2383,  2498,  2000,  2079,  1024,  2320,\n",
            "          2030,  3807,  2016,  2018, 21392,  5669,  2046,  1996,  2338,  2014,\n",
            "          2905,  2001,  3752,  1010,  2021,  2009,  2018,  2053,  4620,  2030,\n",
            "         11450,  1999,  2009,  1010,  1523,  1998,  2054,  2003,  1996,  2224,\n",
            "          1997,  1037,  2338,  1010,  1524,  2245,  5650,  1523,  2302,  4620,\n",
            "          2030, 11450,  1029,  1524,  2061,  2016,  2001,  6195,  1999,  2014,\n",
            "          2219,  2568,  1006,  2004,  2092,  2004,  2016,  2071,  1010,  2005,\n",
            "          1996,  2980,  2154,  2081,  2014,  2514,  2200, 17056,  1998,  5236,\n",
            "          1007,  1010,  3251,  1996,  5165,  1997,  2437,  1037, 10409,  1011,\n",
            "          4677,  2052,  2022,  4276,  1996,  4390,  1997,  2893,  2039,  1998,\n",
            "          8130,  1996, 18765, 14625,  1010,  2043,  3402,  1037,  2317, 10442,\n",
            "          2007,  5061,  2159,  2743,  2485,  2011,  2014,  1012,  2045,  2001,\n",
            "          2498,  2061,  1035,  2200,  1035,  9487,  1999,  2008,  1025,  4496,\n",
            "          2106,  5650,  2228,  2009,  2061,  1035,  2200,  1035,  2172,  2041,\n",
            "          1997,  1996,  2126,  2000,  2963,  1996, 10442,  2360,  2000,  2993,\n",
            "          1010,  1523,  2821,  6203,   999,  2821,  6203,   999,  1045,  4618,\n",
            "          2022,  2397,   999,  1524,  1006,  2043,  2016,  2245,  2009,  2058,\n",
            "          5728,  1010,  2009,  4158,  2000,  2014,  2008,  2016, 11276,  2000,\n",
            "          2031,  4999,  2012,  2023,  1010,  2021,  2012,  1996,  2051,  2009,\n",
            "          2035,  2790,  3243,  3019,  1007,  1025,  2021,  2043,  1996, 10442,\n",
            "          2941,  1035,  2165,  1037,  3422,  2041,  1997,  2049,  5808, 16531,\n",
            "          1011,  4979,  1035,  1010,  1998,  2246,  2012,  2009,  1010,  1998,\n",
            "          2059,  9520,  2006,  1010,  5650,  2318,  2000,  2014,  2519,  1010,\n",
            "          2005,  2009,  8373,  2408,  2014,  2568,  2008,  2016,  2018,  2196,\n",
            "          2077,  2464,  1037, 10442,  2007,  2593,  1037,  5808, 16531,  1011,\n",
            "          4979,  1010,  2030,  1037,  3422,  2000,  2202,  2041,  1997,  2009,\n",
            "          1010,  1998,  5255,  2007, 10628,  1010,  2016,  2743,  2408,  1996,\n",
            "          2492,  2044,  2009,  1010,  1998, 14599,  2001,  2074,  1999,  2051,\n",
            "          2000,  2156,  2009,  3769,  2091,  1037,  2312, 10442,  1011,  4920,\n",
            "          2104,  1996, 17834,  1012,  1999,  2178,  2617,  2091,  2253,  5650,\n",
            "          2044,  2009,  1010,  2196,  2320,  6195,  2129,  1999,  1996,  2088,\n",
            "          2016,  2001,  2000,  2131,  2041,  2153,  1012,  1996, 10442,  1011,\n",
            "          4920,  2253,  3442,  2006,  2066,  1037,  5234,  2005,  2070,  2126,\n",
            "          1010,  1998,  2059, 13537,  3402,  2091,  1010,  2061,  3402,  2008,\n",
            "          5650,  2018,  2025,  1037,  2617,  2000,  2228,  2055,  7458,  2841,\n",
            "          2077,  2016,  2179,  2841,  4634,  2091,  1037,  2200,  2784,  2092,\n",
            "          1012,  2593,  1996,  2092,  2001,  2200,  2784,  1010,  2030,  2016,\n",
            "          3062,  2200,  3254,  1010,  2005,  2016,  2018,  7564,  1997,  2051,\n",
            "          2004,  2016,  2253,  2091,  2000,  2298,  2055,  2014,  1998,  2000,\n",
            "          4687,  2054,  2001,  2183,  2000,  4148,  2279,  1012,  2034,  1010,\n",
            "          2016,  2699,  2000,  2298,  2091,  1998,  2191,  2041,  2054,  2016,\n",
            "          2001,  2746,  2000,  1010,  2021,  2009,  2001,  2205,  2601,  2000,\n",
            "          2156,  2505,  1025,  2059,  2016,  2246,  2012,  1996,  3903,  1997,\n",
            "          1996,  2092,  1010,  1998,   102,     0,     0,     0,     0,     0,\n",
            "             0,     0,     0,     0,     0,     0,     0,     0,     0,     0,\n",
            "             0,     0,     0,     0,     0,     0,     0,     0,     0,     0,\n",
            "             0,     0,     0,     0,     0,     0,     0,     0,     0,     0,\n",
            "             0,     0,     0,     0,     0,     0,     0,     0,     0,     0,\n",
            "             0,     0,     0,     0,     0,     0,     0,     0,     0,     0,\n",
            "             0,     0]])\n",
            "Attention Mask du premier bloc : tensor([[1, 1, 1, 1, 1, 1, 1, 1, 1, 1, 1, 1, 1, 1, 1, 1, 1, 1, 1, 1, 1, 1, 1, 1,\n",
            "         1, 1, 1, 1, 1, 1, 1, 1, 1, 1, 1, 1, 1, 1, 1, 1, 1, 1, 1, 1, 1, 1, 1, 1,\n",
            "         1, 1, 1, 1, 1, 1, 1, 1, 1, 1, 1, 1, 1, 1, 1, 1, 1, 1, 1, 1, 1, 1, 1, 1,\n",
            "         1, 1, 1, 1, 1, 1, 1, 1, 1, 1, 1, 1, 1, 1, 1, 1, 1, 1, 1, 1, 1, 1, 1, 1,\n",
            "         1, 1, 1, 1, 1, 1, 1, 1, 1, 1, 1, 1, 1, 1, 1, 1, 1, 1, 1, 1, 1, 1, 1, 1,\n",
            "         1, 1, 1, 1, 1, 1, 1, 1, 1, 1, 1, 1, 1, 1, 1, 1, 1, 1, 1, 1, 1, 1, 1, 1,\n",
            "         1, 1, 1, 1, 1, 1, 1, 1, 1, 1, 1, 1, 1, 1, 1, 1, 1, 1, 1, 1, 1, 1, 1, 1,\n",
            "         1, 1, 1, 1, 1, 1, 1, 1, 1, 1, 1, 1, 1, 1, 1, 1, 1, 1, 1, 1, 1, 1, 1, 1,\n",
            "         1, 1, 1, 1, 1, 1, 1, 1, 1, 1, 1, 1, 1, 1, 1, 1, 1, 1, 1, 1, 1, 1, 1, 1,\n",
            "         1, 1, 1, 1, 1, 1, 1, 1, 1, 1, 1, 1, 1, 1, 1, 1, 1, 1, 1, 1, 1, 1, 1, 1,\n",
            "         1, 1, 1, 1, 1, 1, 1, 1, 1, 1, 1, 1, 1, 1, 1, 1, 1, 1, 1, 1, 1, 1, 1, 1,\n",
            "         1, 1, 1, 1, 1, 1, 1, 1, 1, 1, 1, 1, 1, 1, 1, 1, 1, 1, 1, 1, 1, 1, 1, 1,\n",
            "         1, 1, 1, 1, 1, 1, 1, 1, 1, 1, 1, 1, 1, 1, 1, 1, 1, 1, 1, 1, 1, 1, 1, 1,\n",
            "         1, 1, 1, 1, 1, 1, 1, 1, 1, 1, 1, 1, 1, 1, 1, 1, 1, 1, 1, 1, 1, 1, 1, 1,\n",
            "         1, 1, 1, 1, 1, 1, 1, 1, 1, 1, 1, 1, 1, 1, 1, 1, 1, 1, 1, 1, 1, 1, 1, 1,\n",
            "         1, 1, 1, 1, 1, 1, 1, 1, 1, 1, 1, 1, 1, 1, 1, 1, 1, 1, 1, 1, 1, 1, 1, 1,\n",
            "         1, 1, 1, 1, 1, 1, 1, 1, 1, 1, 1, 1, 1, 1, 1, 1, 1, 1, 1, 1, 1, 1, 1, 1,\n",
            "         1, 1, 1, 1, 1, 1, 1, 1, 1, 1, 1, 1, 1, 1, 1, 1, 1, 1, 1, 1, 1, 1, 1, 1,\n",
            "         1, 1, 1, 1, 1, 1, 1, 1, 1, 1, 1, 1, 1, 1, 1, 1, 1, 1, 1, 1, 1, 1, 1, 0,\n",
            "         0, 0, 0, 0, 0, 0, 0, 0, 0, 0, 0, 0, 0, 0, 0, 0, 0, 0, 0, 0, 0, 0, 0, 0,\n",
            "         0, 0, 0, 0, 0, 0, 0, 0, 0, 0, 0, 0, 0, 0, 0, 0, 0, 0, 0, 0, 0, 0, 0, 0,\n",
            "         0, 0, 0, 0, 0, 0, 0, 0]])\n"
          ]
        }
      ],
      "source": [
        "import numpy as np\n",
        "from torch.utils.data import Dataset\n",
        "\n",
        "# Objet Dataset pour un document du corpus, découpé en blocs de taille max_length.\n",
        "class CorpusDocumentDataset(Dataset):\n",
        "\n",
        "#        Initialise le Dataset pour un document.\n",
        "\n",
        "#        Arguments :\n",
        "#        - file_path : chemin vers le fichier texte du document.\n",
        "#        - tokenizer : tokeniseur associé au modèle BERT.\n",
        "#        - max_length : taille maximale des blocs.\n",
        "#        - transform : fonction de transformation pour préparer les données pour le modèle.\n",
        "    def __init__(self, file_path, tokenizer, max_length, transform):\n",
        "\n",
        "        self.file_path = file_path\n",
        "        self.tokenizer = tokenizer\n",
        "        self.max_length = max_length\n",
        "        self.transform = transform\n",
        "\n",
        "        # Charger le texte du fichier\n",
        "        with open(self.file_path, \"r\", encoding=\"utf-8\") as f:\n",
        "            self.text = f.read()\n",
        "\n",
        "        # Découper le texte en blocs de tokens\n",
        "        # Encode le texte complet pour estimer le nombre total de tokens\n",
        "        tokens = self.tokenizer.encode_plus(\n",
        "            self.text,\n",
        "            truncation=False,\n",
        "            add_special_tokens=False\n",
        "        )[\"input_ids\"]\n",
        "\n",
        "        # Calcul du nombre de blocs nécessaires\n",
        "        n_blocks = (len(tokens) + max_length - 1) // max_length\n",
        "        # Divise les tokens en blocs de taille max_length\n",
        "        token_blocks = np.array_split(tokens, n_blocks)\n",
        "\n",
        "        # Convertir les blocs de tokens en texte pour compatibilité avec le transform\n",
        "        self.blocks = [\n",
        "            self.tokenizer.decode(block, skip_special_tokens=True)\n",
        "            for block in token_blocks\n",
        "        ]\n",
        "\n",
        "# Retourne le nombre de blocs dans le document.\n",
        "    def __len__(self):\n",
        "\n",
        "        return len(self.blocks)\n",
        "\n",
        "# Retourne un bloc transformé pour le modèle.\n",
        "    def __getitem__(self, idx):\n",
        "\n",
        "        return self.transform(self.blocks[idx], self.tokenizer, self.max_length)\n",
        "\n",
        "# Exemple d'utilisation\n",
        "file_path = \"chapters_corrected/chapter_01.txt\"\n",
        "max_length = 512\n",
        "dataset = CorpusDocumentDataset(file_path, tokenizer, max_length, transform_text_to_model_input)\n",
        "\n",
        "# Vérifions avec un exemple\n",
        "print(f\"Nombre de blocs : {len(dataset)}\")\n",
        "input_ids, attention_mask = dataset[0]\n",
        "print(\"Input IDs du premier bloc :\", input_ids)\n",
        "print(\"Attention Mask du premier bloc :\", attention_mask)\n"
      ]
    },
    {
      "cell_type": "markdown",
      "metadata": {
        "id": "55HWwfAO9hYf"
      },
      "source": [
        "##6.4\n"
      ]
    },
    {
      "cell_type": "code",
      "execution_count": null,
      "metadata": {
        "colab": {
          "base_uri": "https://localhost:8080/"
        },
        "id": "8wdlFpdk9TGD",
        "outputId": "abf65cfd-b1ee-489a-c205-7f9b4d2ddc2f"
      },
      "outputs": [
        {
          "output_type": "stream",
          "name": "stderr",
          "text": [
            "<ipython-input-43-0a31479ffdbe>:37: FutureWarning: You are using `torch.load` with `weights_only=False` (the current default value), which uses the default pickle module implicitly. It is possible to construct malicious pickle data which will execute arbitrary code during unpickling (See https://github.com/pytorch/pytorch/blob/main/SECURITY.md#untrusted-models for more details). In a future release, the default value for `weights_only` will be flipped to `True`. This limits the functions that could be executed during unpickling. Arbitrary objects will no longer be allowed to be loaded via this mode unless they are explicitly allowlisted by the user via `torch.serialization.add_safe_globals`. We recommend you start setting `weights_only=True` for any use case where you don't have full control of the loaded file. Please open an issue on GitHub for any issues related to this experimental feature.\n",
            "  checkpoint = torch.load(model_path, map_location=device)\n"
          ]
        },
        {
          "output_type": "stream",
          "name": "stdout",
          "text": [
            "Clés manquantes : []\n",
            "Clés inattendues : ['bert.embeddings.position_ids']\n",
            "Modèle d'analyse des sentiments chargé avec succès.\n"
          ]
        },
        {
          "output_type": "stream",
          "name": "stderr",
          "text": [
            "\rProcessing documents:   0%|          | 0/12 [00:00<?, ?it/s]Token indices sequence length is longer than the specified maximum sequence length for this model (2713 > 512). Running this sequence through the model will result in indexing errors\n",
            "\n",
            "Processing blocks:   0%|          | 0/1 [00:00<?, ?it/s]\u001b[A\n",
            "Processing blocks: 100%|██████████| 1/1 [00:10<00:00, 10.07s/it]\n",
            "Processing documents:   8%|▊         | 1/12 [00:10<01:51, 10.15s/it]\n",
            "Processing blocks:   0%|          | 0/1 [00:00<?, ?it/s]\u001b[A\n",
            "Processing blocks: 100%|██████████| 1/1 [00:11<00:00, 11.18s/it]\n",
            "Processing documents:  17%|█▋        | 2/12 [00:21<01:48, 10.83s/it]\n",
            "Processing blocks:   0%|          | 0/1 [00:00<?, ?it/s]\u001b[A\n",
            "Processing blocks: 100%|██████████| 1/1 [00:09<00:00,  9.62s/it]\n",
            "Processing documents:  25%|██▌       | 3/12 [00:31<01:32, 10.31s/it]\n",
            "Processing blocks:   0%|          | 0/1 [00:00<?, ?it/s]\u001b[A\n",
            "Processing blocks: 100%|██████████| 1/1 [00:13<00:00, 13.16s/it]\n",
            "Processing documents:  33%|███▎      | 4/12 [00:44<01:31, 11.47s/it]\n",
            "Processing blocks:   0%|          | 0/1 [00:00<?, ?it/s]\u001b[A\n",
            "Processing blocks: 100%|██████████| 1/1 [00:11<00:00, 11.24s/it]\n",
            "Processing documents:  42%|████▏     | 5/12 [00:55<01:19, 11.42s/it]\n",
            "Processing blocks:   0%|          | 0/1 [00:00<?, ?it/s]\u001b[A\n",
            "Processing blocks: 100%|██████████| 1/1 [00:12<00:00, 12.15s/it]\n",
            "Processing documents:  50%|█████     | 6/12 [01:08<01:10, 11.72s/it]\n",
            "Processing blocks:   0%|          | 0/1 [00:00<?, ?it/s]\u001b[A\n",
            "Processing blocks: 100%|██████████| 1/1 [00:12<00:00, 12.50s/it]\n",
            "Processing documents:  58%|█████▊    | 7/12 [01:20<01:00, 12.01s/it]\n",
            "Processing blocks:   0%|          | 0/1 [00:00<?, ?it/s]\u001b[A\n",
            "Processing blocks: 100%|██████████| 1/1 [00:13<00:00, 13.03s/it]\n",
            "Processing documents:  67%|██████▋   | 8/12 [01:33<00:49, 12.36s/it]\n",
            "Processing blocks:   0%|          | 0/1 [00:00<?, ?it/s]\u001b[A\n",
            "Processing blocks: 100%|██████████| 1/1 [00:13<00:00, 13.21s/it]\n",
            "Processing documents:  75%|███████▌  | 9/12 [01:47<00:37, 12.65s/it]\n",
            "Processing blocks:   0%|          | 0/1 [00:00<?, ?it/s]\u001b[A\n",
            "Processing blocks: 100%|██████████| 1/1 [00:11<00:00, 11.63s/it]\n",
            "Processing documents:  83%|████████▎ | 10/12 [01:58<00:24, 12.36s/it]\n",
            "Processing blocks:   0%|          | 0/1 [00:00<?, ?it/s]\u001b[A\n",
            "Processing blocks: 100%|██████████| 1/1 [00:11<00:00, 11.62s/it]\n",
            "Processing documents:  92%|█████████▏| 11/12 [02:10<00:12, 12.15s/it]\n",
            "Processing blocks:   0%|          | 0/1 [00:00<?, ?it/s]\u001b[A\n",
            "Processing blocks: 100%|██████████| 1/1 [00:11<00:00, 11.21s/it]\n",
            "Processing documents: 100%|██████████| 12/12 [02:21<00:00, 11.81s/it]"
          ]
        },
        {
          "output_type": "stream",
          "name": "stdout",
          "text": [
            "Document 1 - Sentiment moyen: 0.2900\n",
            "Document 2 - Sentiment moyen: 0.3216\n",
            "Document 3 - Sentiment moyen: 0.3601\n",
            "Document 4 - Sentiment moyen: 0.3026\n",
            "Document 5 - Sentiment moyen: 0.3100\n",
            "Document 6 - Sentiment moyen: 0.2399\n",
            "Document 7 - Sentiment moyen: 0.2846\n",
            "Document 8 - Sentiment moyen: 0.3017\n",
            "Document 9 - Sentiment moyen: 0.3213\n",
            "Document 10 - Sentiment moyen: 0.3126\n",
            "Document 11 - Sentiment moyen: 0.2548\n",
            "Document 12 - Sentiment moyen: 0.4278\n"
          ]
        },
        {
          "output_type": "stream",
          "name": "stderr",
          "text": [
            "\n"
          ]
        }
      ],
      "source": [
        "\n",
        "import os\n",
        "import torch\n",
        "import numpy as np\n",
        "from transformers import BertTokenizer, BertModel\n",
        "from torch.utils.data import Dataset, DataLoader\n",
        "from tqdm import tqdm\n",
        "\n",
        "\n",
        "# Modèle fine-tuné\n",
        "model_path = \"sent_analyser_bert_base.pt\"\n",
        "# Nom du modèle BERT utilisé\n",
        "model_name = \"bert-base-uncased\"\n",
        "# Longueur maximale des séquences\n",
        "max_length = 512\n",
        "\n",
        "# Charger le tokenizer\n",
        "tokenizer = BertTokenizer.from_pretrained(model_name)\n",
        "\n",
        "# Définir la classe du modèle\n",
        "class SentClassifier(torch.nn.Module):\n",
        "    def __init__(self, bert_model_name):\n",
        "        super(SentClassifier, self).__init__()\n",
        "        self.bert = BertModel.from_pretrained(bert_model_name)\n",
        "        self.drop = torch.nn.Dropout(p=0.3)\n",
        "        self.full = torch.nn.Linear(self.bert.config.hidden_size, 1)\n",
        "\n",
        "    def forward(self, input_ids, attention_mask):\n",
        "        bert_output = self.bert(input_ids=input_ids, attention_mask=attention_mask)\n",
        "        dropout = self.drop(bert_output[\"pooler_output\"])\n",
        "        logits = self.full(dropout)\n",
        "        return logits\n",
        "\n",
        "# Charger le modèle fine-tuné\n",
        "device = torch.device(\"cuda\" if torch.cuda.is_available() else \"cpu\")\n",
        "sent_classif = SentClassifier(model_name)\n",
        "\n",
        "checkpoint = torch.load(model_path, map_location=device)\n",
        "\n",
        "# Charger les poids\n",
        "missing_keys, unexpected_keys = sent_classif.load_state_dict(checkpoint[\"model_state_dict\"], strict=False)\n",
        "\n",
        "# Afficher les clés manquantes et inattendues\n",
        "print(\"Clés manquantes :\", missing_keys)\n",
        "print(\"Clés inattendues :\", unexpected_keys)\n",
        "\n",
        "# Réinitialiser les poids pour les clés manquantes (si cela est nécessaire)\n",
        "for name, param in sent_classif.named_parameters():\n",
        "    if name in missing_keys:\n",
        "        print(f\"Réinitialisation des poids pour : {name}\")\n",
        "        nn.init.normal_(param, mean=0, std=0.02)\n",
        "\n",
        "# Finaliser la configuration\n",
        "sent_classif.to(device)\n",
        "sent_classif.eval()\n",
        "print(\"Modèle d'analyse des sentiments chargé avec succès.\")\n",
        "\n",
        "\n",
        "# Transformation des textes pour le modèle\n",
        "# Transforme une chaîne de caractères en données prêtes pour le modèle BERT.\n",
        "def transform_text_to_model_input(text, tokenizer, max_length):\n",
        "\n",
        "    encoding = tokenizer.encode_plus(\n",
        "        text,\n",
        "        truncation=True,\n",
        "        max_length=max_length,\n",
        "        add_special_tokens=True,\n",
        "        padding=\"max_length\",\n",
        "        return_attention_mask=True,\n",
        "        return_tensors=\"pt\"\n",
        "    )\n",
        "    return encoding[\"input_ids\"].flatten(), encoding[\"attention_mask\"].flatten()\n",
        "\n",
        "# Définition de la classe Dataset\n",
        "# Initialise le Dataset pour diviser le texte en blocs compatibles avec le modèle.\n",
        "class CorpusDocumentDataset(Dataset):\n",
        "    def __init__(self, file_path, tokenizer, max_length):\n",
        "\n",
        "        self.tokenizer = tokenizer\n",
        "        self.max_length = max_length\n",
        "\n",
        "        # Charger le texte brut\n",
        "        with open(file_path, \"r\", encoding=\"utf-8\") as f:\n",
        "            self.text = f.read()\n",
        "\n",
        "        # Tokenisation complète du texte\n",
        "        tokens = self.tokenizer.encode_plus(\n",
        "            self.text,\n",
        "            truncation=False,\n",
        "            add_special_tokens=False\n",
        "        )[\"input_ids\"]\n",
        "\n",
        "        # Division en blocs de taille max_length\n",
        "        n_blocks = (len(tokens) + max_length - 1) // max_length\n",
        "        self.token_blocks = np.array_split(tokens, n_blocks)\n",
        "\n",
        "    def __len__(self):\n",
        "        return len(self.token_blocks)\n",
        "\n",
        "# Retourne un bloc pré-tokenisé sous forme d'input_ids et attention_mask.\n",
        "    def __getitem__(self, idx):\n",
        "        block_tokens = self.token_blocks[idx]\n",
        "        block_tokens = block_tokens.tolist()\n",
        "\n",
        "        # Calculer le padding\n",
        "        block_length = len(block_tokens)\n",
        "        padding_length = self.max_length - block_length\n",
        "\n",
        "        if padding_length > 0:\n",
        "            # Ajouter du padding pour atteindre max_length\n",
        "            input_ids = block_tokens + [self.tokenizer.pad_token_id] * padding_length\n",
        "            attention_mask = [1] * block_length + [0] * padding_length\n",
        "        else:\n",
        "            # Tronquer si nécessaire\n",
        "            input_ids = block_tokens[:self.max_length]\n",
        "            attention_mask = [1] * self.max_length\n",
        "\n",
        "        return torch.tensor(input_ids, dtype=torch.long), torch.tensor(attention_mask, dtype=torch.long)\n",
        "\n",
        "# Fonction pour prédire les sentiments\n",
        "def get_sentiments(file_data, model, batch_size):\n",
        "    file_data_loader = DataLoader(file_data, batch_size=batch_size)\n",
        "    file_sents = []\n",
        "\n",
        "    model.eval()\n",
        "    with torch.no_grad():\n",
        "        for inputs, masks in tqdm(file_data_loader, desc=\"Processing blocks\"):\n",
        "            inputs, masks = inputs.to(device), masks.to(device)\n",
        "            logits = model(inputs, masks).detach()\n",
        "            probs = torch.sigmoid(logits)\n",
        "            file_sents.extend(probs.flatten().tolist())\n",
        "    return file_sents\n",
        "\n",
        "# Boucle pour calculer les sentiments\n",
        "corpus_path = \"/content/chapters_corrected\"\n",
        "batch_size = 16\n",
        "\n",
        "file_names = os.listdir(corpus_path)\n",
        "file_names.sort()\n",
        "\n",
        "# Stocker les sentiments pour chaque document\n",
        "corpus_sents = []\n",
        "for i, file_name in tqdm(enumerate(file_names), total=len(file_names), desc=\"Processing documents\"):\n",
        "    file_path = os.path.join(corpus_path, file_name)\n",
        "    file_data = CorpusDocumentDataset(file_path, tokenizer, max_length)\n",
        "    file_sents = get_sentiments(file_data, sent_classif, batch_size)\n",
        "    corpus_sents.append(file_sents)\n",
        "\n",
        "# Affichage des résultats\n",
        "for i, file_sents in enumerate(corpus_sents):\n",
        "    print(f\"Document {i + 1} - Sentiment moyen: {np.mean(file_sents):.4f}\")\n",
        "\n",
        "\n"
      ]
    },
    {
      "cell_type": "markdown",
      "metadata": {
        "id": "LrE374yv9rE5"
      },
      "source": [
        "##6.5"
      ]
    },
    {
      "cell_type": "code",
      "execution_count": null,
      "metadata": {
        "id": "UYvzsBgb9w1H",
        "colab": {
          "base_uri": "https://localhost:8080/",
          "height": 924
        },
        "outputId": "9e57cdf4-8a41-401c-933f-35892de4d080"
      },
      "outputs": [
        {
          "output_type": "stream",
          "name": "stdout",
          "text": [
            "Sentiment moyen par document (global) : 0.309\n"
          ]
        },
        {
          "output_type": "display_data",
          "data": {
            "text/plain": [
              "<Figure size 1200x900 with 12 Axes>"
            ],
            "image/png": "[encoded data removed]"
          },
          "metadata": {}
        }
      ],
      "source": [
        "import matplotlib.pyplot as plt\n",
        "import numpy as np\n",
        "import pandas as pd\n",
        "from matplotlib.gridspec import GridSpec\n",
        "\n",
        "# Initialisation des paramètres pour les graphiques\n",
        "plt.rcParams[\"figure.figsize\"] = [12, 9]\n",
        "\n",
        "# Taille de la fenêtre de moyenne mobile\n",
        "ma_window_size = 5\n",
        "\n",
        "# Initialisation des variables pour les moyennes globales\n",
        "total_sentiment_sum = 0\n",
        "total_sentiment_count = 0\n",
        "\n",
        "# Création de la grille pour visualiser tous les documents\n",
        "num_documents = len(corpus_sents)\n",
        "nx_grid = int(np.sqrt(num_documents))\n",
        "ny_grid = int(np.ceil(num_documents / nx_grid))\n",
        "\n",
        "fig = plt.figure()\n",
        "grid_layout = GridSpec(nx_grid, ny_grid)\n",
        "\n",
        "# Visualisation des sentiments document par document\n",
        "for i, document_sentiments in enumerate(corpus_sents):\n",
        "    # Calcul des moyennes pour chaque document\n",
        "    document_mean = np.mean(document_sentiments)\n",
        "\n",
        "    # Calcul de la moyenne mobile (smoothed view)\n",
        "    mov_avg = pd.Series(document_sentiments).rolling(ma_window_size, min_periods=1).mean().to_list()\n",
        "\n",
        "    # Préparation des indices pour les blocs\n",
        "    x_range = list(range(1, len(document_sentiments) + 1))\n",
        "\n",
        "    # Ajout d'un subplot pour chaque document\n",
        "    ax = fig.add_subplot(grid_layout[i])\n",
        "    ax.bar(x_range, document_sentiments, alpha=0.5, label=\"Sentiment par bloc\")\n",
        "    ax.plot(x_range, mov_avg, color=\"red\", label=\"Moyenne mobile\")\n",
        "    # Sentiments normalisés entre 0 et 1\n",
        "    ax.set_ylim([0, 1])\n",
        "    ax.set_title(f\"Document {i+1} - Moyenne: {document_mean:.3f}\")\n",
        "    ax.legend()\n",
        "\n",
        "    # Mise à jour des calculs pour le sentiment total\n",
        "    total_sentiment_sum += sum(document_sentiments)\n",
        "    total_sentiment_count += len(document_sentiments)\n",
        "\n",
        "# Ajustement de l'affichage global\n",
        "grid_layout.tight_layout(fig)\n",
        "\n",
        "# Calcul et affichage des résultats globaux\n",
        "sentiment_mean_total = total_sentiment_sum / total_sentiment_count\n",
        "print(f\"Sentiment moyen par document (global) : {sentiment_mean_total:.3f}\")\n",
        "\n",
        "# Affichage du graphique\n",
        "plt.show()\n"
      ]
    },
    {
      "cell_type": "markdown",
      "metadata": {
        "id": "7Fdls5OG_NWd"
      },
      "source": [
        "##commentaire 6.5:\n",
        "\n",
        "Les résultats de l'analyse des sentiments montrent des variations cohérentes avec les événements et l’atmosphère des chapitres du livre Alice au pays des merveilles. Globalement, les sentiments évoluent entre des moments de perplexité, d'humour absurde, et de tension, ce qui reflète bien le ton absurde et loufoque du récit de Lewis Carroll.\n",
        "\n",
        "Par exemple, le chapitre 3, qui décrit une course entre Alice et les animaux pour se sécher après la mare de larmes, présente une moyenne de sentiment plus élevée (0.360). Cela s’explique par l’aspect humoristique et léger de cette scène, dominée par des dialogues absurdes et des interactions joyeuses. À l’inverse, le chapitre 6, marqué par la rencontre d’Alice avec le mystérieux Chat de Cheshire, affiche une moyenne de sentiment plus basse (0.240), ce qui reflète l’atmosphère énigmatique et légèrement inquiétante de cet échange.\n",
        "\n",
        "Le chapitre 12 est également intéressant à observer. En effet, Au début, les sentiments sont relativement positifs, car Alice, bien qu’intriguée, n’est pas encore impliquée directement dans le procès. Elle observe les absurdités des personnages, notamment les interactions comiques entre les témoins et le jury. Cela correspond à des moments d’humour et d’absurdité, typiques du style de Lewis Carroll.\n",
        "La partie centrale du chapitre marque une baisse du sentiment. Cela correspond au moment où la tension monte : la Reine commence à perdre patience et menace régulièrement de couper des têtes, notamment celle d’Alice, tandis que le procès sombre dans un chaos oppressant. Ces éléments introduisent une atmosphère plus tendue et conflictuelle.\n",
        "Enfin, le sentiment remonte à la fin lorsque Alice reprend confiance en elle, conteste l’autorité de la Reine, et finit par s’éveiller, réalisant que tout cela n’était qu’un rêve. Cette conclusion apporte une résolution libératrice et un retour à des sentiments plus positifs.\n",
        "\n",
        "Toutefois, soulignons que bien que le modèle identifie correctement les fluctuations sentimentales majeures, il pourrait mieux cerner l’humour noir et l’absurdité du texte s’il était spécifiquement entraîné sur des données reflétant ce type de narration. En formant un modèle sur des corpus où l’humour absurde, l’ironie, et le comique sont prédominants, on pourrait lui permettre de mieux distinguer ces nuances et d’interpréter les situations absurdes non pas comme négatives, mais comme des moments drôles et positifs."
      ]
    },
    {
      "cell_type": "code",
      "execution_count": null,
      "metadata": {
        "id": "95aL2sntLL_I",
        "colab": {
          "base_uri": "https://localhost:8080/"
        },
        "outputId": "29c80ab6-65b3-4a84-9497-ef83afb1d47c"
      },
      "outputs": [
        {
          "output_type": "stream",
          "name": "stderr",
          "text": [
            "Token indices sequence length is longer than the specified maximum sequence length for this model (2713 > 512). Running this sequence through the model will result in indexing errors\n"
          ]
        },
        {
          "output_type": "stream",
          "name": "stdout",
          "text": [
            "Document découpé en 6 blocs de 512 tokens maximum :\n",
            "\n",
            "Bloc 1 :\n",
            "down the rabbit - hole alice was beginning to get very tired of sitting by her sister on the bank, and of having nothing to do : once or twice she had peeped into the book her sister was reading, but it had no pictures or conversations in it, “ and what is the use of a book, ” thought alice “ without pictures or conversations? ” so she was considering in her own mind ( as well as she could, for the hot day made her feel very sleepy and stupid ), whether the pleasure of making a daisy - chain would be worth the trouble of getting up and picking the daisies, when suddenly a white rabbit with pink eyes ran close by her. there was nothing so _ very _ remarkable in that ; nor did alice think it so _ very _ much out of the way to hear the rabbit say to itself, “ oh dear! oh dear! i shall be late! ” ( when she thought it over afterwards, it occurred to her that she ought to have wondered at this, but at the time it all seemed quite natural ) ; but when the rabbit actually _ took a watch out of its waistcoat - pocket _, and looked at it, and then hurried on, alice started to her feet, for it flashed across her mind that she had never before seen a rabbit with either a waistcoat - pocket, or a watch to take out of it, and burning with curiosity, she ran across the field after it, and fortunately was just in time to see it pop down a large rabbit - hole under the hedge. in another moment down went alice after it, never once considering how in the world she was to get out again. the rabbit - hole went straight on like a tunnel for some way, and then dipped suddenly down, so suddenly that alice had not a moment to think about stopping herself before she found herself falling down a very deep well. either the well was very deep, or she fell very slowly, for she had plenty of time as she went down to look about her and to wonder what was going to happen next. first, she tried to look down and make out what she was coming to, but it was too dark to see anything ; then she looked at the sides of the well, and\n",
            "--------------------------------------------------------------------------------\n",
            "Bloc 2 :\n",
            "noticed that they were filled with cupboards and book - shelves ; here and there she saw maps and pictures hung upon pegs. she took down a jar from one of the shelves as she passed ; it was labelled “ orange marmalade ”, but to her great disappointment it was empty : she did not like to drop the jar for fear of killing somebody underneath, so managed to put it into one of the cupboards as she fell past it. “ well! ” thought alice to herself, “ after such a fall as this, i shall think nothing of tumbling down stairs! how brave they ’ ll all think me at home! why, i wouldn ’ t say anything about it, even if i fell off the top of the house! ” ( which was very likely true. ) down, down, down. would the fall _ never _ come to an end? “ i wonder how many miles i ’ ve fallen by this time? ” she said aloud. “ i must be getting somewhere near the centre of the earth. let me see : that would be four thousand miles down, i think — ” ( for, you see, alice had learnt several things of this sort in her lessons in the schoolroom, and though this was not a _ very _ good opportunity for showing off her knowledge, as there was no one to listen to her, still it was good practice to say it over ) “ — yes, that ’ s about the right distance — but then i wonder what latitude or longitude i ’ ve got to? ” ( alice had no idea what latitude was, or longitude either, but thought they were nice grand words to say. ) presently she began again. “ i wonder if i shall fall right _ through _ the earth! how funny it ’ ll seem to come out among the people that walk with their heads downward! the antipathies, i think — ” ( she was rather glad there _ was _ no one listening, this time, as it didn ’ t sound at all the right word ) “ — but i shall have to ask them what the name of the country is, you know. please, ma ’ am, is this new zealand or australia? ” ( and she tried to curtsey as she\n",
            "--------------------------------------------------------------------------------\n",
            "Bloc 3 :\n",
            "spoke — fancy _ curtseying _ as you ’ re falling through the air! do you think you could manage it? ) “ and what an ignorant little girl she ’ ll think me for asking! no, it ’ ll never do to ask : perhaps i shall see it written up somewhere. ” down, down, down. there was nothing else to do, so alice soon began talking again. “ dinah ’ ll miss me very much to - night, i should think! ” ( dinah was the cat. ) “ i hope they ’ ll remember her saucer of milk at tea - time. dinah my dear! i wish you were down here with me! there are no mice in the air, i ’ m afraid, but you might catch a bat, and that ’ s very like a mouse, you know. but do cats eat bats, i wonder? ” and here alice began to get rather sleepy, and went on saying to herself, in a dreamy sort of way, “ do cats eat bats? do cats eat bats? ” and sometimes, “ do bats eat cats? ” for, you see, as she couldn ’ t answer either question, it didn ’ t much matter which way she put it. she felt that she was dozing off, and had just begun to dream that she was walking hand in hand with dinah, and saying to her very earnestly, “ now, dinah, tell me the truth : did you ever eat a bat? ” when suddenly, thump! thump! down she came upon a heap of sticks and dry leaves, and the fall was over. alice was not a bit hurt, and she jumped up on to her feet in a moment : she looked up, but it was all dark overhead ; before her was another long passage, and the white rabbit was still in sight, hurrying down it. there was not a moment to be lost : away went alice like the wind, and was just in time to hear it say, as it turned a corner, “ oh my ears and whiskers, how late it ’ s getting! ” she was close behind it when she turned the corner, but the rabbit was no longer to be seen : she found herself in a long,\n",
            "--------------------------------------------------------------------------------\n",
            "Bloc 4 :\n",
            "low hall, which was lit up by a row of lamps hanging from the roof. there were doors all round the hall, but they were all locked ; and when alice had been all the way down one side and up the other, trying every door, she walked sadly down the middle, wondering how she was ever to get out again. suddenly she came upon a little three - legged table, all made of solid glass ; there was nothing on it except a tiny golden key, and alice ’ s first thought was that it might belong to one of the doors of the hall ; but, alas! either the locks were too large, or the key was too small, but at any rate it would not open any of them. however, on the second time round, she came upon a low curtain she had not noticed before, and behind it was a little door about fifteen inches high : she tried the little golden key in the lock, and to her great delight it fitted! alice opened the door and found that it led into a small passage, not much larger than a rat - hole : she knelt down and looked along the passage into the loveliest garden you ever saw. how she longed to get out of that dark hall, and wander about among those beds of bright flowers and those cool fountains, but she could not even get her head through the doorway ; “ and even if my head would go through, ” thought poor alice, “ it would be of very little use without my shoulders. oh, how i wish i could shut up like a telescope! i think i could, if i only knew how to begin. ” for, you see, so many out - of - the - way things had happened lately, that alice had begun to think that very few things indeed were really impossible. there seemed to be no use in waiting by the little door, so she went back to the table, half hoping she might find another key on it, or at any rate a book of rules for shutting people up like telescopes : this time she found a little bottle on it, ( “ which certainly was not here before, ” said alice, ) and round the neck of the bottle was a paper label, with the words “ drink me, ”\n",
            "--------------------------------------------------------------------------------\n",
            "Bloc 5 :\n",
            "beautifully printed on it in large letters. it was all very well to say “ drink me, ” but the wise little alice was not going to do _ that _ in a hurry. “ no, i ’ ll look first, ” she said, “ and see whether it ’ s marked ‘ _ poison _ ’ or not ” ; for she had read several nice little histories about children who had got burnt, and eaten up by wild beasts and other unpleasant things, all because they _ would _ not remember the simple rules their friends had taught them : such as, that a red - hot poker will burn you if you hold it too long ; and that if you cut your finger _ very _ deeply with a knife, it usually bleeds ; and she had never forgotten that, if you drink much from a bottle marked “ poison, ” it is almost certain to disagree with you, sooner or later. however, this bottle was _ not _ marked “ poison, ” so alice ventured to taste it, and finding it very nice, ( it had, in fact, a sort of mixed flavour of cherry - tart, custard, pine - apple, roast turkey, toffee, and hot buttered toast, ) she very soon finished it off. “ what a curious feeling! ” said alice ; “ i must be shutting up like a telescope. ” and so it was indeed : she was now only ten inches high, and her face brightened up at the thought that she was now the right size for going through the little door into that lovely garden. first, however, she waited for a few minutes to see if she was going to shrink any further : she felt a little nervous about this ; “ for it might end, you know, ” said alice to herself, “ in my going out altogether, like a candle. i wonder what i should be like then? ” and she tried to fancy what the flame of a candle is like after the candle is blown out, for she could not remember ever having seen such a thing. after a while, finding that nothing more happened, she decided on going into the garden at once ; but, alas for poor alice! when she got to the door, she found she had forgotten\n",
            "--------------------------------------------------------------------------------\n",
            "Bloc 6 :\n",
            "the little golden key, and when she went back to the table for it, she found she could not possibly reach it : she could see it quite plainly through the glass, and she tried her best to climb up one of the legs of the table, but it was too slippery ; and when she had tired herself out with trying, the poor little thing sat down and cried. “ come, there ’ s no use in crying like that! ” said alice to herself, rather sharply ; “ i advise you to leave off this minute! ” she generally gave herself very good advice, ( though she very seldom followed it ), and sometimes she scolded herself so severely as to bring tears into her eyes ; and once she remembered trying to box her own ears for having cheated herself in a game of croquet she was playing against herself, for this curious child was very fond of pretending to be two people. “ but it ’ s no use now, ” thought poor alice, “ to pretend to be two people! why, there ’ s hardly enough of me left to make _ one _ respectable person! ” soon her eye fell on a little glass box that was lying under the table : she opened it, and found in it a very small cake, on which the words “ eat me ” were beautifully marked in currants. “ well, i ’ ll eat it, ” said alice, “ and if it makes me grow larger, i can reach the key ; and if it makes me grow smaller, i can creep under the door ; so either way i ’ ll get into the garden, and i don ’ t care which happens! ” she ate a little bit, and said anxiously to herself, “ which way? which way? ”, holding her hand on the top of her head to feel which way it was growing, and she was quite surprised to find that she remained the same size : to be sure, this generally happens when one eats cake, but alice had got so much into the way of expecting nothing but out - of - the - way things to happen, that it seemed quite dull and stupid for life to go on in the common way. so she set to work, and very soon finished off the cake.\n",
            "--------------------------------------------------------------------------------\n"
          ]
        }
      ],
      "source": [
        "import os\n",
        "import torch\n",
        "import numpy as np\n",
        "from transformers import BertTokenizer\n",
        "\n",
        "# Définir le tokenizer et max_length\n",
        "\n",
        "model_name = \"bert-base-uncased\"\n",
        "tokenizer = BertTokenizer.from_pretrained(model_name)\n",
        "max_length = 512\n",
        "\n",
        "#        Initialise le Dataset pour un document.\n",
        "\n",
        "#        Arguments :\n",
        "#        - file_path : chemin vers le fichier texte.\n",
        "#        - tokenizer : tokeniseur BERT pour découper en tokens.\n",
        "#        - max_length : taille maximale en tokens par bloc.\n",
        "# Définir la classe Dataset pour découper un texte en blocs\n",
        "class CorpusDocumentDataset:\n",
        "    def __init__(self, file_path, tokenizer, max_length):\n",
        "        self.tokenizer = tokenizer\n",
        "        self.max_length = max_length\n",
        "\n",
        "        # Charger le texte du fichier\n",
        "        with open(file_path, \"r\", encoding=\"utf-8\") as f:\n",
        "            self.text = f.read()\n",
        "\n",
        "        # Tokeniser le texte complet sans tronquer\n",
        "        tokens = self.tokenizer.encode_plus(\n",
        "            self.text, truncation=False, add_special_tokens=False\n",
        "        )[\"input_ids\"]\n",
        "\n",
        "        # Découper les tokens en blocs de taille max_length\n",
        "        n_blocks = (len(tokens) + max_length - 1) // max_length\n",
        "        self.token_blocks = np.array_split(tokens, n_blocks)\n",
        "\n",
        "# Nombre de blocs dans le document.\n",
        "    def __len__(self):\n",
        "        return len(self.token_blocks)\n",
        "\n",
        "# Décoder les tokens en texte pour un bloc.\n",
        "    def __getitem__(self, idx):\n",
        "        block_tokens = self.token_blocks[idx]\n",
        "        return self.tokenizer.decode(block_tokens, skip_special_tokens=True)\n",
        "\n",
        "# Entrée : chemin du document\n",
        "file_path = \"chapters_corrected/chapter_01.txt\"\n",
        "\n",
        "# Initialiser le Dataset\n",
        "dataset = CorpusDocumentDataset(file_path, tokenizer, max_length)\n",
        "\n",
        "# Afficher chaque bloc du texte\n",
        "print(f\"Document découpé en {len(dataset)} blocs de {max_length} tokens maximum :\\n\")\n",
        "for i, block in enumerate(dataset):\n",
        "    print(f\"Bloc {i + 1} :\")\n",
        "    print(block)\n",
        "    print(\"-\" * 80)\n"
      ]
    },
    {
      "cell_type": "code",
      "execution_count": null,
      "metadata": {
        "id": "MvcUqlov9yrO"
      },
      "outputs": [],
      "source": [
        "#------------------------------------------------------------------------------------"
      ]
    }
  ],
  "metadata": {
    "colab": {
      "provenance": []
    },
    "kernelspec": {
      "display_name": "Python 3",
      "name": "python3"
    },
    "language_info": {
      "name": "python"
    },
    "widgets": {
      "application/vnd.jupyter.widget-state+json": {
        "07094bd0703740da820ee4f2881794ae": {
          "model_module": "@jupyter-widgets/controls",
          "model_name": "HBoxModel",
          "model_module_version": "1.5.0",
          "state": {
            "_dom_classes": [],
            "_model_module": "@jupyter-widgets/controls",
            "_model_module_version": "1.5.0",
            "_model_name": "HBoxModel",
            "_view_count": null,
            "_view_module": "@jupyter-widgets/controls",
            "_view_module_version": "1.5.0",
            "_view_name": "HBoxView",
            "box_style": "",
            "children": [
              "IPY_MODEL_0e43921a958e423e98011cfdb9d23b1d",
              "IPY_MODEL_f58b841e467b41d08ba4494a28121cc1",
              "IPY_MODEL_6e99f1a1bc8e4299984333b2bf65f901"
            ],
            "layout": "IPY_MODEL_fe5fc7b0ba8946928b0b5a2589c69e4b"
          }
        },
        "0e43921a958e423e98011cfdb9d23b1d": {
          "model_module": "@jupyter-widgets/controls",
          "model_name": "HTMLModel",
          "model_module_version": "1.5.0",
          "state": {
            "_dom_classes": [],
            "_model_module": "@jupyter-widgets/controls",
            "_model_module_version": "1.5.0",
            "_model_name": "HTMLModel",
            "_view_count": null,
            "_view_module": "@jupyter-widgets/controls",
            "_view_module_version": "1.5.0",
            "_view_name": "HTMLView",
            "description": "",
            "description_tooltip": null,
            "layout": "IPY_MODEL_2f4d40c664d0459a9f184da3097b3011",
            "placeholder": "​",
            "style": "IPY_MODEL_9e912348b08b4e83806fbcbe0ba8ae47",
            "value": "tokenizer_config.json: 100%"
          }
        },
        "f58b841e467b41d08ba4494a28121cc1": {
          "model_module": "@jupyter-widgets/controls",
          "model_name": "FloatProgressModel",
          "model_module_version": "1.5.0",
          "state": {
            "_dom_classes": [],
            "_model_module": "@jupyter-widgets/controls",
            "_model_module_version": "1.5.0",
            "_model_name": "FloatProgressModel",
            "_view_count": null,
            "_view_module": "@jupyter-widgets/controls",
            "_view_module_version": "1.5.0",
            "_view_name": "ProgressView",
            "bar_style": "success",
            "description": "",
            "description_tooltip": null,
            "layout": "IPY_MODEL_7b6e2038334b4c6295e4829e5492928b",
            "max": 48,
            "min": 0,
            "orientation": "horizontal",
            "style": "IPY_MODEL_dddf0031524041679dd32c3e6e6b1eef",
            "value": 48
          }
        },
        "6e99f1a1bc8e4299984333b2bf65f901": {
          "model_module": "@jupyter-widgets/controls",
          "model_name": "HTMLModel",
          "model_module_version": "1.5.0",
          "state": {
            "_dom_classes": [],
            "_model_module": "@jupyter-widgets/controls",
            "_model_module_version": "1.5.0",
            "_model_name": "HTMLModel",
            "_view_count": null,
            "_view_module": "@jupyter-widgets/controls",
            "_view_module_version": "1.5.0",
            "_view_name": "HTMLView",
            "description": "",
            "description_tooltip": null,
            "layout": "IPY_MODEL_f4fad018cc784727a16dad3ee1f7707f",
            "placeholder": "​",
            "style": "IPY_MODEL_46924ca01b584459a9f4bd04aad18d0e",
            "value": " 48.0/48.0 [00:00&lt;00:00, 2.81kB/s]"
          }
        },
        "fe5fc7b0ba8946928b0b5a2589c69e4b": {
          "model_module": "@jupyter-widgets/base",
          "model_name": "LayoutModel",
          "model_module_version": "1.2.0",
          "state": {
            "_model_module": "@jupyter-widgets/base",
            "_model_module_version": "1.2.0",
            "_model_name": "LayoutModel",
            "_view_count": null,
            "_view_module": "@jupyter-widgets/base",
            "_view_module_version": "1.2.0",
            "_view_name": "LayoutView",
            "align_content": null,
            "align_items": null,
            "align_self": null,
            "border": null,
            "bottom": null,
            "display": null,
            "flex": null,
            "flex_flow": null,
            "grid_area": null,
            "grid_auto_columns": null,
            "grid_auto_flow": null,
            "grid_auto_rows": null,
            "grid_column": null,
            "grid_gap": null,
            "grid_row": null,
            "grid_template_areas": null,
            "grid_template_columns": null,
            "grid_template_rows": null,
            "height": null,
            "justify_content": null,
            "justify_items": null,
            "left": null,
            "margin": null,
            "max_height": null,
            "max_width": null,
            "min_height": null,
            "min_width": null,
            "object_fit": null,
            "object_position": null,
            "order": null,
            "overflow": null,
            "overflow_x": null,
            "overflow_y": null,
            "padding": null,
            "right": null,
            "top": null,
            "visibility": null,
            "width": null
          }
        },
        "2f4d40c664d0459a9f184da3097b3011": {
          "model_module": "@jupyter-widgets/base",
          "model_name": "LayoutModel",
          "model_module_version": "1.2.0",
          "state": {
            "_model_module": "@jupyter-widgets/base",
            "_model_module_version": "1.2.0",
            "_model_name": "LayoutModel",
            "_view_count": null,
            "_view_module": "@jupyter-widgets/base",
            "_view_module_version": "1.2.0",
            "_view_name": "LayoutView",
            "align_content": null,
            "align_items": null,
            "align_self": null,
            "border": null,
            "bottom": null,
            "display": null,
            "flex": null,
            "flex_flow": null,
            "grid_area": null,
            "grid_auto_columns": null,
            "grid_auto_flow": null,
            "grid_auto_rows": null,
            "grid_column": null,
            "grid_gap": null,
            "grid_row": null,
            "grid_template_areas": null,
            "grid_template_columns": null,
            "grid_template_rows": null,
            "height": null,
            "justify_content": null,
            "justify_items": null,
            "left": null,
            "margin": null,
            "max_height": null,
            "max_width": null,
            "min_height": null,
            "min_width": null,
            "object_fit": null,
            "object_position": null,
            "order": null,
            "overflow": null,
            "overflow_x": null,
            "overflow_y": null,
            "padding": null,
            "right": null,
            "top": null,
            "visibility": null,
            "width": null
          }
        },
        "9e912348b08b4e83806fbcbe0ba8ae47": {
          "model_module": "@jupyter-widgets/controls",
          "model_name": "DescriptionStyleModel",
          "model_module_version": "1.5.0",
          "state": {
            "_model_module": "@jupyter-widgets/controls",
            "_model_module_version": "1.5.0",
            "_model_name": "DescriptionStyleModel",
            "_view_count": null,
            "_view_module": "@jupyter-widgets/base",
            "_view_module_version": "1.2.0",
            "_view_name": "StyleView",
            "description_width": ""
          }
        },
        "7b6e2038334b4c6295e4829e5492928b": {
          "model_module": "@jupyter-widgets/base",
          "model_name": "LayoutModel",
          "model_module_version": "1.2.0",
          "state": {
            "_model_module": "@jupyter-widgets/base",
            "_model_module_version": "1.2.0",
            "_model_name": "LayoutModel",
            "_view_count": null,
            "_view_module": "@jupyter-widgets/base",
            "_view_module_version": "1.2.0",
            "_view_name": "LayoutView",
            "align_content": null,
            "align_items": null,
            "align_self": null,
            "border": null,
            "bottom": null,
            "display": null,
            "flex": null,
            "flex_flow": null,
            "grid_area": null,
            "grid_auto_columns": null,
            "grid_auto_flow": null,
            "grid_auto_rows": null,
            "grid_column": null,
            "grid_gap": null,
            "grid_row": null,
            "grid_template_areas": null,
            "grid_template_columns": null,
            "grid_template_rows": null,
            "height": null,
            "justify_content": null,
            "justify_items": null,
            "left": null,
            "margin": null,
            "max_height": null,
            "max_width": null,
            "min_height": null,
            "min_width": null,
            "object_fit": null,
            "object_position": null,
            "order": null,
            "overflow": null,
            "overflow_x": null,
            "overflow_y": null,
            "padding": null,
            "right": null,
            "top": null,
            "visibility": null,
            "width": null
          }
        },
        "dddf0031524041679dd32c3e6e6b1eef": {
          "model_module": "@jupyter-widgets/controls",
          "model_name": "ProgressStyleModel",
          "model_module_version": "1.5.0",
          "state": {
            "_model_module": "@jupyter-widgets/controls",
            "_model_module_version": "1.5.0",
            "_model_name": "ProgressStyleModel",
            "_view_count": null,
            "_view_module": "@jupyter-widgets/base",
            "_view_module_version": "1.2.0",
            "_view_name": "StyleView",
            "bar_color": null,
            "description_width": ""
          }
        },
        "f4fad018cc784727a16dad3ee1f7707f": {
          "model_module": "@jupyter-widgets/base",
          "model_name": "LayoutModel",
          "model_module_version": "1.2.0",
          "state": {
            "_model_module": "@jupyter-widgets/base",
            "_model_module_version": "1.2.0",
            "_model_name": "LayoutModel",
            "_view_count": null,
            "_view_module": "@jupyter-widgets/base",
            "_view_module_version": "1.2.0",
            "_view_name": "LayoutView",
            "align_content": null,
            "align_items": null,
            "align_self": null,
            "border": null,
            "bottom": null,
            "display": null,
            "flex": null,
            "flex_flow": null,
            "grid_area": null,
            "grid_auto_columns": null,
            "grid_auto_flow": null,
            "grid_auto_rows": null,
            "grid_column": null,
            "grid_gap": null,
            "grid_row": null,
            "grid_template_areas": null,
            "grid_template_columns": null,
            "grid_template_rows": null,
            "height": null,
            "justify_content": null,
            "justify_items": null,
            "left": null,
            "margin": null,
            "max_height": null,
            "max_width": null,
            "min_height": null,
            "min_width": null,
            "object_fit": null,
            "object_position": null,
            "order": null,
            "overflow": null,
            "overflow_x": null,
            "overflow_y": null,
            "padding": null,
            "right": null,
            "top": null,
            "visibility": null,
            "width": null
          }
        },
        "46924ca01b584459a9f4bd04aad18d0e": {
          "model_module": "@jupyter-widgets/controls",
          "model_name": "DescriptionStyleModel",
          "model_module_version": "1.5.0",
          "state": {
            "_model_module": "@jupyter-widgets/controls",
            "_model_module_version": "1.5.0",
            "_model_name": "DescriptionStyleModel",
            "_view_count": null,
            "_view_module": "@jupyter-widgets/base",
            "_view_module_version": "1.2.0",
            "_view_name": "StyleView",
            "description_width": ""
          }
        },
        "95fafb35b578406a95e0880311596657": {
          "model_module": "@jupyter-widgets/controls",
          "model_name": "HBoxModel",
          "model_module_version": "1.5.0",
          "state": {
            "_dom_classes": [],
            "_model_module": "@jupyter-widgets/controls",
            "_model_module_version": "1.5.0",
            "_model_name": "HBoxModel",
            "_view_count": null,
            "_view_module": "@jupyter-widgets/controls",
            "_view_module_version": "1.5.0",
            "_view_name": "HBoxView",
            "box_style": "",
            "children": [
              "IPY_MODEL_3a1bf40b52714d79ac416516cf6bab49",
              "IPY_MODEL_aeec9273e1924100a8ab2001b82ed2df",
              "IPY_MODEL_e8d1c01c13b04d779fff46061b7e621b"
            ],
            "layout": "IPY_MODEL_6e7a8d0db6274078a8323ad68a10fe32"
          }
        },
        "3a1bf40b52714d79ac416516cf6bab49": {
          "model_module": "@jupyter-widgets/controls",
          "model_name": "HTMLModel",
          "model_module_version": "1.5.0",
          "state": {
            "_dom_classes": [],
            "_model_module": "@jupyter-widgets/controls",
            "_model_module_version": "1.5.0",
            "_model_name": "HTMLModel",
            "_view_count": null,
            "_view_module": "@jupyter-widgets/controls",
            "_view_module_version": "1.5.0",
            "_view_name": "HTMLView",
            "description": "",
            "description_tooltip": null,
            "layout": "IPY_MODEL_cba665ed8a1f42349aba5cec5e74fa70",
            "placeholder": "​",
            "style": "IPY_MODEL_5fee738ab526459b946c986a7091b984",
            "value": "vocab.txt: 100%"
          }
        },
        "aeec9273e1924100a8ab2001b82ed2df": {
          "model_module": "@jupyter-widgets/controls",
          "model_name": "FloatProgressModel",
          "model_module_version": "1.5.0",
          "state": {
            "_dom_classes": [],
            "_model_module": "@jupyter-widgets/controls",
            "_model_module_version": "1.5.0",
            "_model_name": "FloatProgressModel",
            "_view_count": null,
            "_view_module": "@jupyter-widgets/controls",
            "_view_module_version": "1.5.0",
            "_view_name": "ProgressView",
            "bar_style": "success",
            "description": "",
            "description_tooltip": null,
            "layout": "IPY_MODEL_6e1400ae6dc248a988ef7f8bbfd09dc9",
            "max": 231508,
            "min": 0,
            "orientation": "horizontal",
            "style": "IPY_MODEL_b464ddd148aa4535aeed989adceef61c",
            "value": 231508
          }
        },
        "e8d1c01c13b04d779fff46061b7e621b": {
          "model_module": "@jupyter-widgets/controls",
          "model_name": "HTMLModel",
          "model_module_version": "1.5.0",
          "state": {
            "_dom_classes": [],
            "_model_module": "@jupyter-widgets/controls",
            "_model_module_version": "1.5.0",
            "_model_name": "HTMLModel",
            "_view_count": null,
            "_view_module": "@jupyter-widgets/controls",
            "_view_module_version": "1.5.0",
            "_view_name": "HTMLView",
            "description": "",
            "description_tooltip": null,
            "layout": "IPY_MODEL_64836531283448f893e3931bf83c2d0d",
            "placeholder": "​",
            "style": "IPY_MODEL_9e4aeb8e72214749913c2d8c469bad8d",
            "value": " 232k/232k [00:00&lt;00:00, 3.20MB/s]"
          }
        },
        "6e7a8d0db6274078a8323ad68a10fe32": {
          "model_module": "@jupyter-widgets/base",
          "model_name": "LayoutModel",
          "model_module_version": "1.2.0",
          "state": {
            "_model_module": "@jupyter-widgets/base",
            "_model_module_version": "1.2.0",
            "_model_name": "LayoutModel",
            "_view_count": null,
            "_view_module": "@jupyter-widgets/base",
            "_view_module_version": "1.2.0",
            "_view_name": "LayoutView",
            "align_content": null,
            "align_items": null,
            "align_self": null,
            "border": null,
            "bottom": null,
            "display": null,
            "flex": null,
            "flex_flow": null,
            "grid_area": null,
            "grid_auto_columns": null,
            "grid_auto_flow": null,
            "grid_auto_rows": null,
            "grid_column": null,
            "grid_gap": null,
            "grid_row": null,
            "grid_template_areas": null,
            "grid_template_columns": null,
            "grid_template_rows": null,
            "height": null,
            "justify_content": null,
            "justify_items": null,
            "left": null,
            "margin": null,
            "max_height": null,
            "max_width": null,
            "min_height": null,
            "min_width": null,
            "object_fit": null,
            "object_position": null,
            "order": null,
            "overflow": null,
            "overflow_x": null,
            "overflow_y": null,
            "padding": null,
            "right": null,
            "top": null,
            "visibility": null,
            "width": null
          }
        },
        "cba665ed8a1f42349aba5cec5e74fa70": {
          "model_module": "@jupyter-widgets/base",
          "model_name": "LayoutModel",
          "model_module_version": "1.2.0",
          "state": {
            "_model_module": "@jupyter-widgets/base",
            "_model_module_version": "1.2.0",
            "_model_name": "LayoutModel",
            "_view_count": null,
            "_view_module": "@jupyter-widgets/base",
            "_view_module_version": "1.2.0",
            "_view_name": "LayoutView",
            "align_content": null,
            "align_items": null,
            "align_self": null,
            "border": null,
            "bottom": null,
            "display": null,
            "flex": null,
            "flex_flow": null,
            "grid_area": null,
            "grid_auto_columns": null,
            "grid_auto_flow": null,
            "grid_auto_rows": null,
            "grid_column": null,
            "grid_gap": null,
            "grid_row": null,
            "grid_template_areas": null,
            "grid_template_columns": null,
            "grid_template_rows": null,
            "height": null,
            "justify_content": null,
            "justify_items": null,
            "left": null,
            "margin": null,
            "max_height": null,
            "max_width": null,
            "min_height": null,
            "min_width": null,
            "object_fit": null,
            "object_position": null,
            "order": null,
            "overflow": null,
            "overflow_x": null,
            "overflow_y": null,
            "padding": null,
            "right": null,
            "top": null,
            "visibility": null,
            "width": null
          }
        },
        "5fee738ab526459b946c986a7091b984": {
          "model_module": "@jupyter-widgets/controls",
          "model_name": "DescriptionStyleModel",
          "model_module_version": "1.5.0",
          "state": {
            "_model_module": "@jupyter-widgets/controls",
            "_model_module_version": "1.5.0",
            "_model_name": "DescriptionStyleModel",
            "_view_count": null,
            "_view_module": "@jupyter-widgets/base",
            "_view_module_version": "1.2.0",
            "_view_name": "StyleView",
            "description_width": ""
          }
        },
        "6e1400ae6dc248a988ef7f8bbfd09dc9": {
          "model_module": "@jupyter-widgets/base",
          "model_name": "LayoutModel",
          "model_module_version": "1.2.0",
          "state": {
            "_model_module": "@jupyter-widgets/base",
            "_model_module_version": "1.2.0",
            "_model_name": "LayoutModel",
            "_view_count": null,
            "_view_module": "@jupyter-widgets/base",
            "_view_module_version": "1.2.0",
            "_view_name": "LayoutView",
            "align_content": null,
            "align_items": null,
            "align_self": null,
            "border": null,
            "bottom": null,
            "display": null,
            "flex": null,
            "flex_flow": null,
            "grid_area": null,
            "grid_auto_columns": null,
            "grid_auto_flow": null,
            "grid_auto_rows": null,
            "grid_column": null,
            "grid_gap": null,
            "grid_row": null,
            "grid_template_areas": null,
            "grid_template_columns": null,
            "grid_template_rows": null,
            "height": null,
            "justify_content": null,
            "justify_items": null,
            "left": null,
            "margin": null,
            "max_height": null,
            "max_width": null,
            "min_height": null,
            "min_width": null,
            "object_fit": null,
            "object_position": null,
            "order": null,
            "overflow": null,
            "overflow_x": null,
            "overflow_y": null,
            "padding": null,
            "right": null,
            "top": null,
            "visibility": null,
            "width": null
          }
        },
        "b464ddd148aa4535aeed989adceef61c": {
          "model_module": "@jupyter-widgets/controls",
          "model_name": "ProgressStyleModel",
          "model_module_version": "1.5.0",
          "state": {
            "_model_module": "@jupyter-widgets/controls",
            "_model_module_version": "1.5.0",
            "_model_name": "ProgressStyleModel",
            "_view_count": null,
            "_view_module": "@jupyter-widgets/base",
            "_view_module_version": "1.2.0",
            "_view_name": "StyleView",
            "bar_color": null,
            "description_width": ""
          }
        },
        "64836531283448f893e3931bf83c2d0d": {
          "model_module": "@jupyter-widgets/base",
          "model_name": "LayoutModel",
          "model_module_version": "1.2.0",
          "state": {
            "_model_module": "@jupyter-widgets/base",
            "_model_module_version": "1.2.0",
            "_model_name": "LayoutModel",
            "_view_count": null,
            "_view_module": "@jupyter-widgets/base",
            "_view_module_version": "1.2.0",
            "_view_name": "LayoutView",
            "align_content": null,
            "align_items": null,
            "align_self": null,
            "border": null,
            "bottom": null,
            "display": null,
            "flex": null,
            "flex_flow": null,
            "grid_area": null,
            "grid_auto_columns": null,
            "grid_auto_flow": null,
            "grid_auto_rows": null,
            "grid_column": null,
            "grid_gap": null,
            "grid_row": null,
            "grid_template_areas": null,
            "grid_template_columns": null,
            "grid_template_rows": null,
            "height": null,
            "justify_content": null,
            "justify_items": null,
            "left": null,
            "margin": null,
            "max_height": null,
            "max_width": null,
            "min_height": null,
            "min_width": null,
            "object_fit": null,
            "object_position": null,
            "order": null,
            "overflow": null,
            "overflow_x": null,
            "overflow_y": null,
            "padding": null,
            "right": null,
            "top": null,
            "visibility": null,
            "width": null
          }
        },
        "9e4aeb8e72214749913c2d8c469bad8d": {
          "model_module": "@jupyter-widgets/controls",
          "model_name": "DescriptionStyleModel",
          "model_module_version": "1.5.0",
          "state": {
            "_model_module": "@jupyter-widgets/controls",
            "_model_module_version": "1.5.0",
            "_model_name": "DescriptionStyleModel",
            "_view_count": null,
            "_view_module": "@jupyter-widgets/base",
            "_view_module_version": "1.2.0",
            "_view_name": "StyleView",
            "description_width": ""
          }
        },
        "2dfcbf4b25c44b8c92bda13ceae16d99": {
          "model_module": "@jupyter-widgets/controls",
          "model_name": "HBoxModel",
          "model_module_version": "1.5.0",
          "state": {
            "_dom_classes": [],
            "_model_module": "@jupyter-widgets/controls",
            "_model_module_version": "1.5.0",
            "_model_name": "HBoxModel",
            "_view_count": null,
            "_view_module": "@jupyter-widgets/controls",
            "_view_module_version": "1.5.0",
            "_view_name": "HBoxView",
            "box_style": "",
            "children": [
              "IPY_MODEL_79581f5e411d4a61ae56fda84edcbe57",
              "IPY_MODEL_15b9aead03f34119b0ac08768448d71e",
              "IPY_MODEL_e1eefbc7b1c64b1182e0cae4bbed3f6a"
            ],
            "layout": "IPY_MODEL_1690ff0240674b36a12504fd5889f400"
          }
        },
        "79581f5e411d4a61ae56fda84edcbe57": {
          "model_module": "@jupyter-widgets/controls",
          "model_name": "HTMLModel",
          "model_module_version": "1.5.0",
          "state": {
            "_dom_classes": [],
            "_model_module": "@jupyter-widgets/controls",
            "_model_module_version": "1.5.0",
            "_model_name": "HTMLModel",
            "_view_count": null,
            "_view_module": "@jupyter-widgets/controls",
            "_view_module_version": "1.5.0",
            "_view_name": "HTMLView",
            "description": "",
            "description_tooltip": null,
            "layout": "IPY_MODEL_5687afb3310244378ad18bd1f0e41c23",
            "placeholder": "​",
            "style": "IPY_MODEL_53f88717205846759f0e8d6ca610a624",
            "value": "tokenizer.json: 100%"
          }
        },
        "15b9aead03f34119b0ac08768448d71e": {
          "model_module": "@jupyter-widgets/controls",
          "model_name": "FloatProgressModel",
          "model_module_version": "1.5.0",
          "state": {
            "_dom_classes": [],
            "_model_module": "@jupyter-widgets/controls",
            "_model_module_version": "1.5.0",
            "_model_name": "FloatProgressModel",
            "_view_count": null,
            "_view_module": "@jupyter-widgets/controls",
            "_view_module_version": "1.5.0",
            "_view_name": "ProgressView",
            "bar_style": "success",
            "description": "",
            "description_tooltip": null,
            "layout": "IPY_MODEL_2a06e4b3de1e4b1895eebde75a232add",
            "max": 466062,
            "min": 0,
            "orientation": "horizontal",
            "style": "IPY_MODEL_344f003cfa0e4dbdb12b92f00c259968",
            "value": 466062
          }
        },
        "e1eefbc7b1c64b1182e0cae4bbed3f6a": {
          "model_module": "@jupyter-widgets/controls",
          "model_name": "HTMLModel",
          "model_module_version": "1.5.0",
          "state": {
            "_dom_classes": [],
            "_model_module": "@jupyter-widgets/controls",
            "_model_module_version": "1.5.0",
            "_model_name": "HTMLModel",
            "_view_count": null,
            "_view_module": "@jupyter-widgets/controls",
            "_view_module_version": "1.5.0",
            "_view_name": "HTMLView",
            "description": "",
            "description_tooltip": null,
            "layout": "IPY_MODEL_2762a55745b84b209b66bb5c95faa627",
            "placeholder": "​",
            "style": "IPY_MODEL_c9ec8689cb86450cb752ce434c4946da",
            "value": " 466k/466k [00:00&lt;00:00, 3.56MB/s]"
          }
        },
        "1690ff0240674b36a12504fd5889f400": {
          "model_module": "@jupyter-widgets/base",
          "model_name": "LayoutModel",
          "model_module_version": "1.2.0",
          "state": {
            "_model_module": "@jupyter-widgets/base",
            "_model_module_version": "1.2.0",
            "_model_name": "LayoutModel",
            "_view_count": null,
            "_view_module": "@jupyter-widgets/base",
            "_view_module_version": "1.2.0",
            "_view_name": "LayoutView",
            "align_content": null,
            "align_items": null,
            "align_self": null,
            "border": null,
            "bottom": null,
            "display": null,
            "flex": null,
            "flex_flow": null,
            "grid_area": null,
            "grid_auto_columns": null,
            "grid_auto_flow": null,
            "grid_auto_rows": null,
            "grid_column": null,
            "grid_gap": null,
            "grid_row": null,
            "grid_template_areas": null,
            "grid_template_columns": null,
            "grid_template_rows": null,
            "height": null,
            "justify_content": null,
            "justify_items": null,
            "left": null,
            "margin": null,
            "max_height": null,
            "max_width": null,
            "min_height": null,
            "min_width": null,
            "object_fit": null,
            "object_position": null,
            "order": null,
            "overflow": null,
            "overflow_x": null,
            "overflow_y": null,
            "padding": null,
            "right": null,
            "top": null,
            "visibility": null,
            "width": null
          }
        },
        "5687afb3310244378ad18bd1f0e41c23": {
          "model_module": "@jupyter-widgets/base",
          "model_name": "LayoutModel",
          "model_module_version": "1.2.0",
          "state": {
            "_model_module": "@jupyter-widgets/base",
            "_model_module_version": "1.2.0",
            "_model_name": "LayoutModel",
            "_view_count": null,
            "_view_module": "@jupyter-widgets/base",
            "_view_module_version": "1.2.0",
            "_view_name": "LayoutView",
            "align_content": null,
            "align_items": null,
            "align_self": null,
            "border": null,
            "bottom": null,
            "display": null,
            "flex": null,
            "flex_flow": null,
            "grid_area": null,
            "grid_auto_columns": null,
            "grid_auto_flow": null,
            "grid_auto_rows": null,
            "grid_column": null,
            "grid_gap": null,
            "grid_row": null,
            "grid_template_areas": null,
            "grid_template_columns": null,
            "grid_template_rows": null,
            "height": null,
            "justify_content": null,
            "justify_items": null,
            "left": null,
            "margin": null,
            "max_height": null,
            "max_width": null,
            "min_height": null,
            "min_width": null,
            "object_fit": null,
            "object_position": null,
            "order": null,
            "overflow": null,
            "overflow_x": null,
            "overflow_y": null,
            "padding": null,
            "right": null,
            "top": null,
            "visibility": null,
            "width": null
          }
        },
        "53f88717205846759f0e8d6ca610a624": {
          "model_module": "@jupyter-widgets/controls",
          "model_name": "DescriptionStyleModel",
          "model_module_version": "1.5.0",
          "state": {
            "_model_module": "@jupyter-widgets/controls",
            "_model_module_version": "1.5.0",
            "_model_name": "DescriptionStyleModel",
            "_view_count": null,
            "_view_module": "@jupyter-widgets/base",
            "_view_module_version": "1.2.0",
            "_view_name": "StyleView",
            "description_width": ""
          }
        },
        "2a06e4b3de1e4b1895eebde75a232add": {
          "model_module": "@jupyter-widgets/base",
          "model_name": "LayoutModel",
          "model_module_version": "1.2.0",
          "state": {
            "_model_module": "@jupyter-widgets/base",
            "_model_module_version": "1.2.0",
            "_model_name": "LayoutModel",
            "_view_count": null,
            "_view_module": "@jupyter-widgets/base",
            "_view_module_version": "1.2.0",
            "_view_name": "LayoutView",
            "align_content": null,
            "align_items": null,
            "align_self": null,
            "border": null,
            "bottom": null,
            "display": null,
            "flex": null,
            "flex_flow": null,
            "grid_area": null,
            "grid_auto_columns": null,
            "grid_auto_flow": null,
            "grid_auto_rows": null,
            "grid_column": null,
            "grid_gap": null,
            "grid_row": null,
            "grid_template_areas": null,
            "grid_template_columns": null,
            "grid_template_rows": null,
            "height": null,
            "justify_content": null,
            "justify_items": null,
            "left": null,
            "margin": null,
            "max_height": null,
            "max_width": null,
            "min_height": null,
            "min_width": null,
            "object_fit": null,
            "object_position": null,
            "order": null,
            "overflow": null,
            "overflow_x": null,
            "overflow_y": null,
            "padding": null,
            "right": null,
            "top": null,
            "visibility": null,
            "width": null
          }
        },
        "344f003cfa0e4dbdb12b92f00c259968": {
          "model_module": "@jupyter-widgets/controls",
          "model_name": "ProgressStyleModel",
          "model_module_version": "1.5.0",
          "state": {
            "_model_module": "@jupyter-widgets/controls",
            "_model_module_version": "1.5.0",
            "_model_name": "ProgressStyleModel",
            "_view_count": null,
            "_view_module": "@jupyter-widgets/base",
            "_view_module_version": "1.2.0",
            "_view_name": "StyleView",
            "bar_color": null,
            "description_width": ""
          }
        },
        "2762a55745b84b209b66bb5c95faa627": {
          "model_module": "@jupyter-widgets/base",
          "model_name": "LayoutModel",
          "model_module_version": "1.2.0",
          "state": {
            "_model_module": "@jupyter-widgets/base",
            "_model_module_version": "1.2.0",
            "_model_name": "LayoutModel",
            "_view_count": null,
            "_view_module": "@jupyter-widgets/base",
            "_view_module_version": "1.2.0",
            "_view_name": "LayoutView",
            "align_content": null,
            "align_items": null,
            "align_self": null,
            "border": null,
            "bottom": null,
            "display": null,
            "flex": null,
            "flex_flow": null,
            "grid_area": null,
            "grid_auto_columns": null,
            "grid_auto_flow": null,
            "grid_auto_rows": null,
            "grid_column": null,
            "grid_gap": null,
            "grid_row": null,
            "grid_template_areas": null,
            "grid_template_columns": null,
            "grid_template_rows": null,
            "height": null,
            "justify_content": null,
            "justify_items": null,
            "left": null,
            "margin": null,
            "max_height": null,
            "max_width": null,
            "min_height": null,
            "min_width": null,
            "object_fit": null,
            "object_position": null,
            "order": null,
            "overflow": null,
            "overflow_x": null,
            "overflow_y": null,
            "padding": null,
            "right": null,
            "top": null,
            "visibility": null,
            "width": null
          }
        },
        "c9ec8689cb86450cb752ce434c4946da": {
          "model_module": "@jupyter-widgets/controls",
          "model_name": "DescriptionStyleModel",
          "model_module_version": "1.5.0",
          "state": {
            "_model_module": "@jupyter-widgets/controls",
            "_model_module_version": "1.5.0",
            "_model_name": "DescriptionStyleModel",
            "_view_count": null,
            "_view_module": "@jupyter-widgets/base",
            "_view_module_version": "1.2.0",
            "_view_name": "StyleView",
            "description_width": ""
          }
        },
        "6b9645fd151646b3b18ae8422b46d707": {
          "model_module": "@jupyter-widgets/controls",
          "model_name": "HBoxModel",
          "model_module_version": "1.5.0",
          "state": {
            "_dom_classes": [],
            "_model_module": "@jupyter-widgets/controls",
            "_model_module_version": "1.5.0",
            "_model_name": "HBoxModel",
            "_view_count": null,
            "_view_module": "@jupyter-widgets/controls",
            "_view_module_version": "1.5.0",
            "_view_name": "HBoxView",
            "box_style": "",
            "children": [
              "IPY_MODEL_54649e8c70cb40b1bd7d67287f4b1c20",
              "IPY_MODEL_ea3208e5f02542019c61d84a5d64c4e8",
              "IPY_MODEL_086fb507817441278bee6e5b855ec0e4"
            ],
            "layout": "IPY_MODEL_8e4f941951a74d6ab76fe71e56bd2b71"
          }
        },
        "54649e8c70cb40b1bd7d67287f4b1c20": {
          "model_module": "@jupyter-widgets/controls",
          "model_name": "HTMLModel",
          "model_module_version": "1.5.0",
          "state": {
            "_dom_classes": [],
            "_model_module": "@jupyter-widgets/controls",
            "_model_module_version": "1.5.0",
            "_model_name": "HTMLModel",
            "_view_count": null,
            "_view_module": "@jupyter-widgets/controls",
            "_view_module_version": "1.5.0",
            "_view_name": "HTMLView",
            "description": "",
            "description_tooltip": null,
            "layout": "IPY_MODEL_b0ebb74a49d543839de200a028f69d59",
            "placeholder": "​",
            "style": "IPY_MODEL_99273d5014b14d7c92b5cc5a15e34425",
            "value": "config.json: 100%"
          }
        },
        "ea3208e5f02542019c61d84a5d64c4e8": {
          "model_module": "@jupyter-widgets/controls",
          "model_name": "FloatProgressModel",
          "model_module_version": "1.5.0",
          "state": {
            "_dom_classes": [],
            "_model_module": "@jupyter-widgets/controls",
            "_model_module_version": "1.5.0",
            "_model_name": "FloatProgressModel",
            "_view_count": null,
            "_view_module": "@jupyter-widgets/controls",
            "_view_module_version": "1.5.0",
            "_view_name": "ProgressView",
            "bar_style": "success",
            "description": "",
            "description_tooltip": null,
            "layout": "IPY_MODEL_ac3402b5dc7d47e4be5a7ef75224620b",
            "max": 570,
            "min": 0,
            "orientation": "horizontal",
            "style": "IPY_MODEL_ffd7f4bf55a5483a8d69316128fe3427",
            "value": 570
          }
        },
        "086fb507817441278bee6e5b855ec0e4": {
          "model_module": "@jupyter-widgets/controls",
          "model_name": "HTMLModel",
          "model_module_version": "1.5.0",
          "state": {
            "_dom_classes": [],
            "_model_module": "@jupyter-widgets/controls",
            "_model_module_version": "1.5.0",
            "_model_name": "HTMLModel",
            "_view_count": null,
            "_view_module": "@jupyter-widgets/controls",
            "_view_module_version": "1.5.0",
            "_view_name": "HTMLView",
            "description": "",
            "description_tooltip": null,
            "layout": "IPY_MODEL_36171fe3344e4ae2ba3faf696a14be8f",
            "placeholder": "​",
            "style": "IPY_MODEL_a43e0c5fff074a6e8ad3e13d80fe9306",
            "value": " 570/570 [00:00&lt;00:00, 15.6kB/s]"
          }
        },
        "8e4f941951a74d6ab76fe71e56bd2b71": {
          "model_module": "@jupyter-widgets/base",
          "model_name": "LayoutModel",
          "model_module_version": "1.2.0",
          "state": {
            "_model_module": "@jupyter-widgets/base",
            "_model_module_version": "1.2.0",
            "_model_name": "LayoutModel",
            "_view_count": null,
            "_view_module": "@jupyter-widgets/base",
            "_view_module_version": "1.2.0",
            "_view_name": "LayoutView",
            "align_content": null,
            "align_items": null,
            "align_self": null,
            "border": null,
            "bottom": null,
            "display": null,
            "flex": null,
            "flex_flow": null,
            "grid_area": null,
            "grid_auto_columns": null,
            "grid_auto_flow": null,
            "grid_auto_rows": null,
            "grid_column": null,
            "grid_gap": null,
            "grid_row": null,
            "grid_template_areas": null,
            "grid_template_columns": null,
            "grid_template_rows": null,
            "height": null,
            "justify_content": null,
            "justify_items": null,
            "left": null,
            "margin": null,
            "max_height": null,
            "max_width": null,
            "min_height": null,
            "min_width": null,
            "object_fit": null,
            "object_position": null,
            "order": null,
            "overflow": null,
            "overflow_x": null,
            "overflow_y": null,
            "padding": null,
            "right": null,
            "top": null,
            "visibility": null,
            "width": null
          }
        },
        "b0ebb74a49d543839de200a028f69d59": {
          "model_module": "@jupyter-widgets/base",
          "model_name": "LayoutModel",
          "model_module_version": "1.2.0",
          "state": {
            "_model_module": "@jupyter-widgets/base",
            "_model_module_version": "1.2.0",
            "_model_name": "LayoutModel",
            "_view_count": null,
            "_view_module": "@jupyter-widgets/base",
            "_view_module_version": "1.2.0",
            "_view_name": "LayoutView",
            "align_content": null,
            "align_items": null,
            "align_self": null,
            "border": null,
            "bottom": null,
            "display": null,
            "flex": null,
            "flex_flow": null,
            "grid_area": null,
            "grid_auto_columns": null,
            "grid_auto_flow": null,
            "grid_auto_rows": null,
            "grid_column": null,
            "grid_gap": null,
            "grid_row": null,
            "grid_template_areas": null,
            "grid_template_columns": null,
            "grid_template_rows": null,
            "height": null,
            "justify_content": null,
            "justify_items": null,
            "left": null,
            "margin": null,
            "max_height": null,
            "max_width": null,
            "min_height": null,
            "min_width": null,
            "object_fit": null,
            "object_position": null,
            "order": null,
            "overflow": null,
            "overflow_x": null,
            "overflow_y": null,
            "padding": null,
            "right": null,
            "top": null,
            "visibility": null,
            "width": null
          }
        },
        "99273d5014b14d7c92b5cc5a15e34425": {
          "model_module": "@jupyter-widgets/controls",
          "model_name": "DescriptionStyleModel",
          "model_module_version": "1.5.0",
          "state": {
            "_model_module": "@jupyter-widgets/controls",
            "_model_module_version": "1.5.0",
            "_model_name": "DescriptionStyleModel",
            "_view_count": null,
            "_view_module": "@jupyter-widgets/base",
            "_view_module_version": "1.2.0",
            "_view_name": "StyleView",
            "description_width": ""
          }
        },
        "ac3402b5dc7d47e4be5a7ef75224620b": {
          "model_module": "@jupyter-widgets/base",
          "model_name": "LayoutModel",
          "model_module_version": "1.2.0",
          "state": {
            "_model_module": "@jupyter-widgets/base",
            "_model_module_version": "1.2.0",
            "_model_name": "LayoutModel",
            "_view_count": null,
            "_view_module": "@jupyter-widgets/base",
            "_view_module_version": "1.2.0",
            "_view_name": "LayoutView",
            "align_content": null,
            "align_items": null,
            "align_self": null,
            "border": null,
            "bottom": null,
            "display": null,
            "flex": null,
            "flex_flow": null,
            "grid_area": null,
            "grid_auto_columns": null,
            "grid_auto_flow": null,
            "grid_auto_rows": null,
            "grid_column": null,
            "grid_gap": null,
            "grid_row": null,
            "grid_template_areas": null,
            "grid_template_columns": null,
            "grid_template_rows": null,
            "height": null,
            "justify_content": null,
            "justify_items": null,
            "left": null,
            "margin": null,
            "max_height": null,
            "max_width": null,
            "min_height": null,
            "min_width": null,
            "object_fit": null,
            "object_position": null,
            "order": null,
            "overflow": null,
            "overflow_x": null,
            "overflow_y": null,
            "padding": null,
            "right": null,
            "top": null,
            "visibility": null,
            "width": null
          }
        },
        "ffd7f4bf55a5483a8d69316128fe3427": {
          "model_module": "@jupyter-widgets/controls",
          "model_name": "ProgressStyleModel",
          "model_module_version": "1.5.0",
          "state": {
            "_model_module": "@jupyter-widgets/controls",
            "_model_module_version": "1.5.0",
            "_model_name": "ProgressStyleModel",
            "_view_count": null,
            "_view_module": "@jupyter-widgets/base",
            "_view_module_version": "1.2.0",
            "_view_name": "StyleView",
            "bar_color": null,
            "description_width": ""
          }
        },
        "36171fe3344e4ae2ba3faf696a14be8f": {
          "model_module": "@jupyter-widgets/base",
          "model_name": "LayoutModel",
          "model_module_version": "1.2.0",
          "state": {
            "_model_module": "@jupyter-widgets/base",
            "_model_module_version": "1.2.0",
            "_model_name": "LayoutModel",
            "_view_count": null,
            "_view_module": "@jupyter-widgets/base",
            "_view_module_version": "1.2.0",
            "_view_name": "LayoutView",
            "align_content": null,
            "align_items": null,
            "align_self": null,
            "border": null,
            "bottom": null,
            "display": null,
            "flex": null,
            "flex_flow": null,
            "grid_area": null,
            "grid_auto_columns": null,
            "grid_auto_flow": null,
            "grid_auto_rows": null,
            "grid_column": null,
            "grid_gap": null,
            "grid_row": null,
            "grid_template_areas": null,
            "grid_template_columns": null,
            "grid_template_rows": null,
            "height": null,
            "justify_content": null,
            "justify_items": null,
            "left": null,
            "margin": null,
            "max_height": null,
            "max_width": null,
            "min_height": null,
            "min_width": null,
            "object_fit": null,
            "object_position": null,
            "order": null,
            "overflow": null,
            "overflow_x": null,
            "overflow_y": null,
            "padding": null,
            "right": null,
            "top": null,
            "visibility": null,
            "width": null
          }
        },
        "a43e0c5fff074a6e8ad3e13d80fe9306": {
          "model_module": "@jupyter-widgets/controls",
          "model_name": "DescriptionStyleModel",
          "model_module_version": "1.5.0",
          "state": {
            "_model_module": "@jupyter-widgets/controls",
            "_model_module_version": "1.5.0",
            "_model_name": "DescriptionStyleModel",
            "_view_count": null,
            "_view_module": "@jupyter-widgets/base",
            "_view_module_version": "1.2.0",
            "_view_name": "StyleView",
            "description_width": ""
          }
        },
        "d61c9eeb0f9447d4b6fc21e8da4a5066": {
          "model_module": "@jupyter-widgets/controls",
          "model_name": "HBoxModel",
          "model_module_version": "1.5.0",
          "state": {
            "_dom_classes": [],
            "_model_module": "@jupyter-widgets/controls",
            "_model_module_version": "1.5.0",
            "_model_name": "HBoxModel",
            "_view_count": null,
            "_view_module": "@jupyter-widgets/controls",
            "_view_module_version": "1.5.0",
            "_view_name": "HBoxView",
            "box_style": "",
            "children": [
              "IPY_MODEL_2c6d7bdc09d7462fa5ba165378578524",
              "IPY_MODEL_d626419bc56e4693a9919236309ce6b0",
              "IPY_MODEL_2651e5f545f644eb8a7f0c8031cfc1d9"
            ],
            "layout": "IPY_MODEL_d000b85e26cd48b59818531f43d59773"
          }
        },
        "2c6d7bdc09d7462fa5ba165378578524": {
          "model_module": "@jupyter-widgets/controls",
          "model_name": "HTMLModel",
          "model_module_version": "1.5.0",
          "state": {
            "_dom_classes": [],
            "_model_module": "@jupyter-widgets/controls",
            "_model_module_version": "1.5.0",
            "_model_name": "HTMLModel",
            "_view_count": null,
            "_view_module": "@jupyter-widgets/controls",
            "_view_module_version": "1.5.0",
            "_view_name": "HTMLView",
            "description": "",
            "description_tooltip": null,
            "layout": "IPY_MODEL_3373380c973d4f59b3c3482adf8b6d5b",
            "placeholder": "​",
            "style": "IPY_MODEL_ea1c4da3ba6742639eaf0bf62196bc5d",
            "value": "model.safetensors: 100%"
          }
        },
        "d626419bc56e4693a9919236309ce6b0": {
          "model_module": "@jupyter-widgets/controls",
          "model_name": "FloatProgressModel",
          "model_module_version": "1.5.0",
          "state": {
            "_dom_classes": [],
            "_model_module": "@jupyter-widgets/controls",
            "_model_module_version": "1.5.0",
            "_model_name": "FloatProgressModel",
            "_view_count": null,
            "_view_module": "@jupyter-widgets/controls",
            "_view_module_version": "1.5.0",
            "_view_name": "ProgressView",
            "bar_style": "success",
            "description": "",
            "description_tooltip": null,
            "layout": "IPY_MODEL_9586580ee8bc4656901b5a5f940d0aba",
            "max": 440449768,
            "min": 0,
            "orientation": "horizontal",
            "style": "IPY_MODEL_f1c251e7893b410588a3b5feb47979f9",
            "value": 440449768
          }
        },
        "2651e5f545f644eb8a7f0c8031cfc1d9": {
          "model_module": "@jupyter-widgets/controls",
          "model_name": "HTMLModel",
          "model_module_version": "1.5.0",
          "state": {
            "_dom_classes": [],
            "_model_module": "@jupyter-widgets/controls",
            "_model_module_version": "1.5.0",
            "_model_name": "HTMLModel",
            "_view_count": null,
            "_view_module": "@jupyter-widgets/controls",
            "_view_module_version": "1.5.0",
            "_view_name": "HTMLView",
            "description": "",
            "description_tooltip": null,
            "layout": "IPY_MODEL_1c5213fc80a44fc6bebfae21665ea8d9",
            "placeholder": "​",
            "style": "IPY_MODEL_247302a869bb421ab9f104afd4e646a7",
            "value": " 440M/440M [00:05&lt;00:00, 166MB/s]"
          }
        },
        "d000b85e26cd48b59818531f43d59773": {
          "model_module": "@jupyter-widgets/base",
          "model_name": "LayoutModel",
          "model_module_version": "1.2.0",
          "state": {
            "_model_module": "@jupyter-widgets/base",
            "_model_module_version": "1.2.0",
            "_model_name": "LayoutModel",
            "_view_count": null,
            "_view_module": "@jupyter-widgets/base",
            "_view_module_version": "1.2.0",
            "_view_name": "LayoutView",
            "align_content": null,
            "align_items": null,
            "align_self": null,
            "border": null,
            "bottom": null,
            "display": null,
            "flex": null,
            "flex_flow": null,
            "grid_area": null,
            "grid_auto_columns": null,
            "grid_auto_flow": null,
            "grid_auto_rows": null,
            "grid_column": null,
            "grid_gap": null,
            "grid_row": null,
            "grid_template_areas": null,
            "grid_template_columns": null,
            "grid_template_rows": null,
            "height": null,
            "justify_content": null,
            "justify_items": null,
            "left": null,
            "margin": null,
            "max_height": null,
            "max_width": null,
            "min_height": null,
            "min_width": null,
            "object_fit": null,
            "object_position": null,
            "order": null,
            "overflow": null,
            "overflow_x": null,
            "overflow_y": null,
            "padding": null,
            "right": null,
            "top": null,
            "visibility": null,
            "width": null
          }
        },
        "3373380c973d4f59b3c3482adf8b6d5b": {
          "model_module": "@jupyter-widgets/base",
          "model_name": "LayoutModel",
          "model_module_version": "1.2.0",
          "state": {
            "_model_module": "@jupyter-widgets/base",
            "_model_module_version": "1.2.0",
            "_model_name": "LayoutModel",
            "_view_count": null,
            "_view_module": "@jupyter-widgets/base",
            "_view_module_version": "1.2.0",
            "_view_name": "LayoutView",
            "align_content": null,
            "align_items": null,
            "align_self": null,
            "border": null,
            "bottom": null,
            "display": null,
            "flex": null,
            "flex_flow": null,
            "grid_area": null,
            "grid_auto_columns": null,
            "grid_auto_flow": null,
            "grid_auto_rows": null,
            "grid_column": null,
            "grid_gap": null,
            "grid_row": null,
            "grid_template_areas": null,
            "grid_template_columns": null,
            "grid_template_rows": null,
            "height": null,
            "justify_content": null,
            "justify_items": null,
            "left": null,
            "margin": null,
            "max_height": null,
            "max_width": null,
            "min_height": null,
            "min_width": null,
            "object_fit": null,
            "object_position": null,
            "order": null,
            "overflow": null,
            "overflow_x": null,
            "overflow_y": null,
            "padding": null,
            "right": null,
            "top": null,
            "visibility": null,
            "width": null
          }
        },
        "ea1c4da3ba6742639eaf0bf62196bc5d": {
          "model_module": "@jupyter-widgets/controls",
          "model_name": "DescriptionStyleModel",
          "model_module_version": "1.5.0",
          "state": {
            "_model_module": "@jupyter-widgets/controls",
            "_model_module_version": "1.5.0",
            "_model_name": "DescriptionStyleModel",
            "_view_count": null,
            "_view_module": "@jupyter-widgets/base",
            "_view_module_version": "1.2.0",
            "_view_name": "StyleView",
            "description_width": ""
          }
        },
        "9586580ee8bc4656901b5a5f940d0aba": {
          "model_module": "@jupyter-widgets/base",
          "model_name": "LayoutModel",
          "model_module_version": "1.2.0",
          "state": {
            "_model_module": "@jupyter-widgets/base",
            "_model_module_version": "1.2.0",
            "_model_name": "LayoutModel",
            "_view_count": null,
            "_view_module": "@jupyter-widgets/base",
            "_view_module_version": "1.2.0",
            "_view_name": "LayoutView",
            "align_content": null,
            "align_items": null,
            "align_self": null,
            "border": null,
            "bottom": null,
            "display": null,
            "flex": null,
            "flex_flow": null,
            "grid_area": null,
            "grid_auto_columns": null,
            "grid_auto_flow": null,
            "grid_auto_rows": null,
            "grid_column": null,
            "grid_gap": null,
            "grid_row": null,
            "grid_template_areas": null,
            "grid_template_columns": null,
            "grid_template_rows": null,
            "height": null,
            "justify_content": null,
            "justify_items": null,
            "left": null,
            "margin": null,
            "max_height": null,
            "max_width": null,
            "min_height": null,
            "min_width": null,
            "object_fit": null,
            "object_position": null,
            "order": null,
            "overflow": null,
            "overflow_x": null,
            "overflow_y": null,
            "padding": null,
            "right": null,
            "top": null,
            "visibility": null,
            "width": null
          }
        },
        "f1c251e7893b410588a3b5feb47979f9": {
          "model_module": "@jupyter-widgets/controls",
          "model_name": "ProgressStyleModel",
          "model_module_version": "1.5.0",
          "state": {
            "_model_module": "@jupyter-widgets/controls",
            "_model_module_version": "1.5.0",
            "_model_name": "ProgressStyleModel",
            "_view_count": null,
            "_view_module": "@jupyter-widgets/base",
            "_view_module_version": "1.2.0",
            "_view_name": "StyleView",
            "bar_color": null,
            "description_width": ""
          }
        },
        "1c5213fc80a44fc6bebfae21665ea8d9": {
          "model_module": "@jupyter-widgets/base",
          "model_name": "LayoutModel",
          "model_module_version": "1.2.0",
          "state": {
            "_model_module": "@jupyter-widgets/base",
            "_model_module_version": "1.2.0",
            "_model_name": "LayoutModel",
            "_view_count": null,
            "_view_module": "@jupyter-widgets/base",
            "_view_module_version": "1.2.0",
            "_view_name": "LayoutView",
            "align_content": null,
            "align_items": null,
            "align_self": null,
            "border": null,
            "bottom": null,
            "display": null,
            "flex": null,
            "flex_flow": null,
            "grid_area": null,
            "grid_auto_columns": null,
            "grid_auto_flow": null,
            "grid_auto_rows": null,
            "grid_column": null,
            "grid_gap": null,
            "grid_row": null,
            "grid_template_areas": null,
            "grid_template_columns": null,
            "grid_template_rows": null,
            "height": null,
            "justify_content": null,
            "justify_items": null,
            "left": null,
            "margin": null,
            "max_height": null,
            "max_width": null,
            "min_height": null,
            "min_width": null,
            "object_fit": null,
            "object_position": null,
            "order": null,
            "overflow": null,
            "overflow_x": null,
            "overflow_y": null,
            "padding": null,
            "right": null,
            "top": null,
            "visibility": null,
            "width": null
          }
        },
        "247302a869bb421ab9f104afd4e646a7": {
          "model_module": "@jupyter-widgets/controls",
          "model_name": "DescriptionStyleModel",
          "model_module_version": "1.5.0",
          "state": {
            "_model_module": "@jupyter-widgets/controls",
            "_model_module_version": "1.5.0",
            "_model_name": "DescriptionStyleModel",
            "_view_count": null,
            "_view_module": "@jupyter-widgets/base",
            "_view_module_version": "1.2.0",
            "_view_name": "StyleView",
            "description_width": ""
          }
        }
      }
    }
  },
  "nbformat": 4,
  "nbformat_minor": 0
}